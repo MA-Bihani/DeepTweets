{
  "nbformat": 4,
  "nbformat_minor": 0,
  "metadata": {
    "colab": {
      "name": "Oracle Task.ipynb",
      "provenance": [],
      "collapsed_sections": [],
      "toc_visible": true
    },
    "kernelspec": {
      "name": "python3",
      "display_name": "Python 3"
    }
  },
  "cells": [
    {
      "cell_type": "code",
      "metadata": {
        "id": "n7s_knzzn73N",
        "colab_type": "code",
        "outputId": "feac51b1-ba7a-422d-99b8-3e3c192f3737",
        "colab": {
          "base_uri": "https://localhost:8080/",
          "height": 85
        }
      },
      "source": [
        "import numpy as np\n",
        "import pandas as pd\n",
        "import string\n",
        "import re\n",
        "import nltk\n",
        "import matplotlib.pyplot as plt\n",
        "import scipy.stats as st\n",
        "import seaborn as sns\n",
        "import pandas_profiling\n",
        "import requests \n",
        "%matplotlib inline\n",
        "from matplotlib import pyplot as plt\n",
        "from sklearn.datasets import load_files\n",
        "from sklearn.model_selection import train_test_split\n",
        "from sklearn.neighbors import KNeighborsClassifier\n",
        "from nltk.tokenize import word_tokenize\n",
        "nltk.download('stopwords')\n",
        "nltk.download\n",
        "nltk.download('punkt')\n",
        "import pickle\n",
        "from nltk.corpus import stopwords"
      ],
      "execution_count": 0,
      "outputs": [
        {
          "output_type": "stream",
          "text": [
            "[nltk_data] Downloading package stopwords to /root/nltk_data...\n",
            "[nltk_data]   Unzipping corpora/stopwords.zip.\n",
            "[nltk_data] Downloading package punkt to /root/nltk_data...\n",
            "[nltk_data]   Unzipping tokenizers/punkt.zip.\n"
          ],
          "name": "stdout"
        }
      ]
    },
    {
      "cell_type": "code",
      "metadata": {
        "id": "7XSn2kle9WsF",
        "colab_type": "code",
        "outputId": "f5121457-f737-4eb6-968d-f49402ae4b68",
        "colab": {
          "base_uri": "https://localhost:8080/",
          "height": 80
        }
      },
      "source": [
        "from numpy import array\n",
        "from keras.preprocessing.text import one_hot\n",
        "from keras.preprocessing.sequence import pad_sequences\n",
        "from keras.models import Sequential\n",
        "from keras.layers.core import Activation, Dropout, Dense\n",
        "from keras.layers import Flatten\n",
        "from keras.layers import GlobalMaxPooling1D\n",
        "from keras.layers.embeddings import Embedding\n",
        "from sklearn.model_selection import train_test_split\n",
        "from keras.preprocessing.text import Tokenizer"
      ],
      "execution_count": 0,
      "outputs": [
        {
          "output_type": "stream",
          "text": [
            "Using TensorFlow backend.\n"
          ],
          "name": "stderr"
        },
        {
          "output_type": "display_data",
          "data": {
            "text/html": [
              "<p style=\"color: red;\">\n",
              "The default version of TensorFlow in Colab will soon switch to TensorFlow 2.x.<br>\n",
              "We recommend you <a href=\"https://www.tensorflow.org/guide/migrate\" target=\"_blank\">upgrade</a> now \n",
              "or ensure your notebook will continue to use TensorFlow 1.x via the <code>%tensorflow_version 1.x</code> magic:\n",
              "<a href=\"https://colab.research.google.com/notebooks/tensorflow_version.ipynb\" target=\"_blank\">more info</a>.</p>\n"
            ],
            "text/plain": [
              "<IPython.core.display.HTML object>"
            ]
          },
          "metadata": {
            "tags": []
          }
        }
      ]
    },
    {
      "cell_type": "code",
      "metadata": {
        "id": "kUo6uLmd_8sJ",
        "colab_type": "code",
        "colab": {}
      },
      "source": [
        "#we are going to use a kaggle text file that contains encodings of english words \n",
        "!pip install -U -q kaggle\n",
        "!mkdir -p ~/.kaggle\n"
      ],
      "execution_count": 0,
      "outputs": []
    },
    {
      "cell_type": "code",
      "metadata": {
        "id": "2VyovQAkqRRC",
        "colab_type": "code",
        "outputId": "9c307ea4-37bf-4397-d487-95362a011a25",
        "colab": {
          "resources": {
            "http://localhost:8080/nbextensions/google.colab/files.js": {
              "data": "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",
              "ok": true,
              "headers": [
                [
                  "content-type",
                  "application/javascript"
                ]
              ],
              "status": 200,
              "status_text": ""
            }
          },
          "base_uri": "https://localhost:8080/",
          "height": 74
        }
      },
      "source": [
        "#import your kaggle API key in order to load the kaggle file for words tokens processing (english ones) and the train.csv and test.csv\n",
        "from google.colab import files\n",
        "uploaded = files.upload()"
      ],
      "execution_count": 0,
      "outputs": [
        {
          "output_type": "display_data",
          "data": {
            "text/html": [
              "\n",
              "     <input type=\"file\" id=\"files-0acf492e-926b-4025-b95f-7a767a8db155\" name=\"files[]\" multiple disabled />\n",
              "     <output id=\"result-0acf492e-926b-4025-b95f-7a767a8db155\">\n",
              "      Upload widget is only available when the cell has been executed in the\n",
              "      current browser session. Please rerun this cell to enable.\n",
              "      </output>\n",
              "      <script src=\"/nbextensions/google.colab/files.js\"></script> "
            ],
            "text/plain": [
              "<IPython.core.display.HTML object>"
            ]
          },
          "metadata": {
            "tags": []
          }
        },
        {
          "output_type": "stream",
          "text": [
            "Saving kaggle.json to kaggle.json\n"
          ],
          "name": "stdout"
        }
      ]
    },
    {
      "cell_type": "code",
      "metadata": {
        "id": "weC-38sbAJnU",
        "colab_type": "code",
        "colab": {}
      },
      "source": [
        "# connecting to kaggle using your API\n",
        "!cp kaggle.json ~/.kaggle/"
      ],
      "execution_count": 0,
      "outputs": []
    },
    {
      "cell_type": "code",
      "metadata": {
        "id": "1NxNnlGKANsa",
        "colab_type": "code",
        "outputId": "9718e7f1-589c-479f-8fcf-28301b1b19b2",
        "colab": {
          "base_uri": "https://localhost:8080/",
          "height": 425
        }
      },
      "source": [
        "!kaggle datasets list"
      ],
      "execution_count": 0,
      "outputs": [
        {
          "output_type": "stream",
          "text": [
            "Warning: Your Kaggle API key is readable by other users on this system! To fix this, you can run 'chmod 600 /root/.kaggle/kaggle.json'\n",
            "Warning: Looks like you're using an outdated API Version, please consider updating (server 1.5.6 / client 1.5.4)\n",
            "ref                                                      title                                               size  lastUpdated          downloadCount  \n",
            "-------------------------------------------------------  -------------------------------------------------  -----  -------------------  -------------  \n",
            "gustavomodelli/forest-fires-in-brazil                    Forest Fires in Brazil                              31KB  2019-08-24 16:09:16          17403  \n",
            "rajeevw/ufcdata                                          UFC-Fight historical data from 1993 to 2019          3MB  2019-07-05 09:58:02          12394  \n",
            "tristan581/17k-apple-app-store-strategy-games            17K Mobile Strategy Games                            8MB  2019-08-26 08:22:16          13955  \n",
            "chirin/africa-economic-banking-and-systemic-crisis-data  Africa Economic, Banking and Systemic Crisis Data   14KB  2019-07-21 02:00:17           6378  \n",
            "akhilv11/border-crossing-entry-data                      Border Crossing Entry Data                           4MB  2019-08-21 14:51:34           7036  \n",
            "kapilverma/hindi-bible                                   Hindi Bible                                          5MB  2019-09-07 18:04:35            527  \n",
            "ruslankl/european-union-lgbt-survey-2012                 EU LGBT Survey                                     610KB  2019-07-19 11:15:25           2457  \n",
            "shuyangli94/food-com-recipes-and-user-interactions       Food.com Recipes and Interactions                  267MB  2019-11-08 01:18:21           4948  \n",
            "hmavrodiev/sofia-air-quality-dataset                     Sofia air quality dataset                            3GB  2019-09-14 05:48:09           2231  \n",
            "mabusalah/brent-oil-prices                               Brent Oil Prices                                    38KB  2019-10-14 12:31:05           2999  \n",
            "smid80/canadian-federal-election-results-timeseries      Canadian Federal Election Results (Timeseries)      18MB  2019-10-09 11:08:29           1171  \n",
            "nitinsss/military-expenditure-of-countries-19602019      Military Spending of Countries (1960-2019)          55KB  2019-10-10 12:17:37           5169  \n",
            "jojoker/singapore-airbnb                                 Singapore Airbnb                                   350KB  2019-09-25 22:05:44           4021  \n",
            "pascalbliem/european-social-survey-ess-8-ed21-201617     European Social Survey (ESS) 8 ed2.1 (2016/17)      10MB  2019-09-29 07:30:37           1308  \n",
            "brkurzawa/us-breweries                                   US Breweries                                        76KB  2019-10-02 03:15:27           3491  \n",
            "irinachuchueva/russian-wholesale-electricity-market      Russian Wholesale Electricity Market                 1MB  2019-10-09 08:20:57           1258  \n",
            "srikantsahu/co2-and-ghg-emission-data                    CO2 and GHG emission data                           91KB  2019-09-26 20:10:59           3123  \n",
            "grikomsn/amazon-cell-phones-reviews                      Amazon Cell Phones Reviews                          10MB  2019-09-29 02:26:48           4849  \n",
            "timoboz/random-numbers                                   Random numbers                                     123MB  2019-11-29 03:01:13             46  \n",
            "valentynsichkar/traffic-signs-preprocessed               Traffic Signs Preprocessed                           4GB  2019-08-31 18:22:11           2180  \n"
          ],
          "name": "stdout"
        }
      ]
    },
    {
      "cell_type": "code",
      "metadata": {
        "id": "l-TfgMVAASyD",
        "colab_type": "code",
        "outputId": "72cff5cb-822f-4818-dfe8-7508b12f9d54",
        "colab": {
          "base_uri": "https://localhost:8080/",
          "height": 102
        }
      },
      "source": [
        "#downloading the proper file, it is zipped so we'll need to unzip it\n",
        "!kaggle datasets download -d terenceliu4444/glove6b100dtxt/data#\n",
        "!ls"
      ],
      "execution_count": 0,
      "outputs": [
        {
          "output_type": "stream",
          "text": [
            "Warning: Your Kaggle API key is readable by other users on this system! To fix this, you can run 'chmod 600 /root/.kaggle/kaggle.json'\n",
            "Downloading glove6b100dtxt.zip to /content\n",
            "100% 131M/131M [00:02<00:00, 40.3MB/s]\n",
            "100% 131M/131M [00:02<00:00, 51.5MB/s]\n",
            "glove6b100dtxt.zip  kaggle.json  sample_data  test.csv\ttrain.csv\n"
          ],
          "name": "stdout"
        }
      ]
    },
    {
      "cell_type": "code",
      "metadata": {
        "id": "SNp6XIZRCD60",
        "colab_type": "code",
        "outputId": "924f7d8a-b7c1-4d3c-bd35-909a2e465f7a",
        "colab": {
          "base_uri": "https://localhost:8080/",
          "height": 51
        }
      },
      "source": [
        "#unzipping it\n",
        "!unzip /content/glove6b100dtxt.zip"
      ],
      "execution_count": 0,
      "outputs": [
        {
          "output_type": "stream",
          "text": [
            "Archive:  /content/glove6b100dtxt.zip\n",
            "  inflating: glove.6B.100d.txt       \n"
          ],
          "name": "stdout"
        }
      ]
    },
    {
      "cell_type": "code",
      "metadata": {
        "id": "sK6ABHrWqlWd",
        "colab_type": "code",
        "colab": {}
      },
      "source": [
        "# reading and checking our data\n",
        "train = pd.read_csv(r'train.csv')\n",
        "test = pd.read_csv(r'test.csv')"
      ],
      "execution_count": 0,
      "outputs": []
    },
    {
      "cell_type": "code",
      "metadata": {
        "id": "bUTxzYOp8XzB",
        "colab_type": "code",
        "colab": {}
      },
      "source": [
        "# we will use this later on to create the submission.csv file\n",
        "test_TweetId = test['TweetId'].values"
      ],
      "execution_count": 0,
      "outputs": []
    },
    {
      "cell_type": "code",
      "metadata": {
        "id": "gnUJxJbGzZ_g",
        "colab_type": "code",
        "outputId": "d8cea6b2-331a-4614-b571-c85ad20b10ce",
        "colab": {
          "base_uri": "https://localhost:8080/",
          "height": 204
        }
      },
      "source": [
        "train.head()"
      ],
      "execution_count": 0,
      "outputs": [
        {
          "output_type": "execute_result",
          "data": {
            "text/html": [
              "<div>\n",
              "<style scoped>\n",
              "    .dataframe tbody tr th:only-of-type {\n",
              "        vertical-align: middle;\n",
              "    }\n",
              "\n",
              "    .dataframe tbody tr th {\n",
              "        vertical-align: top;\n",
              "    }\n",
              "\n",
              "    .dataframe thead th {\n",
              "        text-align: right;\n",
              "    }\n",
              "</style>\n",
              "<table border=\"1\" class=\"dataframe\">\n",
              "  <thead>\n",
              "    <tr style=\"text-align: right;\">\n",
              "      <th></th>\n",
              "      <th>TweetId</th>\n",
              "      <th>Label</th>\n",
              "      <th>TweetText</th>\n",
              "    </tr>\n",
              "  </thead>\n",
              "  <tbody>\n",
              "    <tr>\n",
              "      <th>0</th>\n",
              "      <td>304271250237304833</td>\n",
              "      <td>Politics</td>\n",
              "      <td>'#SecKerry: The value of the @StateDept and @U...</td>\n",
              "    </tr>\n",
              "    <tr>\n",
              "      <th>1</th>\n",
              "      <td>304834304222064640</td>\n",
              "      <td>Politics</td>\n",
              "      <td>'@rraina1481 I fear so'</td>\n",
              "    </tr>\n",
              "    <tr>\n",
              "      <th>2</th>\n",
              "      <td>303568995880144898</td>\n",
              "      <td>Sports</td>\n",
              "      <td>'Watch video highlights of the #wwc13 final be...</td>\n",
              "    </tr>\n",
              "    <tr>\n",
              "      <th>3</th>\n",
              "      <td>304366580664528896</td>\n",
              "      <td>Sports</td>\n",
              "      <td>'RT @chelscanlan: At Nitro Circus at #AlbertPa...</td>\n",
              "    </tr>\n",
              "    <tr>\n",
              "      <th>4</th>\n",
              "      <td>296770931098009601</td>\n",
              "      <td>Sports</td>\n",
              "      <td>'@cricketfox Always a good thing. Thanks for t...</td>\n",
              "    </tr>\n",
              "  </tbody>\n",
              "</table>\n",
              "</div>"
            ],
            "text/plain": [
              "              TweetId  ...                                          TweetText\n",
              "0  304271250237304833  ...  '#SecKerry: The value of the @StateDept and @U...\n",
              "1  304834304222064640  ...                            '@rraina1481 I fear so'\n",
              "2  303568995880144898  ...  'Watch video highlights of the #wwc13 final be...\n",
              "3  304366580664528896  ...  'RT @chelscanlan: At Nitro Circus at #AlbertPa...\n",
              "4  296770931098009601  ...  '@cricketfox Always a good thing. Thanks for t...\n",
              "\n",
              "[5 rows x 3 columns]"
            ]
          },
          "metadata": {
            "tags": []
          },
          "execution_count": 12
        }
      ]
    },
    {
      "cell_type": "code",
      "metadata": {
        "id": "Yx0OUyMyp5Yp",
        "colab_type": "code",
        "outputId": "ee3cb641-0981-4a42-a781-a6f027a600b1",
        "colab": {
          "base_uri": "https://localhost:8080/",
          "height": 80
        }
      },
      "source": [
        "train.describe().T\n",
        "test.describe().T"
      ],
      "execution_count": 0,
      "outputs": [
        {
          "output_type": "execute_result",
          "data": {
            "text/html": [
              "<div>\n",
              "<style scoped>\n",
              "    .dataframe tbody tr th:only-of-type {\n",
              "        vertical-align: middle;\n",
              "    }\n",
              "\n",
              "    .dataframe tbody tr th {\n",
              "        vertical-align: top;\n",
              "    }\n",
              "\n",
              "    .dataframe thead th {\n",
              "        text-align: right;\n",
              "    }\n",
              "</style>\n",
              "<table border=\"1\" class=\"dataframe\">\n",
              "  <thead>\n",
              "    <tr style=\"text-align: right;\">\n",
              "      <th></th>\n",
              "      <th>count</th>\n",
              "      <th>mean</th>\n",
              "      <th>std</th>\n",
              "      <th>min</th>\n",
              "      <th>25%</th>\n",
              "      <th>50%</th>\n",
              "      <th>75%</th>\n",
              "      <th>max</th>\n",
              "    </tr>\n",
              "  </thead>\n",
              "  <tbody>\n",
              "    <tr>\n",
              "      <th>TweetId</th>\n",
              "      <td>2610.0</td>\n",
              "      <td>2.803202e+17</td>\n",
              "      <td>6.844036e+16</td>\n",
              "      <td>2.320824e+09</td>\n",
              "      <td>2.941447e+17</td>\n",
              "      <td>3.017323e+17</td>\n",
              "      <td>3.056284e+17</td>\n",
              "      <td>3.068337e+17</td>\n",
              "    </tr>\n",
              "  </tbody>\n",
              "</table>\n",
              "</div>"
            ],
            "text/plain": [
              "          count          mean  ...           75%           max\n",
              "TweetId  2610.0  2.803202e+17  ...  3.056284e+17  3.068337e+17\n",
              "\n",
              "[1 rows x 8 columns]"
            ]
          },
          "metadata": {
            "tags": []
          },
          "execution_count": 13
        }
      ]
    },
    {
      "cell_type": "code",
      "metadata": {
        "id": "PvtTYCY8qJmD",
        "colab_type": "code",
        "outputId": "e0f63923-e287-4009-96a2-cb9235d950e4",
        "colab": {
          "base_uri": "https://localhost:8080/",
          "height": 1000
        }
      },
      "source": [
        "#this is gives an in-depth profile report on our data (training set)\n",
        "pandas_profiling.ProfileReport(train)"
      ],
      "execution_count": 0,
      "outputs": [
        {
          "output_type": "stream",
          "text": [
            "/usr/local/lib/python3.6/dist-packages/pandas_profiling/describe.py:392: FutureWarning: The join_axes-keyword is deprecated. Use .reindex or .reindex_like on the result to achieve the same functionality.\n",
            "  variable_stats = pd.concat(ldesc, join_axes=pd.Index([names]), axis=1)\n"
          ],
          "name": "stderr"
        },
        {
          "output_type": "execute_result",
          "data": {
            "text/html": [
              "<meta charset=\"UTF-8\">\n",
              "\n",
              "<style>\n",
              "\n",
              "        .variablerow {\n",
              "            border: 1px solid #e1e1e8;\n",
              "            border-top: hidden;\n",
              "            padding-top: 2em;\n",
              "            padding-bottom: 2em;\n",
              "            padding-left: 1em;\n",
              "            padding-right: 1em;\n",
              "        }\n",
              "\n",
              "        .headerrow {\n",
              "            border: 1px solid #e1e1e8;\n",
              "            background-color: #f5f5f5;\n",
              "            padding: 2em;\n",
              "        }\n",
              "        .namecol {\n",
              "            margin-top: -1em;\n",
              "            overflow-x: auto;\n",
              "        }\n",
              "\n",
              "        .dl-horizontal dt {\n",
              "            text-align: left;\n",
              "            padding-right: 1em;\n",
              "            white-space: normal;\n",
              "        }\n",
              "\n",
              "        .dl-horizontal dd {\n",
              "            margin-left: 0;\n",
              "        }\n",
              "\n",
              "        .ignore {\n",
              "            opacity: 0.4;\n",
              "        }\n",
              "\n",
              "        .container.pandas-profiling {\n",
              "            max-width:975px;\n",
              "        }\n",
              "\n",
              "        .col-md-12 {\n",
              "            padding-left: 2em;\n",
              "        }\n",
              "\n",
              "        .indent {\n",
              "            margin-left: 1em;\n",
              "        }\n",
              "\n",
              "        .center-img {\n",
              "            margin-left: auto !important;\n",
              "            margin-right: auto !important;\n",
              "            display: block;\n",
              "        }\n",
              "\n",
              "        /* Table example_values */\n",
              "            table.example_values {\n",
              "                border: 0;\n",
              "            }\n",
              "\n",
              "            .example_values th {\n",
              "                border: 0;\n",
              "                padding: 0 ;\n",
              "                color: #555;\n",
              "                font-weight: 600;\n",
              "            }\n",
              "\n",
              "            .example_values tr, .example_values td{\n",
              "                border: 0;\n",
              "                padding: 0;\n",
              "                color: #555;\n",
              "            }\n",
              "\n",
              "        /* STATS */\n",
              "            table.stats {\n",
              "                border: 0;\n",
              "            }\n",
              "\n",
              "            .stats th {\n",
              "                border: 0;\n",
              "                padding: 0 2em 0 0;\n",
              "                color: #555;\n",
              "                font-weight: 600;\n",
              "            }\n",
              "\n",
              "            .stats tr {\n",
              "                border: 0;\n",
              "            }\n",
              "\n",
              "            .stats td{\n",
              "                color: #555;\n",
              "                padding: 1px;\n",
              "                border: 0;\n",
              "            }\n",
              "\n",
              "\n",
              "        /* Sample table */\n",
              "            table.sample {\n",
              "                border: 0;\n",
              "                margin-bottom: 2em;\n",
              "                margin-left:1em;\n",
              "            }\n",
              "            .sample tr {\n",
              "                border:0;\n",
              "            }\n",
              "            .sample td, .sample th{\n",
              "                padding: 0.5em;\n",
              "                white-space: nowrap;\n",
              "                border: none;\n",
              "\n",
              "            }\n",
              "\n",
              "            .sample thead {\n",
              "                border-top: 0;\n",
              "                border-bottom: 2px solid #ddd;\n",
              "            }\n",
              "\n",
              "            .sample td {\n",
              "                width:100%;\n",
              "            }\n",
              "\n",
              "\n",
              "        /* There is no good solution available to make the divs equal height and then center ... */\n",
              "            .histogram {\n",
              "                margin-top: 3em;\n",
              "            }\n",
              "        /* Freq table */\n",
              "\n",
              "            table.freq {\n",
              "                margin-bottom: 2em;\n",
              "                border: 0;\n",
              "            }\n",
              "            table.freq th, table.freq tr, table.freq td {\n",
              "                border: 0;\n",
              "                padding: 0;\n",
              "            }\n",
              "\n",
              "            .freq thead {\n",
              "                font-weight: 600;\n",
              "                white-space: nowrap;\n",
              "                overflow: hidden;\n",
              "                text-overflow: ellipsis;\n",
              "\n",
              "            }\n",
              "\n",
              "            td.fillremaining{\n",
              "                width:auto;\n",
              "                max-width: none;\n",
              "            }\n",
              "\n",
              "            td.number, th.number {\n",
              "                text-align:right ;\n",
              "            }\n",
              "\n",
              "        /* Freq mini */\n",
              "            .freq.mini td{\n",
              "                width: 50%;\n",
              "                padding: 1px;\n",
              "                font-size: 12px;\n",
              "\n",
              "            }\n",
              "            table.freq.mini {\n",
              "                 width:100%;\n",
              "            }\n",
              "            .freq.mini th {\n",
              "                overflow: hidden;\n",
              "                text-overflow: ellipsis;\n",
              "                white-space: nowrap;\n",
              "                max-width: 5em;\n",
              "                font-weight: 400;\n",
              "                text-align:right;\n",
              "                padding-right: 0.5em;\n",
              "            }\n",
              "\n",
              "            .missing {\n",
              "                color: #a94442;\n",
              "            }\n",
              "            .alert, .alert > th, .alert > td {\n",
              "                color: #a94442;\n",
              "            }\n",
              "\n",
              "\n",
              "        /* Bars in tables */\n",
              "            .freq .bar{\n",
              "                float: left;\n",
              "                width: 0;\n",
              "                height: 100%;\n",
              "                line-height: 20px;\n",
              "                color: #fff;\n",
              "                text-align: center;\n",
              "                background-color: #337ab7;\n",
              "                border-radius: 3px;\n",
              "                margin-right: 4px;\n",
              "            }\n",
              "            .other .bar {\n",
              "                background-color: #999;\n",
              "            }\n",
              "            .missing .bar{\n",
              "                background-color: #a94442;\n",
              "            }\n",
              "            .tooltip-inner {\n",
              "                width: 100%;\n",
              "                white-space: nowrap;\n",
              "                text-align:left;\n",
              "            }\n",
              "\n",
              "            .extrapadding{\n",
              "                padding: 2em;\n",
              "            }\n",
              "\n",
              "            .pp-anchor{\n",
              "\n",
              "            }\n",
              "\n",
              "</style>\n",
              "\n",
              "<div class=\"container pandas-profiling\">\n",
              "    <div class=\"row headerrow highlight\">\n",
              "        <h1>Overview</h1>\n",
              "    </div>\n",
              "    <div class=\"row variablerow\">\n",
              "    <div class=\"col-md-6 namecol\">\n",
              "        <p class=\"h4\">Dataset info</p>\n",
              "        <table class=\"stats\" style=\"margin-left: 1em;\">\n",
              "            <tbody>\n",
              "            <tr>\n",
              "                <th>Number of variables</th>\n",
              "                <td>3 </td>\n",
              "            </tr>\n",
              "            <tr>\n",
              "                <th>Number of observations</th>\n",
              "                <td>6525 </td>\n",
              "            </tr>\n",
              "            <tr>\n",
              "                <th>Total Missing (%)</th>\n",
              "                <td>0.0% </td>\n",
              "            </tr>\n",
              "            <tr>\n",
              "                <th>Total size in memory</th>\n",
              "                <td>153.1 KiB </td>\n",
              "            </tr>\n",
              "            <tr>\n",
              "                <th>Average record size in memory</th>\n",
              "                <td>24.0 B </td>\n",
              "            </tr>\n",
              "            </tbody>\n",
              "        </table>\n",
              "    </div>\n",
              "    <div class=\"col-md-6 namecol\">\n",
              "        <p class=\"h4\">Variables types</p>\n",
              "        <table class=\"stats\" style=\"margin-left: 1em;\">\n",
              "            <tbody>\n",
              "            <tr>\n",
              "                <th>Numeric</th>\n",
              "                <td>1 </td>\n",
              "            </tr>\n",
              "            <tr>\n",
              "                <th>Categorical</th>\n",
              "                <td>2 </td>\n",
              "            </tr>\n",
              "            <tr>\n",
              "                <th>Boolean</th>\n",
              "                <td>0 </td>\n",
              "            </tr>\n",
              "            <tr>\n",
              "                <th>Date</th>\n",
              "                <td>0 </td>\n",
              "            </tr>\n",
              "            <tr>\n",
              "                <th>Text (Unique)</th>\n",
              "                <td>0 </td>\n",
              "            </tr>\n",
              "            <tr>\n",
              "                <th>Rejected</th>\n",
              "                <td>0 </td>\n",
              "            </tr>\n",
              "            <tr>\n",
              "                <th>Unsupported</th>\n",
              "                <td>0 </td>\n",
              "            </tr>\n",
              "            </tbody>\n",
              "        </table>\n",
              "    </div>\n",
              "    <div class=\"col-md-12\" style=\"padding-left: 1em;\">\n",
              "        \n",
              "        <p class=\"h4\">Warnings</p>\n",
              "        <ul class=\"list-unstyled\"><li><a href=\"#pp_var_TweetText\"><code>TweetText</code></a> has a high cardinality: 6508 distinct values  <span class=\"label label-warning\">Warning</span></li> </ul>\n",
              "    </div>\n",
              "</div>\n",
              "    <div class=\"row headerrow highlight\">\n",
              "        <h1>Variables</h1>\n",
              "    </div>\n",
              "    <div class=\"row variablerow\">\n",
              "    <div class=\"col-md-3 namecol\">\n",
              "        <p class=\"h4 pp-anchor\" id=\"pp_var_TweetId\">TweetId<br/>\n",
              "            <small>Numeric</small>\n",
              "        </p>\n",
              "    </div><div class=\"col-md-6\">\n",
              "    <div class=\"row\">\n",
              "        <div class=\"col-sm-6\">\n",
              "            <table class=\"stats \">\n",
              "                <tr>\n",
              "                    <th>Distinct count</th>\n",
              "                    <td>6525</td>\n",
              "                </tr>\n",
              "                <tr>\n",
              "                    <th>Unique (%)</th>\n",
              "                    <td>100.0%</td>\n",
              "                </tr>\n",
              "                <tr class=\"ignore\">\n",
              "                    <th>Missing (%)</th>\n",
              "                    <td>0.0%</td>\n",
              "                </tr>\n",
              "                <tr class=\"ignore\">\n",
              "                    <th>Missing (n)</th>\n",
              "                    <td>0</td>\n",
              "                </tr>\n",
              "                <tr class=\"ignore\">\n",
              "                    <th>Infinite (%)</th>\n",
              "                    <td>0.0%</td>\n",
              "                </tr>\n",
              "                <tr class=\"ignore\">\n",
              "                    <th>Infinite (n)</th>\n",
              "                    <td>0</td>\n",
              "                </tr>\n",
              "            </table>\n",
              "\n",
              "        </div>\n",
              "        <div class=\"col-sm-6\">\n",
              "            <table class=\"stats \">\n",
              "\n",
              "                <tr>\n",
              "                    <th>Mean</th>\n",
              "                    <td>2.8871e+17</td>\n",
              "                </tr>\n",
              "                <tr>\n",
              "                    <th>Minimum</th>\n",
              "                    <td>23909305792</td>\n",
              "                </tr>\n",
              "                <tr>\n",
              "                    <th>Maximum</th>\n",
              "                    <td>306834146813169667</td>\n",
              "                </tr>\n",
              "                <tr class=\"ignore\">\n",
              "                    <th>Zeros (%)</th>\n",
              "                    <td>0.0%</td>\n",
              "                </tr>\n",
              "            </table>\n",
              "        </div>\n",
              "    </div>\n",
              "</div>\n",
              "<div class=\"col-md-3 collapse in\" id=\"minihistogram4284729226587732486\">\n",
              "    <img src=\"data:image/png;base64,iVBORw0KGgoAAAANSUhEUgAAAMgAAABLCAYAAAA1fMjoAAAABHNCSVQICAgIfAhkiAAAAAlwSFlzAAAPYQAAD2EBqD%2BnaQAAADh0RVh0U29mdHdhcmUAbWF0cGxvdGxpYiB2ZXJzaW9uMy4xLjEsIGh0dHA6Ly9tYXRwbG90bGliLm9yZy8QZhcZAAADMElEQVR4nO3aPyj8cRzH8ZefC4PBwmBg0i2uxBmOG5QSE%2BVPKYkks4XhmGRVWMhgukGhLsJZDRIxXDm3yskgu399f8MvSr%2Bft/ueL3d%2BPR91y/fb9/N9G559PocCx3EcAfinX7keAMhnvlwPgP9XMLLn%2BpmT2fYvmCR77CCAgUAAA4EABgIBDAQCGAgEMBAIYCAQwEAggIFAAAOBAAYCAQwEAhgIBDAQCGAgEMBAIICBQAADgQAGAgEMBAIYCAQwEAhgIBDAQCCAgUAAA4EABgIBDAQCGAgEMBAIYCAQwEAggIFAAAOBAAYCAQwEAhgIBDAQCGAgEMBAIICBQACDL9cD4GcIRvZyPUJOsIMABgIBDHl3xPqurfxktv1b3oOfrcBxHCfXQwD5iiMWYCAQwEAggIFAAAOBwLWDgwM1NTVpfHzc9bO3t7caGRmR3%2B/X/f396/Xj42MFAoE3n9raWvn9fi9Hdy3vfs2L/LaysqL19XVVV1e7fjaVSmlsbEwNDQ1/3WtsbFQikXhzbWlpSRcXF1nP6gV2ELhSXFxsBrKzs6POzk7V1dWptbVVa2trr/fu7u40Nzenvr6%2BD99zfX2t1dVVTUxMeDZ7NthB4Mrg4OC79xKJhCKRiBYXFxUKhXR2dqbR0VHV1NSovr5eoVBIknR0dPThe%2Bbn59Xd3a3KykrPZs8GOwg8s7m5qZaWFoXDYRUWFioYDKqjo0OxWMzVOldXV9rf39fw8PAXTZo5dhB45vLyUoeHhwoEAq/XHMdROBx2tU40GlVbW5vKy8u9HtE1AoFnSkpK1N/fr%2Bnp6U%2BtE4/HNTk56dFUn8MRC56pqqpSKpV6c%2B3m5kbPz88Zr5FMJpVOp9Xc3Oz1eFkhEHimp6dHp6en2tjY0MPDg5LJpHp7exWPxzNe4/z8XGVlZSotLf3CSTPHf/PClZfvF09PT5Ikn%2B/PKf3lbxi7u7taWFhQOp1WRUWFBgYGNDQ0JEmamppSLBaT4zh6fHxUUVGRJGlmZkZdXV2SpOXlZW1tbWl7e/s7f6x3EQhg4IgFGAgEMBAIYCAQwEAggIFAAAOBAAYCAQwEAhgIBDD8BrvPvwU8kVGNAAAAAElFTkSuQmCC\">\n",
              "\n",
              "</div>\n",
              "<div class=\"col-md-12 text-right\">\n",
              "    <a role=\"button\" data-toggle=\"collapse\" data-target=\"#descriptives4284729226587732486,#minihistogram4284729226587732486\"\n",
              "       aria-expanded=\"false\" aria-controls=\"collapseExample\">\n",
              "        Toggle details\n",
              "    </a>\n",
              "</div>\n",
              "<div class=\"row collapse col-md-12\" id=\"descriptives4284729226587732486\">\n",
              "    <ul class=\"nav nav-tabs\" role=\"tablist\">\n",
              "        <li role=\"presentation\" class=\"active\"><a href=\"#quantiles4284729226587732486\"\n",
              "                                                  aria-controls=\"quantiles4284729226587732486\" role=\"tab\"\n",
              "                                                  data-toggle=\"tab\">Statistics</a></li>\n",
              "        <li role=\"presentation\"><a href=\"#histogram4284729226587732486\" aria-controls=\"histogram4284729226587732486\"\n",
              "                                   role=\"tab\" data-toggle=\"tab\">Histogram</a></li>\n",
              "        <li role=\"presentation\"><a href=\"#common4284729226587732486\" aria-controls=\"common4284729226587732486\"\n",
              "                                   role=\"tab\" data-toggle=\"tab\">Common Values</a></li>\n",
              "        <li role=\"presentation\"><a href=\"#extreme4284729226587732486\" aria-controls=\"extreme4284729226587732486\"\n",
              "                                   role=\"tab\" data-toggle=\"tab\">Extreme Values</a></li>\n",
              "\n",
              "    </ul>\n",
              "\n",
              "    <div class=\"tab-content\">\n",
              "        <div role=\"tabpanel\" class=\"tab-pane active row\" id=\"quantiles4284729226587732486\">\n",
              "            <div class=\"col-md-4 col-md-offset-1\">\n",
              "                <p class=\"h4\">Quantile statistics</p>\n",
              "                <table class=\"stats indent\">\n",
              "                    <tr>\n",
              "                        <th>Minimum</th>\n",
              "                        <td>23909305792</td>\n",
              "                    </tr>\n",
              "                    <tr>\n",
              "                        <th>5-th percentile</th>\n",
              "                        <td>2.5836e+17</td>\n",
              "                    </tr>\n",
              "                    <tr>\n",
              "                        <th>Q1</th>\n",
              "                        <td>2.9414e+17</td>\n",
              "                    </tr>\n",
              "                    <tr>\n",
              "                        <th>Median</th>\n",
              "                        <td>3.0253e+17</td>\n",
              "                    </tr>\n",
              "                    <tr>\n",
              "                        <th>Q3</th>\n",
              "                        <td>3.0532e+17</td>\n",
              "                    </tr>\n",
              "                    <tr>\n",
              "                        <th>95-th percentile</th>\n",
              "                        <td>3.0663e+17</td>\n",
              "                    </tr>\n",
              "                    <tr>\n",
              "                        <th>Maximum</th>\n",
              "                        <td>306834146813169667</td>\n",
              "                    </tr>\n",
              "                    <tr>\n",
              "                        <th>Range</th>\n",
              "                        <td>306834122903863875</td>\n",
              "                    </tr>\n",
              "                    <tr>\n",
              "                        <th>Interquartile range</th>\n",
              "                        <td>1.1186e+16</td>\n",
              "                    </tr>\n",
              "                </table>\n",
              "            </div>\n",
              "            <div class=\"col-md-4 col-md-offset-2\">\n",
              "                <p class=\"h4\">Descriptive statistics</p>\n",
              "                <table class=\"stats indent\">\n",
              "                    <tr>\n",
              "                        <th>Standard deviation</th>\n",
              "                        <td>5.1398e+16</td>\n",
              "                    </tr>\n",
              "                    <tr>\n",
              "                        <th>Coef of variation</th>\n",
              "                        <td>0.17803</td>\n",
              "                    </tr>\n",
              "                    <tr>\n",
              "                        <th>Kurtosis</th>\n",
              "                        <td>21.828</td>\n",
              "                    </tr>\n",
              "                    <tr>\n",
              "                        <th>Mean</th>\n",
              "                        <td>2.8871e+17</td>\n",
              "                    </tr>\n",
              "                    <tr>\n",
              "                        <th>MAD</th>\n",
              "                        <td>2.2437e+16</td>\n",
              "                    </tr>\n",
              "                    <tr class=\"\">\n",
              "                        <th>Skewness</th>\n",
              "                        <td>-4.7491</td>\n",
              "                    </tr>\n",
              "                    <tr>\n",
              "                        <th>Sum</th>\n",
              "                        <td>2285375574945914290</td>\n",
              "                    </tr>\n",
              "                    <tr>\n",
              "                        <th>Variance</th>\n",
              "                        <td>2.6418e+33</td>\n",
              "                    </tr>\n",
              "                    <tr>\n",
              "                        <th>Memory size</th>\n",
              "                        <td>51.1 KiB</td>\n",
              "                    </tr>\n",
              "                </table>\n",
              "            </div>\n",
              "        </div>\n",
              "        <div role=\"tabpanel\" class=\"tab-pane col-md-8 col-md-offset-2\" id=\"histogram4284729226587732486\">\n",
              "            <img src=\"data:image/png;base64,iVBORw0KGgoAAAANSUhEUgAAAlgAAAGQCAYAAAByNR6YAAAABHNCSVQICAgIfAhkiAAAAAlwSFlzAAAPYQAAD2EBqD%2BnaQAAADh0RVh0U29mdHdhcmUAbWF0cGxvdGxpYiB2ZXJzaW9uMy4xLjEsIGh0dHA6Ly9tYXRwbG90bGliLm9yZy8QZhcZAAAgAElEQVR4nO3de3RU5b3/8U%2BSkQQScgMCNFJiuUlIRBGMRkq4iIgICkYgXV5QsCCpOQlgUQELLYoWEBU8QNqDbarrdAq1cikXl3LxFrtOL9jJ4I2ARXOQRJghJIZAkvn94Y/xDGFLaJ7sYcL7tRYLeZ5nnvnur0PyWXtvdsJ8Pp9PAAAAMCY82AUAAAC0NgQsAAAAwwhYAAAAhhGwAAAADCNgAQAAGEbAAgAAMIyABQAAYBgBCwAAwDACFgAAgGEELAAAAMMIWAAAAIYRsAAAAAwjYAEAABhGwAIAADCMgAUAAGAYAQsAAMAwAhYAAIBhBCwAAADDCFgAAACGEbAAAAAMI2ABAAAYRsACAAAwjIAFAABgGAELAADAMAIWAACAYQQsAAAAwwhYAAAAhhGwAAAADCNgAQAAGEbAAgAAMIyABQAAYBgBCwAAwDACFgAAgGEELAAAAMMIWAAAAIYRsAAAAAwjYAEAABhGwAIAADCMgAUAAGCYI9gFXCoqKk4Y3zM8PEyJidE6dqxaDQ0%2B4/uHMnpjjd5YozfW6I01emPtYuhNp07tg/K%2BnMEKYeHhYQoLC1N4eFiwS7no0Btr9MYavbFGb6zRG2uXcm8IWAAAAIYRsAAAAAwL6YC1evVqDR48WFdffbWmTJmiL774QpJUXFys7OxsDRgwQGPGjNGmTZsCXldUVKRRo0ZpwIABysnJUUlJiX%2ButrZWTzzxhIYMGaKMjAzl5eXJ4/HYelwAACC0hWzAeuWVV7Rp0yYVFRXpnXfeUc%2BePfWb3/xG5eXlmjlzpiZPnqzi4mLNmzdPCxYskMvlkiTt3LlTK1eu1C9/%2BUu99957GjZsmGbMmKGvv/5akrRixQq53W45nU7t2LFDPp9Pjz32WDAPFQAAhJiQDVjr1q1TQUGBfvCDHygmJkbz58/X/PnztXnzZqWkpCg7O1uRkZHKzMzU8OHDtX79ekmS0%2BnUhAkT1L9/f0VFRWnatGmSpF27dqmurk4bNmzQzJkz1bVrV8XHxys/P1%2B7d%2B/WkSNHgnm4AAAghIRkwDpy5Ii%2B%2BOILHT9%2BXLfeeqv/Ut6xY8fkdruVmpoasD41NdV/GfDs%2BfDwcPXt21cul0uHDh3SiRMn1K9fP/98jx49FBUVJbfbbc/BAQCAkBeSz8H68ssvJUnbt2/XSy%2B9JJ/Pp7y8PM2fP18nT55U586dA9bHx8f776Pyer2Ki4sLmI%2BLi5PH45HX65UkxcbGBszHxsZe0H1Y5eXlqqioCBhzONopKSmpyXs0RUREeMDv%2BBa9sUZvrNEba/TGGr2xdin3JiQDls/3zcPKpk2b5g9TDz/8sB588EFlZmY2%2BfX/7vz5OJ1OrVq1KmAsNzdXeXl5zdrXSmxs2xbZtzWgN9bojTV6Y43eWKM31i7F3oRkwOrYsaOkwDNNycnJ8vl8On36tP9M1Bkej0eJiYmSpISEhEbzXq9XvXr18q/xer2Kjo72zx8/flwdOnRocn2TJk3S8OHDA8YcjnbyeKqbvEdTRESEKza2rSora1Rf32B071BHb6zRG2v0xhq9sUZvrF0MvUlIiD7/ohYQkgGrS5cuiomJ0Ycffui/X6qsrEyXXXaZsrKytHHjxoD1JSUl6t%2B/vyQpLS1Nbrdb48ePlyTV19dr3759ys7OVrdu3RQXFye3263k5GRJ0ieffKJTp04pLS2tyfUlJSU1uhxYUXFCdXUt8%2BGqr29osb1DHb2xRm%2Bs0Rtr9MYavbF2KfYmJC%2BKOhwOZWdna82aNfrXv/6lo0eP6sUXX9TYsWM1fvx4lZWVaf369aqtrdWePXu0Z88eTZw4UZKUk5Oj1157TXv37lVNTY1Wr16tNm3aaOjQoYqIiNDEiRO1Zs0aHT58WB6PR88%2B%2B6xGjhzpP2sGAABwPiF5BkuSZs%2BerVOnTumuu%2B7S6dOnNWrUKM2fP1/R0dFau3atFi9erEWLFik5OVlLly7VlVdeKUkaMmSIZs2apfz8fB09elTp6ekqLCxUVFSUJCkvL0/V1dW6/fbbVVdXp2HDhmnhwoVBPFIAABBqwnzNvaMbTVJRccL4ng5HuBISouXxVF9yp17Ph95YozfW6I01emON3li7GHrTqVP7oLxvyJ7BAgAA3230c%2B8Gu4Qm25Z/Y7BLMCok78ECAAC4mBGwAAAADCNgAQAAGEbAAgAAMIyABQAAYBgBCwAAwDACFgAAgGEELAAAAMMIWAAAAIYRsAAAAAwjYAEAABhGwAIAADCMgAUAAGAYAQsAAMAwAhYAAIBhBCwAAADDCFgAAACGEbAAAAAMI2ABAAAYRsACAAAwjIAFAABgGAELAADAMAIWAACAYQQsAAAAwwhYAAAAhhGwAAAADCNgAQAAGEbAAgAAMIyABQAAYBgBCwAAwDACFgAAgGEELAAAAMMIWAAAAIYRsAAAAAwjYAEAABhGwAIAADCMgAUAAGAYAQsAAMAwAhYAAIBhBCwAAADDQjZg9enTR2lpaUpPT/f/%2BsUvfiFJKi4uVnZ2tgYMGKAxY8Zo06ZNAa8tKirSqFGjNGDAAOXk5KikpMQ/V1tbqyeeeEJDhgxRRkaG8vLy5PF4bD02AAAQ2hzBLqA5tm/frssvvzxgrLy8XDNnztS8efM0duxY/e1vf9NDDz2kK664Qunp6dq5c6dWrlypX//61%2BrTp4%2BKioo0Y8YMvf7662rXrp1WrFght9stp9Optm3basGCBXrssce0Zs2aIB0lAAAINSF7BsvK5s2blZKSouzsbEVGRiozM1PDhw/X%2BvXrJUlOp1MTJkxQ//79FRUVpWnTpkmSdu3apbq6Om3YsEEzZ85U165dFR8fr/z8fO3evVtHjhwJ5mEBAIAQEtIBa/ny5Ro6dKgGDhyoBQsWqLq6Wm63W6mpqQHrUlNT/ZcBz54PDw9X37595XK5dOjQIZ04cUL9%2BvXzz/fo0UNRUVFyu932HBQAAAh5IXuJ8Oqrr1ZmZqaeeeYZff7558rPz9eiRYvk9XrVuXPngLXx8fH%2B%2B6i8Xq/i4uIC5uPi4uTxeOT1eiVJsbGxAfOxsbEXdB9WeXm5KioqAsYcjnZKSkpq8h5NERERHvA7vkVvrNEba/TGGr2xRm/McDhaV/9CNmA5nU7/f/fo0UNz5szRQw89pGuvvfa8r/X5fM2ab0ptq1atChjLzc1VXl5es/a1EhvbtkX2bQ3ojTV6Y43eWKM31uhN8yQkRAe7BKNCNmCd7fLLL1d9fb3Cw8P9Z6LO8Hg8SkxMlCQlJCQ0mvd6verVq5d/jdfrVXT0t/%2Bjjx8/rg4dOjS5lkmTJmn48OEBYw5HO3k81Rd0TOcTERGu2Ni2qqysUX19g9G9Qx29sUZvrNEba/TGGr0xw/T3yDOCFdxCMmDt27dPmzZt0qOPPuofKy0tVZs2bZSVlaU//elPAetLSkrUv39/SVJaWprcbrfGjx8vSaqvr9e%2BffuUnZ2tbt26KS4uTm63W8nJyZKkTz75RKdOnVJaWlqT60tKSmp0ObCi4oTq6lrmL159fUOL7R3q6I01emON3lijN9boTfO0tt6F5AXPDh06yOl0qrCwUKdOndLBgwf1/PPPa9KkSbr99ttVVlam9evXq7a2Vnv27NGePXs0ceJESVJOTo5ee%2B017d27VzU1NVq9erXatGmjoUOHKiIiQhMnTtSaNWt0%2BPBheTwePfvssxo5cqQ6duwY5KMGAAChIiTPYHXu3FmFhYVavny5PyCNHz9eBQUFioyM1Nq1a7V48WItWrRIycnJWrp0qa688kpJ0pAhQzRr1izl5%2Bfr6NGjSk9PV2FhoaKioiRJeXl5qq6u1u233666ujoNGzZMCxcuDOLRAgCAUBPma%2B4d3WiSiooTxvd0OMKVkBAtj6e61Z1abS56Y43eWKM31uiNtYu5N6OfezfYJTTZtvwbW2TfTp3at8i%2B5xOSlwgBAAAuZgQsAAAAwwhYAAAAhhGwAAAADCNgAQAAGEbAAgAAMIyABQAAYBgBCwAAwDACFgAAgGEELAAAAMMIWAAAAIYRsAAAAAwjYAEAABhGwAIAADCMgAUAAGAYAQsAAMAwAhYAAIBhBCwAAADDCFgAAACGEbAAAAAMI2ABAAAYRsACAAAwjIAFAABgGAELAADAMAIWAACAYQQsAAAAwwhYAAAAhhGwAAAADCNgAQAAGEbAAgAAMIyABQAAYBgBCwAAwDACFgAAgGEELAAAAMMIWAAAAIYRsAAAAAwjYAEAABhGwAIAADCMgAUAAGAYAQsAAMAwAhYAAIBhrSJgPfXUU%2BrTp4//z8XFxcrOztaAAQM0ZswYbdq0KWB9UVGRRo0apQEDBignJ0clJSX%2BudraWj3xxBMaMmSIMjIylJeXJ4/HY9uxAACA0BfyAevDDz/Uxo0b/X8uLy/XzJkzNXnyZBUXF2vevHlasGCBXC6XJGnnzp1auXKlfvnLX%2Bq9997TsGHDNGPGDH399deSpBUrVsjtdsvpdGrHjh3y%2BXx67LHHgnJsAAAgNIV0wGpoaNDPfvYzTZkyxT%2B2efNmpaSkKDs7W5GRkcrMzNTw4cO1fv16SZLT6dSECRPUv39/RUVFadq0aZKkXbt2qa6uThs2bNDMmTPVtWtXxcfHKz8/X7t379aRI0eCcYgAACAEhXTA%2Bv3vf6/IyEiNHTvWP%2BZ2u5WamhqwLjU11X8Z8Oz58PBw9e3bVy6XS4cOHdKJEyfUr18//3yPHj0UFRUlt9vdwkcDAABaC0ewC/h3ffXVV1q5cqV%2B97vfBYx7vV517tw5YCw%2BPt5/H5XX61VcXFzAfFxcnDwej7xeryQpNjY2YD42NvaC7sMqLy9XRUVFwJjD0U5JSUlN3qMpIiLCA37Ht%2BiNNXpjjd5YozfW6I0ZDkfr6l/IBqwlS5ZowoQJ6tmzp7744osLeq3P52vW/Pk4nU6tWrUqYCw3N1d5eXnN2tdKbGzbFtm3NaA31uiNNXpjjd5YozfNk5AQHewSjArJgFVcXKx//OMf2rJlS6O5hIQE/5moMzwejxITEy3nvV6vevXq5V/j9XoVHf3t/%2Bjjx4%2BrQ4cOTa5v0qRJGj58eMCYw9FOHk91k/doioiIcMXGtlVlZY3q6xuM7h3q6I01emON3lijN9bojRmmv0eeEazgFpIBa9OmTTp69KiGDRsm6dszThkZGXrggQcaBa%2BSkhL1799fkpSWlia3263x48dLkurr67Vv3z5lZ2erW7duiouLk9vtVnJysiTpk08%2B0alTp5SWltbk%2BpKSkhpdDqyoOKG6upb5i1df39Bie4c6emON3lijN9bojTV60zytrXchecHz0Ucf1Y4dO7Rx40Zt3LhRhYWFkqSNGzdq7NixKisr0/r161VbW6s9e/Zoz549mjhxoiQpJydHr732mvbu3auamhqtXr1abdq00dChQxUREaGJEydqzZo1Onz4sDwej5599lmNHDlSHTt2DOYhAwCAEBKSZ7Di4uICblSvq6uTJHXp0kWStHbtWi1evFiLFi1ScnKyli5dqiuvvFKSNGTIEM2aNUv5%2Bfk6evSo0tPTVVhYqKioKElSXl6eqqurdfvtt6uurk7Dhg3TwoUL7T1AAAAQ0sJ8zb2jG01SUXHC%2BJ4OR7gSEqLl8VS3ulOrzUVvrNEba/TGGr2xdjH3ZvRz7wa7hCbbln9ji%2BzbqVP7Ftn3fELyEiEAAMDFjIAFAABgGAELAADAMAIWAACAYQQsAAAAwwhYAAAAhhGwAAAADCNgAQAAGGZ7wBo%2BfLhWrVqlw4cP2/3WAAAAtrA9YN15553aunWrbrrpJk2bNk2vv/66/0fdAAAAtAa2B6zc3Fxt3bpVf/jDH9SrVy899dRTysrK0tKlS3Xw4EG7ywEAADAuaPdg9evXT3PnztWuXbv0%2BOOP6w9/%2BINuvfVWTZ06Vf/85z%2BDVRYAAECzBS1gnT59Wlu3btWDDz6ouXPnqnPnznrsscfUt29fTZkyRZs3bw5WaQAAAM3isPsNS0tLtWHDBr322muqrq7WqFGj9Nvf/lbXXnutf82gQYO0cOFCjR071u7yAAAAms32gDVmzBhdccUVmj59uu644w7Fx8c3WpOVlaVjx47ZXRoAAIARtgesoqIiXXfddedd98EHH9hQDQAAgHm234PVp08fzZgxQ2%2B88YZ/7De/%2BY0efPBBeb1eu8sBAAAwzvaAtWTJEp04cUI9e/b0jw0dOlQNDQ16%2Bumn7S4HAADAONsvEb7zzjvavHmzEhIS/GMpKSlatmyZbrvtNrvLAQAAMM72M1gnT55UZGRk40LCw1VTU2N3OQAAAMbZHrAGDRqkp59%2BWsePH/ePHTlyRIsWLQp4VAMAAECosv0S4eOPP64HHnhAN9xwg2JiYtTQ0KDq6mp169ZNv/vd7%2BwuBwAAwDjbA1a3bt305z//WW%2B99ZYOHTqk8PBwXXHFFRo8eLAiIiLsLgcAAMA42wOWJLVp00Y33XRTMN4aAACgxdkesD7//HMtX75cn376qU6ePNlo/s0337S7JAAAAKOCcg9WeXm5Bg8erHbt2tn99gAAAC3O9oBVUlKiN998U4mJiXa/NQAAgC1sf0xDhw4dOHMFAABaNdsD1vTp07Vq1Sr5fD673xoAAMAWtl8ifOutt/T3v/9dr776qi6//HKFhwdmvN///vd2lwQAAGCU7QErJiZGQ4YMsfttAQAAbGN7wFqyZIndbwkAAGAr2%2B/BkqQDBw5o5cqVeuyxx/xj//jHP4JRCgAAgHG2B6zi4mKNGzdOr7/%2BurZs2SLpm4eP3nvvvTxkFAAAtAq2B6wVK1bokUce0ebNmxUWFibpm59P%2BPTTT%2BvFF1%2B0uxwAAADjbA9Yn3zyiXJyciTJH7Ak6ZZbblFpaand5QAAABhne8Bq3779OX8GYXl5udq0aWN3OQAAAMbZHrAGDBigp556SlVVVf6xgwcPau7cubrhhhvsLgcAAMA42x/T8Nhjj%2Bm%2B%2B%2B5TRkaG6uvrNWDAANXU1KhXr156%2Bumn7S4HAADAONsDVpcuXbRlyxbt2bNHBw8eVFRUlK644grdeOONAfdkAQAAhCrbA5YkXXbZZbrpppuC8dYAAAAtzvaANXz48O88U9XUZ2F99NFHWrJkiUpKShQZGanrrrtO8%2BbNU6dOnVRcXKzly5frwIED6tq1q6ZPn65x48b5X1tUVKRXXnlFFRUV6tOnj%2BbNm6e0tDRJUm1trZ588knt3r1btbW1ysjI0KJFi5SQkNC8AwcAAJcM229yv/XWWwN%2BjRo1Sr1791Ztba0mT57cpD1OnTqlBx54QNddd52Ki4u1ZcsWHT16VAsXLlR5eblmzpypyZMnq7i4WPPmzdOCBQvkcrkkSTt37tTKlSv1y1/%2BUu%2B9956GDRumGTNm6Ouvv5b0zXO63G63nE6nduzYIZ/PF/DEeQAAgPOx/QzWnDlzzjm%2BY8cO/eUvf2nSHjU1NSooKND48ePlcDiUmJiokSNH6uWXX9bmzZuVkpKi7OxsSVJmZqaGDx%2Bu9evXKz09XU6nUxMmTFD//v0lSdOmTVNRUZF27dqlUaNGacOGDXrmmWfUtWtXSVJ%2Bfr7GjBmjI0eOqHPnzgY6AAAAWrug3IN1LjfddJOeeOIJPfHEE%2BddGxcXp7vuusv/5wMHDuhPf/qTRo8eLbfbrdTU1ID1qamp2rZtmyTJ7Xbr1ltv9c%2BFh4erb9%2B%2Bcrlc6tu3r06cOKF%2B/fr553v06KGoqCi53e4mB6zy8nJVVFQEjDkc7ZSUlNSk1zdVRER4wO/4Fr2xRm%2Bs0Rtr9MYavTHD4Whd/btoAta%2Bffvk8/ku6DVlZWUaNWqU6urqNHHiROXl5enBBx9sFITi4%2BPl8XgkSV6vV3FxcQHzcXFx8ng88nq9kqTY2NiA%2BdjYWP/rm8LpdGrVqlUBY7m5ucrLy2vyHhciNrZti%2BzbGtAba/TGGr2xRm%2Bs0ZvmSUiIDnYJRtkesM51n1VNTY1KS0t18803X9BeycnJcrlc%2Bte//qUnnnhCP/3pT5v0uvMFuQsNemebNGmShg8fHjDmcLSTx1PdrH3PFhERrtjYtqqsrFF9fYPRvUMdvbFGb6zRG2v0xhq9McP098gzghXcbA9YKSkpjf4VYWRkpLKzswMu%2BzVVWFiYUlJSVFBQoMmTJysrK8t/JuoMj8ejxMRESVJCQkKjea/Xq169evnXeL1eRUd/%2Bz/k%2BPHj6tChQ5NrSkpKanQ5sKLihOrqWuYvXn19Q4vtHerojTV6Y43eWKM31uhN87S23tkesEw8rb24uFgLFy7Utm3bFB7%2BzTXbM79fddVV2rFjR8D6kpIS/03taWlpcrvdGj9%2BvCSpvr5e%2B/btU3Z2trp166a4uDi53W4lJydL%2BuaHU586dcr/GAcAAIDzsT1gvfbaa01ee8cdd5xzPC0tTVVVVVq6dKny8vJUU1OjlStXauDAgcrJydG6deu0fv16jRs3Tu%2B//7727Nkjp9MpScrJydGsWbN02223qU%2BfPvqv//ovtWnTRkOHDlVERIQmTpyoNWvWKD09XVFRUXr22Wc1cuRIdezY0cjxAwCA1s/2gDVv3jw1NDQ0us8pLCwsYCwsLMwyYLVv317r1q3T4sWLdf3116tdu3a6/vrr9eSTT6pDhw5au3atFi9erEWLFik5OVlLly7VlVdeKUkaMmSIZs2apfz8fB09elTp6ekqLCxUVFSUJCkvL0/V1dW6/fbbVVdXp2HDhmnhwoUt0wwAANAqhfmae0f3BSouLta6des0Y8YM9enTRz6fTx9//LF%2B9atf6e6771ZGRoZ/bZs2bewsrUVVVJwwvqfDEa6EhGh5PNWt7tp1c9Eba/TGGr2xRm%2BsXcy9Gf3cu8Euocm25d/YIvt26tS%2BRfY9n6Dcg1VYWBjwKIWBAweqW7dumjp1qrZs2WJ3SQAAAEbZ/lSvzz77rNFzqKRvnjVVVlZmdzkAAADG2R6wkpOT9fTTTwc8uLOyslLLly/X97//fbvLAQAAMM72S4SPP/64Zs%2BeLafTqejoaIWHh6uqqkpRUVF68cUX7S4HAADAONsD1uDBg7V7927t2bNHX375pXw%2Bnzp37qwf/vCHat8%2BODeiAQAAmBSUn0XYtm1bjRgxQl9%2B%2BaW6desWjBIAAABajO33YJ08eVJz587VNddco9GjR0v65h6sadOmqbKy0u5yAAAAjLM9YC1dulQffvihli1b5v/xNtI3P7Jm2bJldpcDAABgnO0Ba8eOHXrhhRd0yy23%2BH/oc2xsrJYsWaLXX3/d7nIAAACMsz1gVVdXKyUlpdF4YmKivv76a7vLAQAAMM72gPX9739ff/nLXyQp4GcPbt%2B%2BXd/73vfsLgcAAMA42/8V4Y9%2B9CM9/PDDuvPOO9XQ0KCXXnpJJSUl2rFjh%2BbNm2d3OQAAAMbZHrAmTZokh8Ohl19%2BWREREVqzZo2uuOIKLVu2TLfccovd5QAAABhne8A6duyY7rzzTt155512vzUAAIAtbL8Ha8SIEQH3XgEAALQ2tgesjIwMbdu2ze63BQAAsI3tlwi7du2qJ598UoWFhfr%2B97%2Bvyy67LGB%2B%2BfLldpcEAABglO0Ba//%2B/frBD34gSfJ4PHa/PQAAQIuzLWAVFBRoxYoV%2Bt3vfucfe/HFF5Wbm2tXCQAAALaw7R6snTt3NhorLCy06%2B0BAABsY1vAOte/HORfEwIAgNbItoB15gc7n28MAAAg1Nn%2BmAYAAIDWjoAFAABgmG3/ivD06dOaPXv2ecd4DhYAAAh1tgWsa6%2B9VuXl5ecdAwAACHW2Baz/%2B/wrAACA1ox7sAAAAAwjYAEAABhGwAIAADCMgAUAAGAYAQsAAMAwAhYAAIBhBCwAAADDCFgAAACGEbAAAAAMI2ABAAAYRsACAAAwjIAFAABgGAELAADAMAIWAACAYSEbsMrKypSbm6uMjAxlZmbq0UcfVWVlpSTpww8/1N13361rr71WN998s9atWxfw2q1bt2rs2LG65pprNGHCBL3zzjv%2BuYaGBq1YsUIjRozQoEGDNHXqVH3%2B%2Bee2HhsAAAhtIRuwZsyYodjYWO3cuVOvvvqqPv30Uz3zzDM6efKkpk%2Bfruuvv15vv/22VqxYobVr1%2Br111%2BX9E34mjt3rubMmaP3339fU6ZM0U9%2B8hN9%2BeWXkqRXXnlFmzdvVmFhoXbt2qWUlBTl5ubK5/MF83ABAEAICcmAVVlZqbS0NM2ePVvR0dHq0qWLxo8fr7/%2B9a/avXu3Tp8%2BrYceekjt2rVTv379dNddd8npdEqS1q9fr6ysLGVlZSkyMlLjxo1T7969tWnTJkmS0%2BnUlClT1KNHD8XExKigoEClpaX64IMPgnnIAAAghDiCXcC/IzY2VkuWLAkYO3z4sJKSkuR2u9WnTx9FRET451JTU7V%2B/XpJktvtVlZWVsBrU1NT5XK5dPLkSe3fv1%2Bpqan%2BuZiYGHXv3l0ul0tXX311k%2BorLy9XRUVFwJjD0U5JSUkXdJznExERHvA7vkVvrNEba/TGGr2xRm/McDhaV/9CMmCdzeVy6eWXX9bq1au1bds2xcbGBszHx8fL6/WqoaFBXq9XcXFxAfNxcXHav3%2B/jh8/Lp/Pd855j8fT5HqcTqdWrVoVMJabm6u8vLwLPLKmiY1t2yL7tgb0xhq9sUZvrNEba/SmeRISooNdglEhH7D%2B9re/6aGHHtLs2bOVmZmpbdu2nXNdWFiY/7/Pdz9Vc%2B%2B3mjRpkoYPHx4w5nC0k8dT3ax9zxYREa7Y2LaqrKxRfX2D0b1DHb2xRm%2Bs0Rtr9MYavTHD9PfIM4IV3EI6YO3cuVOPPPKIFixYoDvuuEOSlJiYqM8%2B%2ByxgndfrVXx8vMLDw5WQkCCv19toPjEx0b/mXPMdOnRocl1JSUmNLgdWVJxQXV3L/MWrr29osb1DHb2xRm%2Bs0Rtr9MYavWme1ta7kL3g%2Bfe//2lsJBkAABNxSURBVF1z587V888/7w9XkpSWlqaPP/5YdXV1/jGXy6X%2B/fv750tKSgL2OjMfGRmpXr16ye12%2B%2BcqKyt16NAhXXXVVS18RAAAoLUIyYBVV1en%2BfPna86cORo8eHDAXFZWlmJiYrR69WrV1NTogw8%2B0IYNG5STkyNJmjhxot577z3t3r1btbW12rBhgz777DONGzdOkpSTk6OioiKVlpaqqqpKy5YtU9%2B%2BfZWenm77cQIAgNAUkpcI9%2B7dq9LSUi1evFiLFy8OmNu%2BfbvWrFmjn/3sZyosLFTHjh1VUFCgoUOHSpJ69%2B6tZcuWacmSJSorK1PPnj21du1aderUSZI0efJkVVRU6J577lF1dbUyMjIa3bAOAADwXcJ8PEHTFhUVJ4zv6XCEKyEhWh5Pdau7dt1c9MYavbFGb6zRG2sXc29GP/dusEtosm35N7bIvp06tW%2BRfc8nJC8RAgAAXMwIWAAAAIYRsAAAAAwjYAEAABhGwAIAADCMgAUAAGAYAQsAAMAwAhYAAIBhBCwAAADDCFgAAACGEbAAAAAMI2ABAAAYRsACAAAwjIAFAABgGAELAADAMAIWAACAYQQsAAAAwwhYAAAAhhGwAAAADCNgAQAAGEbAAgAAMIyABQAAYBgBCwAAwDACFgAAgGEELAAAAMMIWAAAAIYRsAAAAAwjYAEAABhGwAIAADCMgAUAAGAYAQsAAMAwAhYAAIBhBCwAAADDCFgAAACGEbAAAAAMI2ABAAAYRsACAAAwjIAFAABgGAELAADAMAIWAACAYQQsAAAAw0I6YL399tvKzMxUQUFBo7mtW7dq7NixuuaaazRhwgS98847/rmGhgatWLFCI0aM0KBBgzR16lR9/vnn/nmv16v8/HxlZmZq8ODBmjdvnk6ePGnLMQEAgNAXsgHrV7/6lRYvXqzu3bs3mvvwww81d%2B5czZkzR%2B%2B//76mTJmin/zkJ/ryyy8lSa%2B88oo2b96swsJC7dq1SykpKcrNzZXP55MkLViwQDU1NdqyZYv%2B%2BMc/qrS0VMuWLbP1%2BAAAQOgK2YAVGRmpDRs2nDNgrV%2B/XllZWcrKylJkZKTGjRun3r17a9OmTZIkp9OpKVOmqEePHoqJiVFBQYFKS0v1wQcf6KuvvtIbb7yhgoICJSYmqnPnzpo5c6b%2B%2BMc/6vTp03YfJgAACEGOYBfw77r33nst59xut7KysgLGUlNT5XK5dPLkSe3fv1%2Bpqan%2BuZiYGHXv3l0ul0snTpxQRESE%2BvTp45/v16%2Bfvv76ax04cCBg3Ep5ebkqKioCxhyOdkpKSmrq4TVJRER4wO/4Fr2xRm%2Bs0Rtr9MYavTHD4Whd/QvZgPVdvF6v4uLiAsbi4uK0f/9%2BHT9%2BXD6f75zzHo9H8fHxiomJUVhYWMCcJHk8nia9v9Pp1KpVqwLGcnNzlZeX9%2B8cznnFxrZtkX1bA3pjjd5YozfW6I01etM8CQnRwS7BqFYZsCT576f6d%2BbP99rzmTRpkoYPHx4w5nC0k8dT3ax9zxYREa7Y2LaqrKxRfX2D0b1DHb2xRm%2Bs0Rtr9MYavTHD9PfIM4IV3FplwEpISJDX6w0Y83q9SkxMVHx8vMLDw88536FDByUmJqqqqkr19fWKiIjwz0lShw4dmvT%2BSUlJjS4HVlScUF1dy/zFq69vaLG9Qx29sUZvrNEba/TGGr1pntbWu9Z1wfP/S0tLU0lJScCYy%2BVS//79FRkZqV69esntdvvnKisrdejQIV111VXq27evfD6fPvroo4DXxsbG6oorrrDtGAAAQOhqlQFr4sSJeu%2B997R7927V1tZqw4YN%2BuyzzzRu3DhJUk5OjoqKilRaWqqqqiotW7ZMffv2VXp6uhITEzVq1Cg999xzOnbsmL788ku9%2BOKLys7OlsPRKk/4AQAAw0I2MaSnp0uS6urqJElvvPGGpG/ONvXu3VvLli3TkiVLVFZWpp49e2rt2rXq1KmTJGny5MmqqKjQPffco%2BrqamVkZATclP7zn/9cP/vZzzRixAhddtlluu222875MFMAAIBzCfM1945uNElFxQnjezoc4UpIiJbHU93qrl03F72xRm%2Bs0Rtr9Mbaxdyb0c%2B9G%2BwSmmxb/o0tsm%2BnTu1bZN/zaZWXCAEAAIKJgAUAAGAYAQsAAMAwAhYAAIBhBCwAAADDCFgAAACGEbAAAAAMI2ABAAAYRsACAAAwjIAFAABgGAELAADAMAIWAACAYQQsAAAAwwhYAAAAhhGwAAAADCNgAQAAGEbAAgAAMIyABQAAYBgBCwAAwDACFgAAgGEELAAAAMMIWAAAAIYRsAAAAAxzBLsAAABCxejn3g12CQgRnMECAAAwjIAFAABgGAELAADAMAIWAACAYQQsAAAAwwhYAAAAhhGwAAAADCNgAQAAGEbAAgAAMIyABQAAYBgBCwAAwDACFgAAgGEELAAAAMMIWAAAAIY5gl0AmmfgvO3BLqHJtuXfGOwSAACwBWewAAAADOMMFmwz%2Brl3g13CBeGMGwDg38UZrHMoKyvTj3/8Y2VkZGjYsGFaunSpGhoagl0WAAAIEZzBOoeHH35Y/fr10xtvvKGjR49q%2BvTp6tixo%2B6///5glwYAAEIAZ7DO4nK59NFHH2nOnDlq3769UlJSNGXKFDmdzmCXBgAAQgRnsM7idruVnJysuLg4/1i/fv108OBBVVVVKSYm5rx7lJeXq6KiImDM4WinpKQko7VGRJCPW5LD0Tr7e%2BZzw%2BenMXpjjd6gpbW2r7kErLN4vV7FxsYGjJ0JWx6Pp0kBy%2Bl0atWqVQFjP/nJT/Twww%2BbK1TfBLn7unyqSZMmGQ9voa68vFxOp5PenEN5ebl%2B%2B9tf05tzoDfW6M03/vrkLY3G%2BHpj7VLuTeuKi4b4fL5mvX7SpEl69dVXA35NmjTJUHXfqqio0KpVqxqdLQO9%2BS70xhq9sUZvrNEba5dybziDdZbExER5vd6AMa/Xq7CwMCUmJjZpj6SkpEsuqQMAgG9xBussaWlpOnz4sI4dO%2BYfc7lc6tmzp6Kjo4NYGQAACBUErLOkpqYqPT1dy5cvV1VVlUpLS/XSSy8pJycn2KUBAIAQEbFw4cKFwS7iYvPDH/5QW7Zs0S9%2B8Qv9%2Bc9/VnZ2tqZOnaqwsLBgl9ZIdHS0rrvuOs6unQO9sUZvrNEba/TGGr2xdqn2JszX3Du6AQAAEIBLhAAAAIYRsAAAAAwjYAEAABhGwAIAADCMgAUAAGAYAQsAAMAwAhYAAIBhBCwAAADDCFgAAACGEbAucmVlZfrxj3%2BsjIwMDRs2TEuXLlVDQ8M51xYVFWnUqFEaMGCAcnJyVFJSYnO19mpqb1auXKm%2BffsqPT094NdXX30VhKrt8fbbbyszM1MFBQXfua6hoUErVqzQiBEjNGjQIE2dOlWff/65TVUGT1P78%2Bijj/p/PumZXwMHDrSpSvuVlZUpNzdXGRkZyszM1KOPPqrKyspzrt26davGjh2ra665RhMmTNA777xjc7X2ampvXn31VV155ZWNvt7885//DELV9vjoo49033336dprr1VmZqby8/NVUVFxzrWX1PcpHy5q48eP982fP99XWVnpO3jwoO/mm2/2rVu3rtG6N9980zdw4EDf3r17fTU1Nb61a9f6brzxRl91dXUQqrZHU3vzwgsv%2BObOnRuECoOjsLDQd/PNN/smT57sy8/P/861RUVFvmHDhvn279/vO3HihO/nP/%2B5b%2BzYsb6GhgabqrXfhfRn7ty5vhdeeMGmyoLvtttu8z366KO%2Bqqoq3%2BHDh30TJkzwPf74443W7du3z5eWlubbvXu37%2BTJk76NGzf6%2Bvfv7zt8%2BHAQqrZHU3vzxz/%2B0Xf33XcHocLgqK2t9d1www2%2BVatW%2BWpra31Hjx713X333b6ZM2c2WnupfZ/iDNZFzOVy6aOPPtKcOXPUvn17paSkaMqUKXI6nY3WOp1OTZgwQf3791dUVJSmTZsmSdq1a5fdZdviQnpzqYmMjNSGDRvUvXv38651Op2aMmWKevTooZiYGBUUFKi0tFQffPCBDZUGx4X051JSWVmptLQ0zZ49W9HR0erSpYvGjx%2Bvv/71r43Wrl%2B/XllZWcrKylJkZKTGjRun3r17a9OmTUGovOVdSG8uNTU1NSooKND06dPVpk0bJSYmauTIkfr0008brb3Uvk8RsC5ibrdbycnJiouL84/169dPBw8eVFVVVaO1qamp/j%2BHh4erb9%2B%2BcrlcttVrpwvpjSR9/PHHmjx5sgYMGKAxY8a06ssZ9957r9q3b3/edSdPntT%2B/fsDPjcxMTHq3r17q/3cSE3vzxnvv/%2B%2B7rjjDl1zzTXKzs5utZc0YmNjtWTJEnXs2NE/dvjwYSUlJTVae/bXG0lKTU1ttZ%2BbC%2BnNmbn7779fgwYN0ogRI7Rx40a7SrVdXFyc7rrrLjkcDknSgQMH9Kc//UmjR49utPZS%2Bz5FwLqIeb1excbGBoydCRQej6fR2v8bNs6sPXtda3EhvenSpYu6deumZ555Ru%2B%2B%2B67uuusuzZgxQwcOHLCt3ovR8ePH5fP5LqnPzYXq1q2bunfvrrVr1%2Brtt9/WwIED9cADD1wS/XG5XHr55Zf10EMPNZq71L7enO27epOYmKiUlBQ98sgjevfddzVr1iw9/vjjKi4uDkKl9ikrK1NaWppuvfVWpaenKy8vr9GaS%2B1zQ8C6yPl8vhZZ2xo09XjvuusuvfDCC%2Brevbvatm2rKVOmqG/fvq32csaFutQ%2BNxciNzdXTz31lDp37qyYmBg98sgjatOmjd54441gl9ai/va3v2nq1KmaPXu2MjMzz7nmUv3cnK83Q4cO1a9//WulpqaqTZs2GjNmjEaOHKlXX301CNXaJzk5WS6XS9u3b9dnn32mn/70p%2Bdcdyl9bghYF7HExER5vd6AMa/Xq7CwMCUmJgaMJyQknHPt2etaiwvpzbkkJyervLy8pcoLCfHx8QoPDz9nHzt06BCkqi5uERER6tq1a6v%2B7OzcuVM//vGP9fjjj%2Bvee%2B8955pL7evNGU3pzblcKl9vwsLClJKSooKCAm3ZskXHjh0LmL/UPjcErItYWlqaDh8%2BHPAhdblc6tmzp6Kjoxutdbvd/j/X19dr37596t%2B/v2312ulCevOf//mfjU7Pl5aWqlu3brbUerGKjIxUr169Aj43lZWVOnTokK666qogVnZx8Pl8WrJkiT766CP/2KlTp3To0KFW%2B9n5%2B9//rrlz5%2Br555/XHXfcYbkuLS2t0b1oLper1X69kZrem//%2B7//W1q1bA8Za89eb4uJijRo1KuAROeHh30SLyy67LGDtpfZ9ioB1ETvz/J3ly5erqqpKpaWleumll5STkyNJuuWWW/z/iiUnJ0evvfaa9u7dq5qaGq1evVpt2rTR0KFDg3gELedCeuP1erVo0SIdOHBAtbW1WrdunQ4dOqTx48cH8xCC4siRI7rlllv8z7rKyclRUVGRSktLVVVVpWXLlvmfGXYp%2Br/9CQsL0xdffKFFixbpyJEjqq6u1rJly3TZZZfppptuCnapxtXV1Wn%2B/PmaM2eOBg8e3Gj%2Bvvvu8weHiRMn6r333tPu3btVW1urDRs26LPPPtO4cePsLtsWF9KbU6dO6Re/%2BIVcLpdOnz6tLVu26K233tLkyZPtLtsWaWlpqqqq0tKlS1VTU6Njx45p5cqVGjhwoNq3b39Jf59yBLsAfLcXXnhBCxYs0I033qiYmBhNnjxZP/rRjyRJBw8e1Ndffy1JGjJkiGbNmqX8/HwdPXpU6enpKiwsVFRUVDDLb1FN7c3s2bMlSVOmTJHX61XPnj31m9/8Rl26dAla7S3pTDiqq6uTJP/9Qme%2B4B88eFCnTp2SJE2ePFkVFRW65557VF1drYyMDK1atSo4hdvkQvrz5JNP6plnntGECRNUVVWlq666Sr/97W/Vrl274BTfgvbu3avS0lItXrxYixcvDpjbvn27Pv/8cx0/flyS1Lt3by1btkxLlixRWVmZevbsqbVr16pTp07BKL3FXUhv7r33XlVXV%2Bs//uM/VFFRocsvv1wvvvii0tLSglF6i2vfvr3WrVunxYsX6/rrr1e7du10/fXX68knn5R0aX%2BfCvNdSnecAQAA2IBLhAAAAIYRsAAAAAwjYAEAABhGwAIAADCMgAUAAGAYAQsAAMAwAhYAAIBhBCwAAGCLt99%2BW5mZmSooKLjg13711VeaOnWq%2BvTpo9raWv/4//zP/yg9PT3gV1pamvr06WOy9AvGk9wBAECL%2B9WvfqUNGzaoe/fuF/zajz/%2BWNOnT9e1117baG7QoEFyuVwBY2vWrAn4OaLBwBksAADQ4iIjI78zYG3dulW33367rr76ao0YMUJOp9M/d%2BzYMT377LOaOHHied/nf//3f/XSSy/ppz/9qbHa/x2cwQIAAC3u3nvvtZxzuVyaN2%2BeVq5cqRtuuEH/%2BMc/9OCDD6pXr14aMGCAbrjhBknSX/7yl/O%2Bz/PPP68777xT3/ve94zV/u/gDBYAAAiqV199VUOHDtXgwYMVERGhgQMHavTo0dq4ceMF7fPFF1/o9ddf1/33399ClTYdZ7AAAEBQHTp0SMXFxUpPT/eP%2BXw%2BDR48%2BIL2eeWVV3TzzTerU6dOpku8YP8P6HCfEoZqvKIAAAAASUVORK5CYII%3D\"/>\n",
              "        </div>\n",
              "        <div role=\"tabpanel\" class=\"tab-pane col-md-12\" id=\"common4284729226587732486\">\n",
              "            \n",
              "<table class=\"freq table table-hover\">\n",
              "    <thead>\n",
              "    <tr>\n",
              "        <td class=\"fillremaining\">Value</td>\n",
              "        <td class=\"number\">Count</td>\n",
              "        <td class=\"number\">Frequency (%)</td>\n",
              "        <td style=\"min-width:200px\">&nbsp;</td>\n",
              "    </tr>\n",
              "    </thead>\n",
              "    <tr class=\"\">\n",
              "        <td class=\"fillremaining\">306471306965180416</td>\n",
              "        <td class=\"number\">1</td>\n",
              "        <td class=\"number\">0.0%</td>\n",
              "        <td>\n",
              "            <div class=\"bar\" style=\"width:1%\">&nbsp;</div>\n",
              "        </td>\n",
              "</tr><tr class=\"\">\n",
              "        <td class=\"fillremaining\">304912132456202240</td>\n",
              "        <td class=\"number\">1</td>\n",
              "        <td class=\"number\">0.0%</td>\n",
              "        <td>\n",
              "            <div class=\"bar\" style=\"width:1%\">&nbsp;</div>\n",
              "        </td>\n",
              "</tr><tr class=\"\">\n",
              "        <td class=\"fillremaining\">306257416687865856</td>\n",
              "        <td class=\"number\">1</td>\n",
              "        <td class=\"number\">0.0%</td>\n",
              "        <td>\n",
              "            <div class=\"bar\" style=\"width:1%\">&nbsp;</div>\n",
              "        </td>\n",
              "</tr><tr class=\"\">\n",
              "        <td class=\"fillremaining\">304170815585402880</td>\n",
              "        <td class=\"number\">1</td>\n",
              "        <td class=\"number\">0.0%</td>\n",
              "        <td>\n",
              "            <div class=\"bar\" style=\"width:1%\">&nbsp;</div>\n",
              "        </td>\n",
              "</tr><tr class=\"\">\n",
              "        <td class=\"fillremaining\">283553209342119936</td>\n",
              "        <td class=\"number\">1</td>\n",
              "        <td class=\"number\">0.0%</td>\n",
              "        <td>\n",
              "            <div class=\"bar\" style=\"width:1%\">&nbsp;</div>\n",
              "        </td>\n",
              "</tr><tr class=\"\">\n",
              "        <td class=\"fillremaining\">298340988164923392</td>\n",
              "        <td class=\"number\">1</td>\n",
              "        <td class=\"number\">0.0%</td>\n",
              "        <td>\n",
              "            <div class=\"bar\" style=\"width:1%\">&nbsp;</div>\n",
              "        </td>\n",
              "</tr><tr class=\"\">\n",
              "        <td class=\"fillremaining\">302387231602126848</td>\n",
              "        <td class=\"number\">1</td>\n",
              "        <td class=\"number\">0.0%</td>\n",
              "        <td>\n",
              "            <div class=\"bar\" style=\"width:1%\">&nbsp;</div>\n",
              "        </td>\n",
              "</tr><tr class=\"\">\n",
              "        <td class=\"fillremaining\">303618693135466496</td>\n",
              "        <td class=\"number\">1</td>\n",
              "        <td class=\"number\">0.0%</td>\n",
              "        <td>\n",
              "            <div class=\"bar\" style=\"width:1%\">&nbsp;</div>\n",
              "        </td>\n",
              "</tr><tr class=\"\">\n",
              "        <td class=\"fillremaining\">304612765044191232</td>\n",
              "        <td class=\"number\">1</td>\n",
              "        <td class=\"number\">0.0%</td>\n",
              "        <td>\n",
              "            <div class=\"bar\" style=\"width:1%\">&nbsp;</div>\n",
              "        </td>\n",
              "</tr><tr class=\"\">\n",
              "        <td class=\"fillremaining\">303759466527068162</td>\n",
              "        <td class=\"number\">1</td>\n",
              "        <td class=\"number\">0.0%</td>\n",
              "        <td>\n",
              "            <div class=\"bar\" style=\"width:1%\">&nbsp;</div>\n",
              "        </td>\n",
              "</tr><tr class=\"other\">\n",
              "        <td class=\"fillremaining\">Other values (6515)</td>\n",
              "        <td class=\"number\">6515</td>\n",
              "        <td class=\"number\">99.8%</td>\n",
              "        <td>\n",
              "            <div class=\"bar\" style=\"width:100%\">&nbsp;</div>\n",
              "        </td>\n",
              "</tr>\n",
              "</table>\n",
              "        </div>\n",
              "        <div role=\"tabpanel\" class=\"tab-pane col-md-12\"  id=\"extreme4284729226587732486\">\n",
              "            <p class=\"h4\">Minimum 5 values</p>\n",
              "            \n",
              "<table class=\"freq table table-hover\">\n",
              "    <thead>\n",
              "    <tr>\n",
              "        <td class=\"fillremaining\">Value</td>\n",
              "        <td class=\"number\">Count</td>\n",
              "        <td class=\"number\">Frequency (%)</td>\n",
              "        <td style=\"min-width:200px\">&nbsp;</td>\n",
              "    </tr>\n",
              "    </thead>\n",
              "    <tr class=\"\">\n",
              "        <td class=\"fillremaining\">23909305792</td>\n",
              "        <td class=\"number\">1</td>\n",
              "        <td class=\"number\">0.0%</td>\n",
              "        <td>\n",
              "            <div class=\"bar\" style=\"width:100%\">&nbsp;</div>\n",
              "        </td>\n",
              "</tr><tr class=\"\">\n",
              "        <td class=\"fillremaining\">23909540280</td>\n",
              "        <td class=\"number\">1</td>\n",
              "        <td class=\"number\">0.0%</td>\n",
              "        <td>\n",
              "            <div class=\"bar\" style=\"width:100%\">&nbsp;</div>\n",
              "        </td>\n",
              "</tr><tr class=\"\">\n",
              "        <td class=\"fillremaining\">23910419116</td>\n",
              "        <td class=\"number\">1</td>\n",
              "        <td class=\"number\">0.0%</td>\n",
              "        <td>\n",
              "            <div class=\"bar\" style=\"width:100%\">&nbsp;</div>\n",
              "        </td>\n",
              "</tr><tr class=\"\">\n",
              "        <td class=\"fillremaining\">23916570859</td>\n",
              "        <td class=\"number\">1</td>\n",
              "        <td class=\"number\">0.0%</td>\n",
              "        <td>\n",
              "            <div class=\"bar\" style=\"width:100%\">&nbsp;</div>\n",
              "        </td>\n",
              "</tr><tr class=\"\">\n",
              "        <td class=\"fillremaining\">23916596072</td>\n",
              "        <td class=\"number\">1</td>\n",
              "        <td class=\"number\">0.0%</td>\n",
              "        <td>\n",
              "            <div class=\"bar\" style=\"width:100%\">&nbsp;</div>\n",
              "        </td>\n",
              "</tr>\n",
              "</table>\n",
              "            <p class=\"h4\">Maximum 5 values</p>\n",
              "            \n",
              "<table class=\"freq table table-hover\">\n",
              "    <thead>\n",
              "    <tr>\n",
              "        <td class=\"fillremaining\">Value</td>\n",
              "        <td class=\"number\">Count</td>\n",
              "        <td class=\"number\">Frequency (%)</td>\n",
              "        <td style=\"min-width:200px\">&nbsp;</td>\n",
              "    </tr>\n",
              "    </thead>\n",
              "    <tr class=\"\">\n",
              "        <td class=\"fillremaining\">306832539874623488</td>\n",
              "        <td class=\"number\">1</td>\n",
              "        <td class=\"number\">0.0%</td>\n",
              "        <td>\n",
              "            <div class=\"bar\" style=\"width:100%\">&nbsp;</div>\n",
              "        </td>\n",
              "</tr><tr class=\"\">\n",
              "        <td class=\"fillremaining\">306833705622700032</td>\n",
              "        <td class=\"number\">1</td>\n",
              "        <td class=\"number\">0.0%</td>\n",
              "        <td>\n",
              "            <div class=\"bar\" style=\"width:100%\">&nbsp;</div>\n",
              "        </td>\n",
              "</tr><tr class=\"\">\n",
              "        <td class=\"fillremaining\">306833861571133440</td>\n",
              "        <td class=\"number\">1</td>\n",
              "        <td class=\"number\">0.0%</td>\n",
              "        <td>\n",
              "            <div class=\"bar\" style=\"width:100%\">&nbsp;</div>\n",
              "        </td>\n",
              "</tr><tr class=\"\">\n",
              "        <td class=\"fillremaining\">306833881275981824</td>\n",
              "        <td class=\"number\">1</td>\n",
              "        <td class=\"number\">0.0%</td>\n",
              "        <td>\n",
              "            <div class=\"bar\" style=\"width:100%\">&nbsp;</div>\n",
              "        </td>\n",
              "</tr><tr class=\"\">\n",
              "        <td class=\"fillremaining\">306834146813169667</td>\n",
              "        <td class=\"number\">1</td>\n",
              "        <td class=\"number\">0.0%</td>\n",
              "        <td>\n",
              "            <div class=\"bar\" style=\"width:100%\">&nbsp;</div>\n",
              "        </td>\n",
              "</tr>\n",
              "</table>\n",
              "        </div>\n",
              "    </div>\n",
              "</div>\n",
              "</div><div class=\"row variablerow\">\n",
              "    <div class=\"col-md-3 namecol\">\n",
              "        <p class=\"h4 pp-anchor\" id=\"pp_var_Label\">Label<br/>\n",
              "            <small>Categorical</small>\n",
              "        </p>\n",
              "    </div><div class=\"col-md-3\">\n",
              "    <table class=\"stats \">\n",
              "        <tr class=\"\">\n",
              "            <th>Distinct count</th>\n",
              "            <td>2</td>\n",
              "        </tr>\n",
              "        <tr>\n",
              "            <th>Unique (%)</th>\n",
              "            <td>0.0%</td>\n",
              "        </tr>\n",
              "        <tr class=\"ignore\">\n",
              "            <th>Missing (%)</th>\n",
              "            <td>0.0%</td>\n",
              "        </tr>\n",
              "        <tr class=\"ignore\">\n",
              "            <th>Missing (n)</th>\n",
              "            <td>0</td>\n",
              "        </tr>\n",
              "    </table>\n",
              "</div>\n",
              "<div class=\"col-md-6 collapse in\" id=\"minifreqtable-6390121195148108974\">\n",
              "    <table class=\"mini freq\">\n",
              "        <tr class=\"\">\n",
              "    <th>Sports</th>\n",
              "    <td>\n",
              "        <div class=\"bar\" style=\"width:100%\" data-toggle=\"tooltip\" data-placement=\"right\" data-html=\"true\"\n",
              "             data-delay=500 title=\"Percentage: 51.0%\">\n",
              "            3325\n",
              "        </div>\n",
              "        \n",
              "    </td>\n",
              "</tr><tr class=\"\">\n",
              "    <th>Politics</th>\n",
              "    <td>\n",
              "        <div class=\"bar\" style=\"width:96%\" data-toggle=\"tooltip\" data-placement=\"right\" data-html=\"true\"\n",
              "             data-delay=500 title=\"Percentage: 49.0%\">\n",
              "            3200\n",
              "        </div>\n",
              "        \n",
              "    </td>\n",
              "</tr>\n",
              "    </table>\n",
              "</div>\n",
              "<div class=\"col-md-12 text-right\">\n",
              "    <a role=\"button\" data-toggle=\"collapse\" data-target=\"#freqtable-6390121195148108974, #minifreqtable-6390121195148108974\"\n",
              "       aria-expanded=\"true\" aria-controls=\"collapseExample\">\n",
              "        Toggle details\n",
              "    </a>\n",
              "</div>\n",
              "<div class=\"col-md-12 extrapadding collapse\" id=\"freqtable-6390121195148108974\">\n",
              "    \n",
              "<table class=\"freq table table-hover\">\n",
              "    <thead>\n",
              "    <tr>\n",
              "        <td class=\"fillremaining\">Value</td>\n",
              "        <td class=\"number\">Count</td>\n",
              "        <td class=\"number\">Frequency (%)</td>\n",
              "        <td style=\"min-width:200px\">&nbsp;</td>\n",
              "    </tr>\n",
              "    </thead>\n",
              "    <tr class=\"\">\n",
              "        <td class=\"fillremaining\">Sports</td>\n",
              "        <td class=\"number\">3325</td>\n",
              "        <td class=\"number\">51.0%</td>\n",
              "        <td>\n",
              "            <div class=\"bar\" style=\"width:100%\">&nbsp;</div>\n",
              "        </td>\n",
              "</tr><tr class=\"\">\n",
              "        <td class=\"fillremaining\">Politics</td>\n",
              "        <td class=\"number\">3200</td>\n",
              "        <td class=\"number\">49.0%</td>\n",
              "        <td>\n",
              "            <div class=\"bar\" style=\"width:96%\">&nbsp;</div>\n",
              "        </td>\n",
              "</tr>\n",
              "</table>\n",
              "</div>\n",
              "</div><div class=\"row variablerow\">\n",
              "    <div class=\"col-md-3 namecol\">\n",
              "        <p class=\"h4 pp-anchor\" id=\"pp_var_TweetText\">TweetText<br/>\n",
              "            <small>Categorical</small>\n",
              "        </p>\n",
              "    </div><div class=\"col-md-3\">\n",
              "    <table class=\"stats \">\n",
              "        <tr class=\"alert\">\n",
              "            <th>Distinct count</th>\n",
              "            <td>6508</td>\n",
              "        </tr>\n",
              "        <tr>\n",
              "            <th>Unique (%)</th>\n",
              "            <td>99.7%</td>\n",
              "        </tr>\n",
              "        <tr class=\"ignore\">\n",
              "            <th>Missing (%)</th>\n",
              "            <td>0.0%</td>\n",
              "        </tr>\n",
              "        <tr class=\"ignore\">\n",
              "            <th>Missing (n)</th>\n",
              "            <td>0</td>\n",
              "        </tr>\n",
              "    </table>\n",
              "</div>\n",
              "<div class=\"col-md-6 collapse in\" id=\"minifreqtable-4693898099496438801\">\n",
              "    <table class=\"mini freq\">\n",
              "        <tr class=\"\">\n",
              "    <th>'Coaches: Check out the latest content from the High Performance Centres Coach Workshops: http://t.co/6OQzocrm'</th>\n",
              "    <td>\n",
              "        <div class=\"bar\" style=\"width:1%\" data-toggle=\"tooltip\" data-placement=\"right\" data-html=\"true\"\n",
              "             data-delay=500 title=\"Percentage: 0.0%\">\n",
              "            &nbsp;\n",
              "        </div>\n",
              "        3\n",
              "    </td>\n",
              "</tr><tr class=\"\">\n",
              "    <th>'RT @HouseofCommons: Prime Minister\\u2019s Questions is coming up at midday. You can follow proceedings on the Parliament website http://t.co/ ...'</th>\n",
              "    <td>\n",
              "        <div class=\"bar\" style=\"width:1%\" data-toggle=\"tooltip\" data-placement=\"right\" data-html=\"true\"\n",
              "             data-delay=500 title=\"Percentage: 0.0%\">\n",
              "            &nbsp;\n",
              "        </div>\n",
              "        3\n",
              "    </td>\n",
              "</tr><tr class=\"\">\n",
              "    <th>'Daily tickets for the Aegon International are on sale now! Get yours at: http://t.co/K6yDYuHO or by calling 0844 581 3015'</th>\n",
              "    <td>\n",
              "        <div class=\"bar\" style=\"width:1%\" data-toggle=\"tooltip\" data-placement=\"right\" data-html=\"true\"\n",
              "             data-delay=500 title=\"Percentage: 0.0%\">\n",
              "            &nbsp;\n",
              "        </div>\n",
              "        2\n",
              "    </td>\n",
              "</tr><tr class=\"other\">\n",
              "    <th>Other values (6505)</th>\n",
              "    <td>\n",
              "        <div class=\"bar\" style=\"width:100%\" data-toggle=\"tooltip\" data-placement=\"right\" data-html=\"true\"\n",
              "             data-delay=500 title=\"Percentage: 99.9%\">\n",
              "            6517\n",
              "        </div>\n",
              "        \n",
              "    </td>\n",
              "</tr>\n",
              "    </table>\n",
              "</div>\n",
              "<div class=\"col-md-12 text-right\">\n",
              "    <a role=\"button\" data-toggle=\"collapse\" data-target=\"#freqtable-4693898099496438801, #minifreqtable-4693898099496438801\"\n",
              "       aria-expanded=\"true\" aria-controls=\"collapseExample\">\n",
              "        Toggle details\n",
              "    </a>\n",
              "</div>\n",
              "<div class=\"col-md-12 extrapadding collapse\" id=\"freqtable-4693898099496438801\">\n",
              "    \n",
              "<table class=\"freq table table-hover\">\n",
              "    <thead>\n",
              "    <tr>\n",
              "        <td class=\"fillremaining\">Value</td>\n",
              "        <td class=\"number\">Count</td>\n",
              "        <td class=\"number\">Frequency (%)</td>\n",
              "        <td style=\"min-width:200px\">&nbsp;</td>\n",
              "    </tr>\n",
              "    </thead>\n",
              "    <tr class=\"\">\n",
              "        <td class=\"fillremaining\">'Coaches: Check out the latest content from the High Performance Centres Coach Workshops: http://t.co/6OQzocrm'</td>\n",
              "        <td class=\"number\">3</td>\n",
              "        <td class=\"number\">0.0%</td>\n",
              "        <td>\n",
              "            <div class=\"bar\" style=\"width:1%\">&nbsp;</div>\n",
              "        </td>\n",
              "</tr><tr class=\"\">\n",
              "        <td class=\"fillremaining\">'RT @HouseofCommons: Prime Minister\\u2019s Questions is coming up at midday. You can follow proceedings on the Parliament website http://t.co/ ...'</td>\n",
              "        <td class=\"number\">3</td>\n",
              "        <td class=\"number\">0.0%</td>\n",
              "        <td>\n",
              "            <div class=\"bar\" style=\"width:1%\">&nbsp;</div>\n",
              "        </td>\n",
              "</tr><tr class=\"\">\n",
              "        <td class=\"fillremaining\">'Daily tickets for the Aegon International are on sale now! Get yours at: http://t.co/K6yDYuHO or by calling 0844 581 3015'</td>\n",
              "        <td class=\"number\">2</td>\n",
              "        <td class=\"number\">0.0%</td>\n",
              "        <td>\n",
              "            <div class=\"bar\" style=\"width:1%\">&nbsp;</div>\n",
              "        </td>\n",
              "</tr><tr class=\"\">\n",
              "        <td class=\"fillremaining\">'.@WhiteHouse Fact Sheet: Advancing Rights of #LGBT People Globally: http://t.co/dIpeJpOtFr @State_DRL @HumanRightsGov'</td>\n",
              "        <td class=\"number\">2</td>\n",
              "        <td class=\"number\">0.0%</td>\n",
              "        <td>\n",
              "            <div class=\"bar\" style=\"width:1%\">&nbsp;</div>\n",
              "        </td>\n",
              "</tr><tr class=\"\">\n",
              "        <td class=\"fillremaining\">Here's an interactive route map of the BCIM Car Rally, Kolkata to Kunming, #China. 4 Countries, 3000KMs, 12 days! http://t.co/GP3h5HL3</td>\n",
              "        <td class=\"number\">2</td>\n",
              "        <td class=\"number\">0.0%</td>\n",
              "        <td>\n",
              "            <div class=\"bar\" style=\"width:1%\">&nbsp;</div>\n",
              "        </td>\n",
              "</tr><tr class=\"\">\n",
              "        <td class=\"fillremaining\">'Book of the Day: Trying to predict whether Britain will leave the EU? Start with the history of how it joined: http://t.co/NQ5N2Jgw'</td>\n",
              "        <td class=\"number\">2</td>\n",
              "        <td class=\"number\">0.0%</td>\n",
              "        <td>\n",
              "            <div class=\"bar\" style=\"width:1%\">&nbsp;</div>\n",
              "        </td>\n",
              "</tr><tr class=\"\">\n",
              "        <td class=\"fillremaining\">'Who is your BBL|02 MVP? http://t.co/ADle5YGo #BBL02'</td>\n",
              "        <td class=\"number\">2</td>\n",
              "        <td class=\"number\">0.0%</td>\n",
              "        <td>\n",
              "            <div class=\"bar\" style=\"width:1%\">&nbsp;</div>\n",
              "        </td>\n",
              "</tr><tr class=\"\">\n",
              "        <td class=\"fillremaining\">'2 mins added time. #CFC'</td>\n",
              "        <td class=\"number\">2</td>\n",
              "        <td class=\"number\">0.0%</td>\n",
              "        <td>\n",
              "            <div class=\"bar\" style=\"width:1%\">&nbsp;</div>\n",
              "        </td>\n",
              "</tr><tr class=\"\">\n",
              "        <td class=\"fillremaining\">France drove the Islamist and Tuareg militants out of Mali's cities, but they've got plenty of places to go. http://t.co/4fLd1jcr</td>\n",
              "        <td class=\"number\">2</td>\n",
              "        <td class=\"number\">0.0%</td>\n",
              "        <td>\n",
              "            <div class=\"bar\" style=\"width:1%\">&nbsp;</div>\n",
              "        </td>\n",
              "</tr><tr class=\"\">\n",
              "        <td class=\"fillremaining\">'Buy your #AusGP general admission tickets before March 1 for early bird prices. #F1 #cantwaitforausgp http://t.co/h2YYqr89KX'</td>\n",
              "        <td class=\"number\">2</td>\n",
              "        <td class=\"number\">0.0%</td>\n",
              "        <td>\n",
              "            <div class=\"bar\" style=\"width:1%\">&nbsp;</div>\n",
              "        </td>\n",
              "</tr><tr class=\"other\">\n",
              "        <td class=\"fillremaining\">Other values (6498)</td>\n",
              "        <td class=\"number\">6503</td>\n",
              "        <td class=\"number\">99.7%</td>\n",
              "        <td>\n",
              "            <div class=\"bar\" style=\"width:100%\">&nbsp;</div>\n",
              "        </td>\n",
              "</tr>\n",
              "</table>\n",
              "</div>\n",
              "</div>\n",
              "    <div class=\"row headerrow highlight\">\n",
              "        <h1>Correlations</h1>\n",
              "    </div>\n",
              "    <div class=\"row variablerow\">\n",
              "    <img src=\"data:image/png;base64,iVBORw0KGgoAAAANSUhEUgAAAmEAAAIWCAYAAAAf0loyAAAABHNCSVQICAgIfAhkiAAAAAlwSFlzAAAPYQAAD2EBqD%2BnaQAAADh0RVh0U29mdHdhcmUAbWF0cGxvdGxpYiB2ZXJzaW9uMy4xLjEsIGh0dHA6Ly9tYXRwbG90bGliLm9yZy8QZhcZAAAgAElEQVR4nO3de1hVZcL%2B8RtQYRQBUTY6SmkqioAOlHkcS9Q0s5ghFfU35aGmTMEkG8spJ3VsnBpNX8UsZ15Pb07RaKljNhl2mA7OO5IHtggekDwioLJVPHDcvz983eNOTFwLXKjfz3XtK3nWgWevuUZu72fthYfT6XQKAAAAN5Sn1RMAAAC4HRHCAAAALEAIAwAAsAAhDAAAwAKEMAAAAAsQwgAAACxACAMAALAAIQwAAMAChDAAAAALEMIAAAAsUMfqCQAwp127dlfdVrduXQUEBCgiIkK/%2BMUv1L9/f3l4eNzA2QEArsaD3x0J3NwuhbCOHTsqKCjIbVtxcbH279%2Bvo0ePSpJ69%2B6t%2BfPnq169ejd8ngAAd4Qw4CZ3KYQtXLhQffv2rXSf1NRU/eY3v9G5c%2Bc0ZswYvfDCCzdyigCASnBPGHAb6Nu3ryZNmiRJevfdd1VcXGzxjAAA3BMG3CYeeOAB/f73v9f58%2Be1a9cuRUVFuW3fvHmzVq5cqe3bt8vhcMjX11ft27fXo48%2BqocffrjSczocDi1dulRffvmlDhw4oJKSEvn7%2B6tjx44aPXq0unTpcsUxMTExOnLkiP785z%2BruLhYc%2BfO1aFDh7Rs2TLdfffdkqQ9e/ZoyZIlSktLU15enurUqSObzaZ7771Xv/rVryq9D%2B7MmTNavny5Nm3apAMHDqi0tFRNmjRRdHS0Ro0apcjISLf9Dx8%2BrD59%2BkiS0tPTlZ2drUWLFmnbtm1yOByy2Wzq06ePkpKSVL9%2BfUPXHAB%2BDE0YcJsICAhw/fn06dNu2%2BbOnatRo0bp008/la%2Bvr7p06aLAwEBt3rxZzz//vCZOnKjy8nK3YwoKChQXF6e33npL%2B/fvV4cOHdS1a1fVq1dPn3/%2BuUaOHKnVq1dfdT779%2B9XUlKS6tatq65du8rHx0eS9O9//1uPPvqoPvzwQxUXF%2Bvuu%2B9WVFSUioqK9P7772vo0KHavHmz27mOHDmiX/7yl1qwYIH27dun9u3bq2vXrnI6nVq/fr2GDh2qVatWXXUuW7du1YgRI5SRkaH27durVatWOnLkiFasWKHExMQqX2MAuC5OADe10NBQZ2hoqPPTTz/90f2ys7Nd%2B6anp7vGN27c6AwNDXV27tzZ%2Bb//%2B79ux/z73/92du/e3RkaGupcunSp27aZM2c6Q0NDnf3793ceP37cNV5WVuZ89dVXnaGhoc67777bWVRU5HZc7969naGhoc6YmBjnokWLrpjnkCFDnKGhoc4//vGPzvLycrfzzp071xkaGuocNGiQ2zEjRoxwhoaGOuPi4px5eXmu8fLycueCBQucoaGhzoiICOf%2B/ftd2w4dOuS6Hvfff79z8eLFzoqKCtf2Dz/80LU9MzPzxy4tABhCEwbcJjZu3ChJ8vf3V1hYmGt80aJFkqQXXnhB9957r9sxnTt31uTJkyVJy5cvd9tms9n00EMPKSEhQY0bN3aNe3l5KSkpSZ6enjpz5oy2b99e6XwqKir01FNPXTGemZkpSYqLi5On53/%2BivLy8tKECRM0YcIEPfbYYyopKZEk7dixQ2lpaZKk119/XTabzXWMp6enEhISFB4erpKSEr333nuVzqVt27b69a9/7fb4jtjYWAUGBrq%2BBwBUN%2B4JA24DX375pd5%2B%2B21J0pNPPqk6dS7%2BXz8vL08ZGRmSpH79%2BlV6bN%2B%2BfeXh4aGjR48qJydHrVq1kiT9%2Bte/vur3%2B8lPfqLGjRuroKBABQUFle7TtWtXt5B1iZ%2Bfn44fP64NGzbo2Wefddvm6emp8ePHu4199dVXki5%2BSrR169ZXfQ8ZGRlXLGNeUtk9bx4eHgoJCdHJkydVWFhY6XEAYAYhDLhFvP322/rggw/cxkpKSvT999/r0KFDki62S08%2B%2BaRr%2B549e1x/fvHFF6967jp16qi0tFTff/%2B9K4RdOv%2BXX36pnTt3Kj8/X6dPn5bz/556c%2BbMGUkXG6/KBAcHVzo%2BcuRIzZkzR2%2B%2B%2Baa%2B%2BuorDRo0SN26dbvqQ2n37dsn6WKbdTV33XWXpIv3oVXmjjvuqHTc29tbklRaWnrVcwOAUYQw4BaRnp5%2BxZiXl5caNWqkPn36KD4%2BXvfdd5/b9lOnTrn%2BvGnTpmt%2Bj0vBSpKysrI0fvx4HT582NB8/f39Kx2/tET59ttvy263y263S5KCgoI0YMAAjRw5UiEhIVfMyc/P76rfq2HDhpIuhqkLFy64PgRwCQ%2BvBWAFQhhwi/ixh7VezaV7oOrWrSu73V7lX2l04cIFPfPMMzp69KhatmypcePGqVu3bmrUqJHq1q0r6T%2BPorjW967MU089pWHDhik1NVVffvmlvv32WxUUFOh//ud/lJKSotdff10PPvhgld%2Bn87JnUle2BAoAViCEAbexS4%2BtKC0tVWFhoetG9Gv55z//qaNHj8rDw0OLFy/WnXfeecU%2BFy5cMDU3Pz8/xcXFKS4uTuXl5fr222%2B1cOFCbdu2TS%2B99JK6du2qRo0auRq1Hz5243KXtvn4%2BNB6Aag1%2BCchcBsLDQ11/Xnv3r1VPu7777%2BXdPFeqsoC2MGDB3XixAnT87vEy8tLP//5z7VixQoFBwfr7NmzruXXS/eCXX5/2w9d2vZj940BwI1GCANuY0FBQQoPD5ckvf/%2B%2B5Xuk5OTo9jYWNejLKT/3GN1tV9/tHDhQteff/iQ1x%2BzY8cO/fa3v9WSJUsq3V6vXj01adJE0n%2Batkv3ue3Zs6fSIFZRUeF6PMfPf/7zKs8FAGoaIQy4zY0dO1aStH79ei1btszt/qkDBw5owoQJysrKUm5urmu8ffv2kqRjx44pNTXVNX7%2B/HnNnDlTdrvd9WuRrvaJxMp4eXlp9erVmj9/vr744osrtn/66afKzMxU3bp1FR0dLUnq0KGDevbsKUn67W9/q5MnT7r2Lysr05/%2B9CdlZ2erYcOGGjZsWJXnAgA1jXvCgNvcAw88oKeeekqLFy/WrFmztGLFCt11110qLCxUZmamysvL1aFDBz3//POuY6KiotSzZ099/fXXSkxMVKdOneTt7a2dO3eqTp06Wrp0qT766CNt27ZNK1as0O7du/XMM8%2Boc%2BfOPzqXiIgIjRkzRkuWLNHTTz%2Bt5s2b684775Snp6cOHz7sWgZ96aWXFBQU5DruD3/4g0aOHCm73a6YmBiFhobK29tbe/fuVWFhoXx8fDRnzpyrPhYDAKxACAOgSZMmqXv37nrnnXe0fft2bd68Wd7e3oqIiNDAgQM1YsSIK25onzdvnmbPnq1NmzZp586dstls6t%2B/v8aOHas77rhDTZs21a5du7R161bt3bu3yp%2B8fOGFF9S5c2etWbNGO3fu1LZt21RWVqagoCANGjRIv/rVr6745ePBwcFatWqVli1bpk8//VR79%2B5VWVmZgoOD9cADD%2BiJJ56o9N41ALCSh/PytQcAAADcENwTBgAAYAFCGAAAgAUIYQAAABYghAEAgFvGV199pe7duyspKelH96uoqNDcuXPVp08fde7cWU888YQOHTrk2u5wODRx4kR1795dPXv21EsvvWT6N4H8ECEMAADcEv785z9r5syZVfo09MqVK/X3v/9dixcv1ueff66WLVtq/PjxrmclTp06VefPn9f69eu1evVqZWdna/bs2dU6X0IYAACoNfLz85WRkeH2ys/Pr9Kx3t7eWrVqVZVCWEpKikaNGqXWrVvL19dXSUlJys7O1o4dO3T8%2BHGlpqYqKSlJgYGBCg4O1rhx47R69WqVlpaafYsuPCesqqr4jCMA19CqlbR3r9S2rZSTY/VsgJuflU%2BaqoGfjSnz5ys5OdltLCEhQYmJidc89vHHH6/S97hw4YL27dunDh06uMZ8fX115513ym6368yZM/Ly8lK7du1c28PDw3Xu3Dnt37/fbdwMQhiAGysgQPLyuvhfAPiB%2BPh4xcTEuI1d/hsyqsOpU6fkdDrl7%2B/vNu7v76/CwkIFBATI19fX7SHTl/YtLCystnkQwgAAQK1hs9lks9luyPf6sefV34hn2RPCAACAMZ43563lAQEB8vT0lMPhcBt3OBxq3LixAgMDVVRUpPLycnl5ebm2SVLjxo2rbR4359UDAADW8/Ss/tcN4O3trbZt2yojI8M1dvr0aR08eFAdO3ZUWFiYnE6nsrKyXNvtdrv8/PzUqlWrapsHIQwAANzy8vLyNGDAANezwIYPH64VK1YoOztbRUVFmj17tsLCwhQZGanAwED1799f8%2BbN08mTJ3Xs2DEtXLhQgwcPVp061beIyHIkAAAwppYtR0ZGRkqSysrKJEmpqamSLrZYpaWlysnJUUlJiSRp2LBhKigo0GOPPaazZ8%2BqS5cubp/KnDFjhl555RX16dNHdevW1aBBg675ANjr5eG8EXee3Qp4RAVQPaKipK1bpehoads2q2cD3Pys/DHu7V395ywurv5z1lI0YQAAwJha1oTdbAhhAADAGEKYKVw9AAAAC9CEAQAAY2jCTCGEAQAAYwhhpnD1AAAALEATBgAAjKEJM4WrBwAAYAGaMAAAYAxNmCmEMAAAYAwhzBSuHgAAgAVowgAAgDE0YaZw9QAAACxAEwYAAIyhCTOFEAYAAIwhhJnC1QMAALAATRgAADCGJswUrh4AAIAFaMIAAIAxNGGmEMIAAIAxhDBTuHoAAAAWoAkDAADG0ISZwtUDAACwAE0YAAAwhibMFEIYAAAwhhBmClcPAADAAjRhAADAGJowU7h6AAAAFqAJAwAAxtCEmUIIAwAAxhDCTOHqAQAAWIAmDAAAGEMTZgpXDwAAwAI0YQAAwBiaMFMIYQAAwBhCmClcPQAAAAvQhAEAAGNowkzh6gEAAFiAJgwAABhDE2YKIQwAABhDCDOFqwcAAGABmjAAAGAMTZgphDAAAHDLOHLkiKZPn64dO3aofv36GjhwoCZNmiTPHwTGMWPGaMuWLW5jZWVlGj9%2BvBISEvTYY49p69atbse1atVK69atq7a5EsIAAIAxtbAJS0xMVHh4uFJTU3XixAk9/fTTatKkiUaPHu2235IlS9y%2BPn36tAYOHKh%2B/fq5xn7/%2B98rLi6uxuZKCAMAAMbUQAjLz89XQUGB21hQUJBsNts1j7Xb7crKytLSpUvVsGFDNWzYUKNGjdLy5cuvCGE/NG/ePPXr10/t2rUzNf/rQQgDAAC1RkpKipKTk93GEhISlJiYeM1jMzIy1Lx5c/n7%2B7vGwsPDlZOTo6KiIvn6%2BlZ63IEDB7RmzRqlpqa6jW/YsEF/%2BctflJubq06dOmnGjBm64447DLyryhHCAACAMTXQhMXHxysmJsZtLCgoqErHOhwO%2Bfn5uY1dCmSFhYVXDWGLFy/Wo48%2BqsDAQNdY69at9ZOf/ESzZ89WRUWFZs6cqSeffFLr169XvXr1ructXRUhDAAA1Bo2m61KS49X43Q6r2t/h8OhtWvX6uOPP3YbnzZtmtvXM2bMUJcuXfTdd9%2BpW7duhud3OUIYAAAwppbdmB8YGCiHw%2BE25nA45OHh4dZyXW7Tpk1q1aqVQkJCfvTcvr6%2B8vf3V15eXrXNt3ZdPQAAcPPw9Kz%2BlwkRERHKzc3VyZMnXWN2u11t2rRRgwYNKj1m06ZN6tGjh9tYUVGRpk2b5ha4Tp48qZMnT14zrF0PQhgAALgldOjQQZGRkZozZ46KioqUnZ2tpUuXavjw4ZKkAQMGKC0tze2YzMxMtWjRwm3M19dXO3bs0MyZM%2BVwOHTq1ClNnz5d7dq1U1RUVLXNlxAGAACMqWVNmCTNnz9f%2Bfn56tGjhx5//HH94he/0IgRIyRJOTk5OnfunNv%2BBQUFatKkyRXnWbhwoZxOp/r376/7779fpaWlWrx48RUPfTXDw3m9d7Ddrjw8rJ4BcGuIipK2bpWio6Vt26yeDXDzs/LH%2BIMPVv85f3CD/K2MJgwAAMACfDoSAAAYU8s%2BHXmz4eoBAABYgCYMAAAYQxNmCiEMAAAYQwgzhasHAABgAZowAABgDE2YKVw9AAAAC9CEAQAAY2jCTCGEAQAAYwhhpnD1AAAALEATBgAAjKEJM4WrBwAAYAGaMAAAYAxNmCmEMAAAYAwhzBSuHgAAgAVowgAAgDE0YaZw9QAAACxAEwYAAIyhCTOFEAYAAIwhhJnC1QMAALAATRgAADCGJswUrh4AAIAFaMIAAIAxNGGmEMIAAIAxhDBTuHoAAAAWoAkDAADG0ISZwtUDAACwAE0YAAAwhibMFEIYAAAwhhBmClcPAADAAjRhAADAGJowU7h6AAAAFqAJAwAAxtCEmUIIAwAAxhDCTOHqAQAAWIAmDAAAGEMTZgpXDwAAwAI0YQAAwBiaMFMIYQAAwBhCmClcPQAAAAvQhAEAAGNowkwhhAEAAGNqYQg7cuSIpk%2Bfrh07dqh%2B/foaOHCgJk2aJM8fzHXBggV68803VaeOexT6/PPP1aRJExUXF%2BvVV1/VF198oeLiYnXp0kXTp09Xo0aNqm2ute/qAQAAGJSYmKjg4GClpqZq6dKlSk1N1fLlyyvdNzY2Vna73e3VpEkTSdLcuXOVkZGhlJQUffLJJ3I6nZoyZUq1zpUmDAAAGFMDTVh%2Bfr4KCgrcxoKCgmSz2a55rN1uV1ZWlpYuXaqGDRuqYcOGGjVqlJYvX67Ro0dXeQ5lZWVatWqVXnvtNTVr1kySNHHiRD300EPKy8tTcHDw9b2pq6AJAwAAtUZKSori4uLcXikpKVU6NiMjQ82bN5e/v79rLDw8XDk5OSoqKrpi/927d2vYsGGKjo7WQw89pK%2B//lqSdPDgQZ05c0bh4eGufVu3bi0fHx9lZGSYfIf/QRMGAACMqYEmLD4%2BXjExMW5jQUFBVTrW4XDIz8/PbexSICssLJSvr69rvGnTpgoJCdGkSZNks9mUkpKisWPHat26dXI4HJJ0xbn8/PxUWFh43e/paghhAADAmBoIYTabrUpLj1fjdDqrtN%2BQIUM0ZMgQ19ejRo3SRx99pHXr1qlXr17XdS6jWI4EAAC3hMDAQFeLdYnD4ZCHh4cCAwOveXzz5s2Vn5/v2veH5zp16pQaN25cbfMlhAEAAGM8Pav/ZUJERIRyc3N18uRJ15jdblebNm3UoEEDt33ffPNNbd682W0sOztbISEhCgkJkb%2B/v9v9X3v27FFJSYkiIiJMzfFyhDAAAHBL6NChgyIjIzVnzhwVFRUpOztbS5cu1fDhwyVJAwYMUFpamqSLLdf06dO1f/9%2BFRcXa8mSJTp48KB%2B%2BctfysvLS0OHDtVbb72l3NxcFRYW6o033lC/fv1cj7CoDtwTBgAAjKmFD2udP3%2B%2Bpk6dqh49esjX11fDhg3TiBEjJEk5OTk6d%2B6cJGnSpEmSLt4L5nA41KZNGy1btkxNmzaVJE2YMEFnz55VbGysysrK1Lt3b02bNq1a5%2BrhrOm7zm4VHh5WzwC4NURFSVu3StHR0rZtVs8GuPlZ%2BWP8tdeq/5wvvFD956ylal%2BEBQAAuA2wHAkAAIyphcuRNxOuHgAAgAVowgAAgDE0YaYQwgAAgDGEMFO4egAAABagCQMAAMbQhJnC1QMAALAATRgAADCGJswUQhgAADCGEGYKVw8AAMACNGEAAMAYmjBTuHoAAAAWoAkDAADG0ISZQggDAADGEMJM4eoBAABYgCYMAAAYQxNmClcPAADAAjRhAADAGJowUwhhAADAGEKYKVw9AAAAC9CEAQAAY2jCTOHqAQAAWIAmDAAAGEMTZgohDAAAGEMIM4WrBwAAYAGaMAAAYAxNmClcPQAAAAvQhAEAAGNowkwhhAEAAGMIYaZw9QAAACxAEwYAAIyhCTOFEAYAAIwhhJnC1QMAALAATRgAADCGJswUrh4AAIAFaMIAAIAxNGGmEMIAAIAxhDBTuHoAAAAWoAkDAADG0ISZwtUDAACwAE0YAAAwhibMFEIYAAAwphaGsCNHjmj69OnasWOH6tevr4EDB2rSpEnyrGSu7777rpYtW6b8/HzdcccdSkxMVN%2B%2BfSVJL774otatWycvLy/X/t7e3kpLS6u2uRLCAADALSMxMVHh4eFKTU3ViRMn9PTTT6tJkyYaPXq0236ffPKJ5syZo7ffflsdO3bUmjVrNHHiRH388ccKCQmRJD3zzDNKTEyssbnWvggLAABuDp6e1f7Kz89XRkaG2ys/P79K07Hb7crKytLzzz%2Bvhg0bqmXLlho1apRSUlKu2PfChQt67rnndPfdd6tu3boaMmSIGjRooO3bt1f3VboqmjAAAFBrpKSkKDk52W0sISGhSo1URkaGmjdvLn9/f9dYeHi4cnJyVFRUJF9fX9d4bGys27GnT5/W2bNnFRwc7Br717/%2BpU2bNunAgQNq3bq1pk2bpoiICKNv7QqEMAAAYEwN3BMWHx%2BvmJgYt7GgoKAqHetwOOTn5%2Bc2dimQFRYWuoWwyzmdTr388svq1KmT7r33XklSSEiIPD099eyzz6pBgwZKTk7WmDFj9Mknn6hRo0bX%2B7YqRQgDAADG1EAIs9lsstlsho93Op3XtX9paalefPFF7du3TytWrHCNjx8/3m2/3/zmN1q/fr1SU1M1ZMgQw/O7HCEMAADcEgIDA%2BVwONzGHA6HPDw8FBgYeMX%2BFy5c0Lhx43T%2B/HmtXLnyRxsuLy8vNWvWrMr3p1UFN%2BYDAABjauDGfDMiIiKUm5urkydPusbsdrvatGmjBg0auO3rdDqVlJSkOnXqaNmyZW4BzOl0atasWcrKynKNlZSU6ODBg65PTlYHQhgAALgldOjQQZGRkZozZ46KioqUnZ2tpUuXavjw4ZKkAQMGuJ7z9fe//1379u3Tf/3Xf8nb29vtPB4eHjp8%2BLCmT5%2BuvLw8nT17VrNnz1bdunVdzxGrDixHAgAAY2rhw1rnz5%2BvqVOnqkePHvL19dWwYcM0YsQISVJOTo7OnTsnSVq9erWOHDniuhH/ktjYWM2cOVOvvvqqXnvtNcXFxamoqEgdO3bU8uXLVb9%2B/Wqbq4fzeu9gu115eFg9A%2BDWEBUlbd0qRUdL27ZZPRvg5mflj/H//d/qP2eXLtV/zlqq9kVYAACA2wDLkQAAwJhauBx5M%2BHqAQAAWIAmDAAAGEMTZgohDAAAGEMIM4WrBwAAYAGaMAAAYAxNmClcPQAAAAvQhAEAAGNowkwhhAEAAGMIYaZw9QAAACxAEwYAAIyhCTOFqwcAAGABmjAAAGAMTZgphDAAAGAMIcwUrh4AAIAFaMIAAIAxNGGmcPUAAAAsQBMGAACMoQkzhRAGAACMIYSZwtUDAACwAE0YAAAwhibMFK4eAACABWjCAACAMTRhphDCAACAMYQwU7h6AAAAFqAJAwAAxtCEmUIIAwAAxhDCTOHqAQAAWIAmDAAAGEMTZgpXDwAAwAI0YQAAwBiaMFMIYQAAwBhCmClcPQAAAAvQhAEAAGNowkzh6gEAAFiAJgwAABhDE2YKIQwAABhDCDOFqwcAAGABmjAAAGAMTZgpXD0AAAAL3PJNWFJSkry9vfXHP/7R6qkAAHBroQkzpcpXb8yYMYqMjFRkZKQ6dOig9u3bu76OjIzUkSNHanKeLhs3btSBAwdcX8fExOjdd9%2B9Id8bAABcxtOz%2Bl8mHTlyRE899ZS6dOmi3r17609/%2BpMqKioq3XfFihXq37%2B/oqOjNXz4cO3cudO1rbi4WL/73e/Uq1cvdenSRRMmTFBhYaHp%2BV2uyu92yZIlstvtstvteuaZZ9SxY0fX13a7Xc2bN6/WiV3N/Pnz3UIYAADAJYmJiQoODlZqaqqWLl2q1NRULV%2B%2B/Ir9PvvsMy1YsECvv/66vv32W/Xu3Vtjx47VuXPnJElz585VRkaGUlJS9Mknn8jpdGrKlCnVOtdqWY7829/%2BpnfffVcffPCBJGnz5s0aNWqUFi9erPvuu0%2BSNGLECA0YMECPP/643nnnHa1cuVJHjx5VixYtlJSUpL59%2B0qSLly4oNdff12fffaZHA6HIiMj9corr6hNmzZ65JFHtHfvXo0bN04PP/ywZs2adcVc3n//fb311ls6deqUHnnkkaum3x%2BTn5%2BvgoICt7GgVq1kCwi47nMB%2BIH27d3/C%2BDmVQPLkZX%2BDA4Kks1mu%2BaxdrtdWVlZWrp0qRo2bKiGDRtq1KhRWr58uUaPHu22b0pKiuLi4tSpUydJ0pNPPqkVK1bo888/V//%2B/bVq1Sq99tpratasmSRp4sSJeuihh5SXl6fg4OBqea/VEsK6du2qadOm6dy5c6pfv762bNmiVq1aaevWrbrvvvtUUlIiu92uGTNmaOPGjUpOTtZf/vIXtW/fXp999pkmTpyojRs36qc//almz56tXbt2KSUlRf7%2B/po/f74SEhL08ccfa926dWrXrp3efPNN9erV64p57N%2B/X7/73e%2BUnJysXr16ad26dZo5c6YGDBhwXe8nJSVFycnJbmMJzz6rxGefNXWdAFzmr3%2B1egYAaqFKfwYnJCgxMfGax2ZkZKh58%2Bby9/d3jYWHhysnJ0dFRUXy9fV123fgwIGurz09PRUWFia73a6wsDCdOXNG4eHhru2tW7eWj4%2BPMjIyalcICwkJUXBwsNLT09W1a1dt2bJF8fHx2rRpkyQpPT1d/v7%2BatOmjV5//XUNHjxYERERkqQHHnhAd999t9avX68nn3xSH3zwgebNm%2Bd6gxMnTtQ777yj9PR0V1q9mtTUVHXo0MHVqg0ePLjSCvJa4uPjFRMT4zYW9PDDkoFzAfiB9u0vBrARI6SsLKtnA9z8tm617Fs75VHt56z0Z3BQUJWOdTgc8vPzcxu7FMgKCwvdQpjD4XALa5f2LSwslMPhkKQrzuXn51et94VV26cju3Tpom3btik6OlpZWVlatGiRFi1apJKSEqWlpalbt26SpIMHD%2Bqbb75xC0dOp1Nt2rTRiRMndPbsWY0bN04eHv/5H7aiokK5ubnXDGF5eUZ0rxQAABsMSURBVHlq0aKF21jLli2v%2B73YbLYra8%2BcnOs%2BD4AfkZUlbdtm9SwAmGDgjp9rqvRn8HVwOp3Vtu/1nMuIag1hGzZskN1uV5s2beTr66vWrVsrIyNDaWlprsrPx8dHkyZN0pgxY644x5kzZyRJ7733nqspux4lJSUqKytzGzNyTxgAALj5BAYGulqsSxwOhzw8PBQYGOg23qhRo0r3bdu2rWtfh8OhBg0auLafOnVKjRs3rrb5VtsddV27dtWOHTu0ZcsW3XPPPZKkqKgopaWlafv27erevbsk6Y477tDu3bvdjj169KicTqcaNmyogICAK7YfPny4SnOw2Ww6duyY21h2drbRtwQAAH5ERUX1v8yIiIhQbm6uTp486Rq7VA5dHqYu7ZuRkeH6ury8XLt27VKnTp0UEhIif39/t%2B179uxRSUmJoZLoaqothDVt2lQBAQFas2aNK4RFR0drzZo1aty4sZo2bSrp4lrvhg0b9MUXX6isrEz/%2Bte/NGjQIO3YsUOSNGzYMC1atEjZ2dkqLS3VsmXLNHjwYJ0/f16S5O3trQMHDqioqOiKOfTq1Uu7du3SF198oZKSEq1cuVJ5eXnV9RYBAEAt1qFDB0VGRmrOnDkqKipSdna2li5dquHDh0uSBgwYoLS0NEnS8OHDtWbNGm3fvl3nz5/XokWLVK9ePd1///3y8vLS0KFD9dZbbyk3N1eFhYV644031K9fPzVp0qTa5lutT8zv0qWL/va3vykqKkrSxSZs3759GjFihGufHj166IUXXtCMGTN0/PhxtWjRQtOmTdPPfvYzSdK4ceN0%2BvRpjRgxQqWlpQoLC9Of//xn/eQnP5F0MaRdeqbHokWL3L5/p06d9PLLL2vatGk6ffq0Hn74YQ0YMKDG13QBALgd1cY7fubPn6%2BpU6eqR48e8vX11bBhw1w5JCcnx/UcsF69eum5557TxIkTdeLECUVGRmrx4sXy8fGRJE2YMEFnz55VbGysysrK1Lt3b02bNq1a5%2BrhJKFUjUf1fwIEuC1FRV38NFd0NDfmA9XBwh/j/7dIVa3%2Br3O5LfBLnwAAACxwy/8CbwAAUDNq43LkzYQmDAAAwAI0YQAAwBCaMHMIYQAAwBBCmDksRwIAAFiAJgwAABhCE2YOTRgAAIAFaMIAAIAhNGHmEMIAAIAhhDBzWI4EAACwAE0YAAAwhCbMHJowAAAAC9CEAQAAQ2jCzCGEAQAAQwhh5rAcCQAAYAGaMAAAYAhNmDmEMAAAYAghzByWIwEAACxAEwYAAAyhCTOHJgwAAMACNGEAAMAQmjBzCGEAAMAQQpg5LEcCAABYgCYMAAAYQhNmDk0YAACABWjCAACAITRh5hDCAACAIYQwc1iOBAAAsABNGAAAMIQmzByaMAAAAAvQhAEAAENowswhhAEAAEMIYeawHAkAAGABmjAAAGAITZg5NGEAAAAWoAkDAACG0ISZQwgDAACGEMLMYTkSAADAAjRhAADAEJowc2jCAAAALEATBgAADKEJM4cmDAAAGFJRUf2vmuRwODRx4kR1795dPXv21EsvvaQLFy5cdf%2BNGzfqkUceUVRUlPr376/333/ftW3BggUKCwtTZGSk2%2Bv48eNVng8hDAAA3BamTp2q8%2BfPa/369Vq9erWys7M1e/bsSvdNT0/X888/rwkTJmjLli367W9/qxkzZigtLc21T2xsrOx2u9urSZMmVZ4Py5EAAMCQmmiu8vPzVVBQ4DYWFBQkm81m6rzHjx9XamqqPvzwQwUGBkqSxo0bp2effVYvvPCC6tat67a/w%2BHQ008/rb59%2B0qS7rvvPoWGhiotLU333HOPqblcQggDAAC1RkpKipKTk93GEhISlJiYaOq8mZmZ8vLyUrt27Vxj4eHhOnfunPbv3%2B82Lkm9evVSr169XF%2BXlZWpoKBAwcHBrrHdu3dr2LBh2rNnj5o1a6YpU6aoZ8%2BeVZ4TIQwAABhSE01YfHy8YmJi3MaCgoJMn9fhcMjX11ceHh6uMX9/f0lSYWHhNY%2BfPXu26tevr4EDB0qSmjZtqpCQEE2aNEk2m00pKSkaO3as1q1bp7vuuqtKcyKEAQAAQ2oihNlsNsNLj2vXrtXkyZMr3ZaUlCSn03nd53Q6nZo9e7bWr1%2BvFStWyNvbW5I0ZMgQDRkyxLXfqFGj9NFHH2ndunWaOHFilc5NCAMAALeE2NhYxcbGVrrtm2%2B%2BUVFRkcrLy%2BXl5SXpYjsmSY0bN670mIqKCk2ZMkXp6el69913FRIS8qPfv3nz5srPz6/yfPl0JAAAMORmekRFWFiYnE6nsrKyXGN2u11%2Bfn5q1apVpcf84Q9/0N69eysNYG%2B%2B%2BaY2b97sNpadnX3NoHY5QhgAALjlBQYGqn///po3b55OnjypY8eOaeHChRo8eLDq1Lm4MDhy5Eht2LBBkvTdd99p3bp1Wrx4sQICAq44n8Ph0PTp07V//34VFxdryZIlOnjwoH75y19WeU4sRwIAAENutifmz5gxQ6%2B88or69OmjunXratCgQUpKSnJtP3TokE6dOiVJWr16tc6cOaPevXu7naNz585asmSJJk2aJOnivWAOh0Nt2rTRsmXL1LRp0yrPx8Np5C6129Fln6YAYEJUlLR1qxQdLW3bZvVsgJufhT/GP/64%2Bs/54IPVf87aiuVIAAAAC7AcCQAADLnZliNrG5owAAAAC9CEAQAAQ2jCzCGEAQAAQwhh5rAcCQAAYAGaMAAAYAhNmDmEMAAAYAghzByWIwEAACxAEwYAAAyhCTOHJgwAAMACNGEAAMAQmjBzCGEAAMAQQpg5LEcCAABYgCYMAAAYQhNmDk0YAACABWjCAACAITRh5hDCAACAIYQwc1iOBAAAsABNGAAAMIQmzByaMAAAAAvQhAEAAENowswhhAEAAEMIYeawHAkAAGABmjAAAGAITZg5NGEAAAAWoAkDAACG0ISZQwgDAACGEMLMYTkSAADAAjRhAADAEJowc2jCAAAALEATBgAADKEJM4cQBgAADCGEmcNyJAAAgAVowgAAgCE0YebQhAEAAFiAJgwAABhCE2YOIQwAABhCCDOH5UgAAAAL0IQBAABDaMLMoQkDAACwACEMAAAYUlFR/a%2Ba5HA4NHHiRHXv3l09e/bUSy%2B9pAsXLlS67wcffKD27dsrMjLS7ZWenv5/771Cc%2BfOVZ8%2BfdS5c2c98cQTOnTo0HXNhxAGAAAMudlC2NSpU3X%2B/HmtX79eq1evVnZ2tmbPnn3V/Tt37iy73e726tixoyRp5cqV%2Bvvf/67Fixfr888/V8uWLTV%2B/Hg5nc4qz4cQBgAAbnnHjx9XamqqkpKSFBgYqODgYI0bN06rV69WaWnpdZ8vJSVFo0aNUuvWreXr66ukpCRlZ2drx44dVT4HN%2BYDAABDaqK5ys/PV0FBgdtYUFCQbDabqfNmZmbKy8tL7dq1c42Fh4fr3Llz2r9/v9v4Jbm5uRo9erR27twpPz8/TZgwQbGxsbpw4YL27dunDh06uPb19fXVnXfeKbvdrp/97GdVmhMhDAAA1BopKSlKTk52G0tISFBiYqKp8zocDvn6%2BsrDw8M15u/vL0kqLCy8Yv/AwEC1bNlSzz33nNq0aaNPP/1UkydPls1m01133SWn0%2Bk6/vLzVXauqyGEAQAAQ2qiCYuPj1dMTIzbWFBQUJWOXbt2rSZPnlzptqSkpOu6X%2Bv%2B%2B%2B/X/fff7/r6oYce0qeffqoPPvhAzz//vCRd1/kqQwgDAACG1EQIs9lshpceY2NjFRsbW%2Bm2b775RkVFRSovL5eXl5eki%2B2YJDVu3LhK52/evLl27typgIAAeXp6uo6/xOFwVPlcEjfmAwCA20BYWJicTqeysrJcY3a7XX5%2BfmrVqtUV%2B7/77rvasGGD21h2drZCQkLk7e2ttm3bKiMjw7Xt9OnTOnjwoOvTk1VBCAMAAIbcTI%2BoCAwMVP/%2B/TVv3jydPHlSx44d08KFCzV48GDVqXNxYXDkyJGu4FVSUqLf//73stvtKi0t1fr16/XPf/5Tw4YNkyQNHz5cK1asUHZ2toqKijR79myFhYUpMjKyynNiORIAANwWZsyYoVdeeUV9%2BvRR3bp1NWjQICUlJbm2Hzp0SKdOnZIkPf744zp79qyeffZZFRQUqEWLFlq4cKEiIiIkScOGDVNBQYEee%2BwxnT17Vl26dLniAwXX4uE0e1fZ7eKyT1MAMCEqStq6VYqOlrZts3o2wM3Pwh/jU6ZU/zlnzar%2Bc9ZWNGEAAMAQfoG3OdwTBgAAYAGaMAAAYAhNmDmEMAAAYAghzByWIwEAACxAEwYAAAyhCTOHJgwAAMACNGEAAMAQmjBzCGEAAMAQQpg5LEcCAABYgCYMAAAYQhNmDk0YAACABWjCAACAITRh5hDCAACAIYQwc1iOBAAAsABNGAAAMIQmzByaMAAAAAvQhAEAAENowswhhAEAAEMIYeawHAkAAGABmjAAAGAITZg5NGEAAAAWoAkDAACG0ISZQwgDAACGEMLMYTkSAADAAjRhAADAEJowc2jCAAAALEATBgAADKEJM4cQBgAADCGEmcNyJAAAgAVowgAAgCE0YebQhAEAAFiAJgwAABhCE2YOIQwAABhCCDOH5UgAAAAL0IQBAABDaMLMoQkDAACwAE0YAAAwhCbMHEIYAAAwhBBmDsuRAAAAFqAJAwAAhtCEmUMTBgAAYAGaMAAAYMjN1oQ5HA5NmzZN//73v%2BXp6an77rtPU6dOlY%2BPzxX7vvzyy1q7dq3bWHl5uWJjYzVr1iy9%2BOKLWrdunby8vFzbvb29lZaWVuX50IQBAABDKiqq/1WTpk6dqvPnz2v9%2BvVavXq1srOzNXv27Er3nTlzpux2u%2Bu1bds23XXXXRowYIBrn2eeecZtn%2BsJYBIhDAAA3AaOHz%2Bu1NRUJSUlKTAwUMHBwRo3bpxWr16t0tLSax6/fPly/fSnP9V9991XbXNiORIAABhSE81Vfn6%2BCgoK3MaCgoJks9lMnTczM1NeXl5q166dayw8PFznzp3T/v373cZ/6PTp03rrrbf017/%2B1W38X//6lzZt2qQDBw6odevWmjZtmiIiIqo8J0IYAAAwpCZCWEpKipKTk93GEhISlJiYaOq8DodDvr6%2B8vDwcI35%2B/tLkgoLC3/02HfeeUedO3dW27ZtXWMhISHy9PTUs88%2BqwYNGig5OVljxozRJ598okaNGlVpToQwAABQa8THxysmJsZtLCgoqErHrl27VpMnT650W1JSkpxO53XPp7y8XCtXrtScOXPcxsePH%2B/29W9%2B8xutX79eqampGjJkSJXOTQgDAACG1EQTZrPZDC89xsbGKjY2ttJt33zzjYqKilReXu76RKPD4ZAkNW7c%2BKrn3LJli0pKSnTPPff86Pf28vJSs2bNlJ%2BfX%2BX5cmM%2BAAC45YWFhcnpdCorK8s1Zrfb5efnp1atWl31uE2bNqlr166qU%2Bc/vZXT6dSsWbPczlVSUqKDBw8qJCSkynMihAEAAENupkdUBAYGqn///po3b55OnjypY8eOaeHChRo8eLArYI0cOVIbNmxwOy4zM1MtWrRwG/Pw8NDhw4c1ffp05eXl6ezZs5o9e7bq1q2rvn37VnlOhDAAAGDIzRTCJGnGjBlq2LCh%2BvTpo0ceeUQdO3ZUUlKSa/uhQ4d06tQpt2MKCgrUpEmTK8716quvqmXLloqLi1P37t2VmZmp5cuXq379%2BlWej4fTyF1qt6PLPk0BwISoKGnrVik6Wtq2zerZADc/C3%2BMd%2BtW/efcvLn6z1lbcWM%2BAAAw5Gb7tUW1DcuRAAAAFqAJAwAAhtCEmUMIAwAAhhDCzGE5EgAAwAI0YQAAwBCaMHNowgAAACxAEwYAAAyhCTOHEAYAAAwhhJnDciQAAIAFaMIAAIAhNGHm0IQBAABYgCYMAAAYQhNmDiEMAAAYQggzh%2BVIAAAAC9CEAQAAQ2jCzKEJAwAAsABNGAAAMIQmzBxCGAAAMIQQZg7LkQAAABagCQMAAIbQhJlDEwYAAGABmjAAAGAITZg5hDAAAGAIIcwcliMBAAAsQBMGAAAMoQkzhyYMAADAAjRhAADAEJowcwhhAADAEEKYOSxHAgAAWIAmDAAAGEITZg5NGAAAgAVowgAAgCE0YeYQwgAAgCGEMHNYjgQAALAATRgAADCEJswcQhgAADCEEGYOy5EAAAAWoAkDAACG0ISZQxMGAABgAZowAABgCE2YOYQwAABgCCHMHJYjAQDAbcNut6tfv34aOnToNfddsWKF%2Bvfvr%2BjoaA0fPlw7d%2B50bSsuLtbvfvc79erVS126dNGECRNUWFh4XXMhhAEAAEMqKqr/VZPWrVunxMRE3Xnnndfc97PPPtOCBQv0%2Buuv69tvv1Xv3r01duxYnTt3TpI0d%2B5cZWRkKCUlRZ988omcTqemTJlyXfMhhAEAgNtCcXGxUlJS1KlTp2vum5KSori4OHXq1Ek%2BPj568sknJUmff/65ysrKtGrVKo0bN07NmjVTQECAJk6cqC%2B%2B%2BEJ5eXlVng/3hAEAAENqornKz89XQUGB21hQUJBsNpvpcw8ZMqTK%2B2ZkZGjgwIGurz09PRUWFia73a6wsDCdOXNG4eHhru2tW7eWj4%2BPMjIyFBwcXKXvQQirKqfT6hkAt4T8/HylLFig%2BH/8o1r%2BUgVgnZr40bhgQYqSk5PdxhISEpSYmFj93%2BxHOBwO%2Bfv7u435%2B/ursLBQDodDkuTn5%2Be23c/P77ruCyOEAbihCgoKlJycrJiYGEIYgCvEx8crJibGbSwoKKhKx65du1aTJ0%2BudNusWbMUFxd3XXNxXiNlXmv7tRDCAABArWGz2Qz/Ay02NlaxsbHVMo9GjRq5Gq9LHA6H2rZtq8DAQNfXDRo0cG0/deqUGjduXOXvwY35AAAAPxAREaGMjAzX1%2BXl5dq1a5c6deqkkJAQ%2Bfv7u23fs2ePSkpKFBERUeXvQQgDAACQNGDAAKWlpUmShg8frjVr1mj79u06f/68Fi1apHr16un%2B%2B%2B%2BXl5eXhg4dqrfeeku5ubkqLCzUG2%2B8oX79%2BqlJkyZV/n4sRwK4oYKCgpSQkFDlezwAoLr0799fR48eVXl5uSoqKhQZGSlJ%2Bsc//qHmzZsrJyfH9RywXr166bnnntPEiRN14sQJRUZGavHixfLx8ZEkTZgwQWfPnlVsbKzKysrUu3dvTZs27brm4%2BE0e1cZAAAArhvLkQAAABYghAEAAFiAEAYAAGABQhgAAIAFCGEAAAAWIIQBAABYgBAGAABgAUIYAACABQhhAAAAFiCEAQAAWIAQBgAAYAF%2BgTeAajdlypQq7ztr1qwanAkA1F6EMADVrri42PXniooKffnll2rRooVatWqliooKZWdnKy8vTw8%2B%2BKCFswQAa3k4nU6n1ZMAcOuaMWOGwsPD9eijj7qNr1y5Uvv27dMrr7xi0cwAwFqEMAA1qnPnztq8ebPq1HEv3ktKStS9e3elpaVZNDMAsBY35gOoUQ0bNtQ///nPK8Y3b96shg0bWjAjAKgduCcMQI0aO3asxo8frw4dOqhFixYqLy9Xbm6uMjMz9dJLL1k9PQCwDMuRAGrc/v37tWnTJuXl5amkpEQ2m029evVSx44drZ4aAFiGEAYAAGABliMB1IiUlJQq7RcfH1/DMwGA2okmDECNiImJueY%2BHh4e2rRp0w2YDQDUPoQwAAAAC/CICgA16mqfgCwqKtL48eNv8GwAoPbgnjAANeLQoUP6/vvvtW7dOg0cOFA/LN0PHDigr7/%2B2qLZAYD1CGEAakRWVpbmz5%2Bv0tJSPfHEE1ds9/b21rBhwyyYGQDUDtwTBqBGxcbGau3atVZPAwBqHUIYgBsiPT1dx44d0wMPPCBJKi4ulre3t8WzAgDrcGM%2BgBqVnZ2tBx98UI899piee%2B45SdKRI0fUu3dv7dq1y%2BLZAYB1CGEAatSMGTPUp08fbdmyRZ6eF//Kad68uZ566inNmjXL4tkBgHUIYQBqVHp6uiZMmKB69erJw8PDNf6rX/1KmZmZFs4MAKxFCANQowICAnT69Okrxg8ePKg6dfiANoDbFyEMQI3q3bu3JkyYoK%2B//lpOp1OZmZn68MMPNXbsWD300ENWTw8ALMOnIwHUqOLiYv3pT3/Shx9%2BqLNnz0q62I7Fx8dr/PjxqlevnsUzBABrEMIA3BBOp1MnTpyQj4%2BPfH19rZ4OAFiO5UgANe7YsWP67//%2Bb7399tuuAJaenm7xrADAWoQwADVq06ZNeuCBB/T111/rvffekyTl5uZq9OjR%2BuijjyyeHQBYhxAGoEbNmzdPb7zxhpYtW%2BZ6REWzZs20cOFCLVq0yOLZAYB1CGEAatShQ4cUExMjSW7PCevcubMOHz5s1bQAwHKEMAA16qc//al27959xfjXX3%2Btxo0bWzAjAKgdeFIigBo1YsQIPfHEExo8eLDKy8u1bNky7d69Wxs2bNDkyZOtnh4AWIZHVACocRs3btTq1at18OBB%2Bfj4KCQkRMOGDVP37t2tnhoAWIYQBqBGvfPOO%2BrWrZtat25t9VQAoFYhhAGoUf/v//0/2e12BQQEqFu3bq5XcHCw1VMDAEsRwgDUuJKSEqWnp%2Bu7775TWlqaduzYocaNG6tHjx56%2BeWXrZ4eAFiCEAbghikrK9POnTuVlpamNWvWKDs7W5mZmVZPCwAsQQgDUKO%2B%2Buorfffdd/ruu%2B%2B0Z88etWnTRj/72c8UFRWl6OhoBQYGWj1FALAEIQxAjWrfvr3uuusuDR06VEOGDFGDBg2snhIA1AqEMAA1avPmzUpLS9OWLVu0e/dutWnTRvfcc4/uvvtuRUdHu36hNwDcbghhAG6Y0tJS2e12bdmyRWvWrNGhQ4e0c%2BdOq6cFAJbgifkAatyFCxeUnp6ubdu2uV4BAQGKi4uzemoAYBmaMAA1Ijc3V82aNVNcXJz27Nmj4OBg3Xvvveratau6du3Kc8IA3PYIYQBqRKdOnbRjxw6tWrVKXbp0UUhIiNVTAoBaheVIADXi0r/vBg8ebPFMAKB28rR6AgBuTR4eHlZPAQBqNZYjAdSIsLAwderU6Zr7vffeezdgNgBQ%2B7AcCaBGeHp6qmfPnlZPAwBqLZowADXi0o35AIDKcU8YgBrBv%2B8A4McRwgDUiM6dO1s9BQCo1ViOBAAAsABNGAAAgAUIYQAAABYghAEAAFiAEAYAAGABQhgAAIAFCGEAAAAWIIQBAABY4P8DtOqSuC0vW%2BcAAAAASUVORK5CYII%3D\" class=\"center-img\">\n",
              "    <img src=\"data:image/png;base64,iVBORw0KGgoAAAANSUhEUgAAAmEAAAIWCAYAAAAf0loyAAAABHNCSVQICAgIfAhkiAAAAAlwSFlzAAAPYQAAD2EBqD%2BnaQAAADh0RVh0U29mdHdhcmUAbWF0cGxvdGxpYiB2ZXJzaW9uMy4xLjEsIGh0dHA6Ly9tYXRwbG90bGliLm9yZy8QZhcZAAAgAElEQVR4nO3de1hVZcL%2B8RtQYRRFQTaaUp5CEdCwDE8/U8w0rZhxNA/vmFhNmYJJltmbljo2To2lr2I2NuNpdIyZLDWzV8VqGssa8bhF8YAkHhBQ2Sp4AGH//vB1TztQcS1woX4/17WvGZ512M9ec03c3c/aCw%2Bn0%2BkUAAAAbipPqycAAABwJyKEAQAAWIAQBgAAYAFCGAAAgAUIYQAAABYghAEAAFiAEAYAAGABQhgAAIAFCGEAAAAWIIQBAABYoJrVEwBwdTt37tQnn3yibdu26ciRIzp//ry8vb1ls9kUHh6uPn36KDo6Wh4eHlZPFQBwgzz425FA1eN0OvXWW2/pr3/9qyTJz89PISEh8vX1VX5%2Bvvbs2aP8/HxJUvfu3TVr1izVqFHDyikDAG4QIQyogpYuXaopU6bIx8dHkydP1uOPPy4vLy/X9gsXLuijjz7S22%2B/rZKSEj333HMaO3ashTMGANwo7gkDqqBly5ZJkp566in98pe/dAtgkuTj46PY2Fj99re/lSQtWbJEFy5cuOnzBAAYRwgDqqDMzExJUsuWLa%2B5X2xsrP785z9r/fr18vHxkSSNHz9eLVu21Ntvv62CggJNmzZN0dHRioiIUIcOHRQXF6d9%2B/Zd9ZybNm1SXFycunTpovDwcHXo0EGxsbH67LPPrnqMw%2BHQjBkz9Mtf/lKRkZEKCwtTp06dNGLECP3www9lHhMdHa2WLVvqm2%2B%2B0fr169WnTx9FRERoy5YtkqTZs2erZcuWGj9%2BvAoLCzV79mz16tVLbdq00UMPPaTf/e53OnfunCRp//79Gj16tDp37qyIiAg9/vjjWrVqVZnve/78eX344Yd68skn9cADD6h169aKiorS8OHDtX79%2BjKPGTp0qFq2bKlly5apoKBAM2bMcM2lffv2%2Bu1vf6tdu3Zd9foAQFkIYUAV5O/vL0navn37dff7f//v/6l%2B/fqlthUUFCg2NlbLli1TvXr11L59exUXF2v9%2BvUaMGBAmaFhxowZio2N1fr16%2BXr66uoqCj5%2B/tr06ZNevnllzVmzBgVFxe7HZObm6t%2B/frpgw8%2B0MGDB9W6dWt16NBBNWrU0FdffaVhw4Zp%2BfLlV/0MBw8eVEJCgqpXr64OHTq4wuRPvfLKK5o/f74aNWqke%2B%2B9Vzk5OVqyZIleffVV7du3T4MHD1ZaWppatWqlwMBA7du3T6%2B88oq%2B/vprt/OcP39eQ4YM0fTp05WamqrmzZurY8eO8vPz03fffae4uDjNnj37qnMtLCxUbGysFi1apIYNGyosLEzFxcX65ptvNHToUFd4BoBycQKocl599VVnSEiIs2XLls63337bmZ2dfcPHtmvXzvnYY4%2B5HXvmzBln//79nSEhIc7%2B/fu7Hbdu3TpnSEiIs3379s4ffvjBbdu///1vZ6dOnZwhISHOBQsWuG2bOnWqMyQkxNmrVy/niRMnXOOXLl1yvvXWW86QkBDn/fff78zPz3c7rnv37s6QkBBndHS0c%2B7cuaU%2Bx6xZs5whISHOLl26OJ944glnbm6ua9v69etd16d3797O2bNnO0tKSpxOp9NZXFzsHDVqlDMkJMT5zDPPuJ1zwYIFzpCQEGeHDh2cGRkZZW4LDQ11ZmZmum37zW9%2B4wwJCXF269bNOWTIEOfJkydd23JycpydO3d2hoSEOH//%2B9%2BX%2BhwAcDU0YUAVNGbMGDVs2FBOp1N/%2Bctf1K1bN/3mN7/RzJkz9d133%2Bn8%2BfPXPUd%2Bfr4mTZokm83mGqtdu7bGjx8v6fLjL3788UfXtrlz50qSXn31VT344INu52rfvr3GjRsnSVq0aJHbNpvNpr59%2ByouLk4BAQGucS8vLyUkJMjT01Nnz569aqt35YsFV5OTk6PJkye7tX0PP/ywAgMD5XQ6Va1aNY0aNcr1mA5PT08NHDhQkrR79263c9WqVUuPP/64RowYoSZNmrhtGzZsmAIDA1VcXKxNmzaVOZfc3Fy99957rqZSkgIDA/X4449Lknbs2HHVzwEAP8dzwoAqqEGDBvrHP/6hP/7xj1q9erWKi4u1efNmbd68WXPnzlX16tUVFRWlJ554Qn379lW1aqX/r2yz2XT//feXGo%2BMjFStWrVUUFCg7du3q0mTJsrOzlZqaqokqWfPnmXO6eGHH5aHh4eOHTumjIwMNW3aVJJcXw4oyy9%2B8QsFBAQoNzdXubm5Ze7ToUMHeXpe/d8HAwMDdd9995Uab9SokXJzc9W9e/dSz0lr1KiRJOn06dNu4wMGDNCAAQPKfB8PDw81btz4mnN98MEHFRQUVGr87rvvliTl5eVd9XMAwM8RwoAqKjAwUO%2B8847GjRun9evXa9OmTUpJSdHJkydVVFSkjRs3auPGjfrwww/1/vvvu4LAFSEhIWWe19PTU40aNdK%2Bfft05MgRSXK7Uf9KU1aWatWqqaioSD/%2B%2BKMrhEmX75X65z//qV27diknJ0dnzpyR8/%2BefnP27FlJlxuvspQVan6qcePGZY5feS7alcBV1rZLly6V2lZSUqJvv/1W27ZtU05OjhwOh2tuGRkZ15xrcHBwmePe3t6SpKKiomt9FABwQwgDqrj69etr8ODBGjx4sKTLN7L/8MMPWrlypbZt26b9%2B/frueee02effabq1au7jvPz87vqOWvXri3p8s37kntjtGHDhuvO6UqwkqS0tDSNGjXKFehu1LXmKcntMxnZ/lPHjh3TqFGjSi1TlhcPxAVQkQhhwC2mWbNmatasmQYPHqxFixbp97//vTIyMrRmzRrFxMS49rvWEt%2BVpufKPleW86pXry673V7uP4N04cIFvfDCCzp27JiaNGmikSNHqmPHjqpXr54rHEVHR%2Bvo0aNXPcfN/JNLo0eP1u7du1W/fn3Fx8era9euql%2B/vitcDR06VP/%2B979v2nwA3NkIYcAtbNiwYVqyZIkyMzO1f/9%2Bt21X/qxRWa5su9KI1a1bV9Ll5bS8vDy3G8%2Bv5ZtvvtGxY8fk4eGhefPm6Z577im1T1V5iGxqaqrsdrskafr06erYsWOpfarKXAHcGfh2JFDFrF%2B/Xm%2B88YbmzZtXrv2vLOdduS/pigMHDpS5f3FxsauZunKP00/vH/t5mLuWK9%2BuvPvuu8sMYJmZmTp58mS5z1eZDh06JEmu55H9XEFBwTUfYgsAFY0QBlQxdrtdSUlJmjdvno4dO3bNfbOzs5WWliZJpb5BePjwYe3Zs6fUMVu2bHE9aT4yMlLS5S8BhIWFSZL%2B/ve/l/leGRkZiomJcT3KQvpPk3bx4sUyj5kzZ47rv//8Ia83m6%2Bvr6TLS7Fl3UD/l7/8xdWElXVDPwBUNEIYUMUMHz5cgYGBOnv2rIYNG1bmn/1xOp36/vvv9eyzz6qoqEj33XefOnfu7LZP7dq1NWHCBLcmyuFw6A9/%2BIOky4%2BGuOuuu1zbRowYIUlavXq1Fi5c6Pp2o3S5RRo9erTS0tKUlZXlGm/VqpUk6fjx40pOTnaNnz9/XlOnTpXdbncFvYMHDxq%2BJhUhJCREXl5eKi4u1t/%2B9jfX%2BKVLl/SnP/1JSUlJ6t69u6T/fEsSACoT94QBVUy9evU0f/58xcfH68cff9RTTz2lwMBANWvWTDVr1pTD4dCRI0dcz7K6//77lZiYWOpG/OjoaB0%2BfFg9evRQRESEqlevrh07dig/P1%2B%2Bvr5644033PZ/5JFH9Nxzz2nevHmaNm2aFi9erGbNmikvL0979uxRcXGxWrdurZdfftl1TGRkpLp06aKNGzcqPj5ebdu2lbe3t3bt2qVq1appwYIF%2Bvzzz7Vt2zYtXrxYe/fu1QsvvKD27dtX/oX8mQYNGqh///5KSkrStGnTtGrVKtWtW1d79uxRQUGBEhMTdeTIEX311Vdau3athg4dqiFDhujRRx%2B96XMFcGcghAFVUEhIiD777DN9/vnn%2BvLLL5WWlqadO3eqsLBQPj4%2BCgoKUseOHdWnTx9169atzG8Yenp6av78%2BXr//fe1bt06HTt2TLVq1VKvXr2UkJDg9pyvK8aOHatOnTppyZIl2r59uzZt2iRvb2%2BFh4erT58%2BGjJkSKnHNMycOVPTp0/Xhg0btGvXLtlsNvXq1UsjRozQ3XffrQYNGmj37t3aunWr9u/ff1O/DflzEyZMkJ%2Bfn1avXq19%2B/YpICBAUVFRev755xUaGqoLFy7ohx9%2B0DfffKP9%2B/e7tYEAUNE8nPxTBritjB8/Xp9%2B%2Bql%2B9atfuZYeAQBVD/eEAQAAWIAQBgAAYAFCGAAAgAUIYQAA4Lbxr3/9S506dVJCQsI19yspKdGMGTPUo0cPtW/fXs8884wOHz7s2u5wODRmzBh16tRJXbp00euvv17hf1WDG/MBAMBt4cMPP9THH38sf39/NWjQQDNmzLjqvn/961%2B1YMECffjhhwoKCtKMGTO0efNmrVy5Uh4eHoqPj1dhYaGmTZumoqIivfjiiwoPD9eECRMqbL40YQAAoMrIyclRamqq2ysnJ6dcx3p7e%2Bvjjz8u88%2Bo/VxSUpJiY2PVvHlz%2Bfr6KiEhQenp6dqxY4dOnDih5ORkJSQkyN/fX0FBQRo5cqSWL19e5l/cMIrnhJWXhc82Am4rTZtK%2B/dL994r8WR6wDwrF7Qq4Xdj0qxZSkxMdBuLi4tTfHz8dY996qmnyvUeFy5c0IEDB9S6dWvXmK%2Bvr%2B655x7Z7XadPXtWXl5eatmypWt7WFiYzp07p4MHD7qNm0EIA3Bz1a0reXld/k8A%2BJmBAwcqOjrabSwwMLBC3%2BP06dNyOp3y8/NzG/fz81NeXp7q1q0rX19ft4dLX9k3Ly%2BvwuZBCAMAAFWGzWaTzWa7Ke91rdvib8Yt84QwAABgjOeteWt53bp15enpKYfD4TbucDgUEBAgf39/5efnq7i4WF5eXq5tkhQQEFBh87g1rx4AALCep2fFv24Cb29v3XvvvUpNTXWNnTlzRpmZmWrTpo1CQ0PldDqVlpbm2m6321WnTp0y/%2B6uUYQwAABw28vOzlbv3r1dzwIbPHiwFi9erPT0dOXn52v69OkKDQ1VRESE/P391atXL82cOVOnTp3S8ePHNWfOHPXv31/VqlXcIiLLkQAAwJgqthwZEREhSbp06ZIkKTk5WdLlFquoqEgZGRkqLCyUJA0aNEi5ubkaOnSoCgoKFBUV5fatzClTpujNN99Ujx49VL16dT322GPXfQDsjeJhreXFIyqAihEZKW3dKrVrJ23bZvVsgFuflb/Gvb0r/pwXL1b8OasomjAAAGBMFWvCbjWEMAAAYAwhzBSuHgAAgAVowgAAgDE0YaYQwgAAgDGEMFO4egAAABagCQMAAMbQhJnC1QMAALAATRgAADCGJswUQhgAADCGEGYKVw8AAMACNGEAAMAYmjBTuHoAAAAWoAkDAADG0ISZQggDAADGEMJM4eoBAABYgCYMAAAYQxNmClcPAADAAjRhAADAGJowUwhhAADAGEKYKVw9AAAAC9CEAQAAY2jCTOHqAQAAWIAmDAAAGEMTZgohDAAAGEMIM4WrBwAAYAGaMAAAYAxNmClcPQAAAAvQhAEAAGNowkwhhAEAAGMIYaZw9QAAACxAEwYAAIyhCTOFqwcAAGABmjAAAGAMTZgphDAAAGAMIcwUrh4AAIAFaMIAAIAxNGGmcPUAAAAsQBMGAACMoQkzhRAGAACMIYSZwtUDAACwAE0YAAAwhibMFEIYAAC4bRw9elSTJ0/Wjh07VLNmTfXp00djx46V588C49NPP63Nmze7jV26dEmjRo1SXFychg4dqq1bt7od17RpU61atarC5koIAwAAxlTBJiw%2BPl5hYWFKTk7WyZMn9fzzz6t%2B/foaPny4237z5893%2B/nMmTPq06ePevbs6Rr73e9%2Bp379%2BlXaXAlhAADAmEoIYTk5OcrNzXUbCwwMlM1mu%2B6xdrtdaWlpWrBggWrXrq3atWsrNjZWixYtKhXCfm7mzJnq2bOnWrZsaWr%2BN4IQBgAAqoykpCQlJia6jcXFxSk%2BPv66x6ampqpRo0by8/NzjYWFhSkjI0P5%2Bfny9fUt87hDhw5pxYoVSk5Odhtfs2aN/vznPysrK0tt27bVlClTdPfddxv4VGUjhAEAAGMqoQkbOHCgoqOj3cYCAwPLdazD4VCdOnXcxq4Esry8vKuGsHnz5unXv/61/P39XWPNmzfXL37xC02fPl0lJSWaOnWqnn32Wa1evVo1atS4kY90VYQwAABQZdhstnItPV6N0%2Bm8of0dDodWrlypL774wm180qRJbj9PmTJFUVFR2rJlizp27Gh4fj9FCAMAAMZUsRvz/f395XA43MYcDoc8PDzcWq6f2rBhg5o2barg4OBrntvX11d%2Bfn7Kzs6usPlWrasHAABuHZ6eFf8yITw8XFlZWTp16pRrzG63q0WLFqpVq1aZx2zYsEGdO3d2G8vPz9ekSZPcAtepU6d06tSp64a1G0EIAwAAt4XWrVsrIiJC7777rvLz85Wenq4FCxZo8ODBkqTevXsrJSXF7Zg9e/aocePGbmO%2Bvr7asWOHpk6dKofDodOnT2vy5Mlq2bKlIiMjK2y%2BhDAAAGBMFWvCJGnWrFnKyclR586d9dRTT%2BmXv/ylhgwZIknKyMjQuXPn3PbPzc1V/fr1S51nzpw5cjqd6tWrl7p166aioiLNmzev1ENfzfBw3ugdbHcqDw%2BrZwDcHiIjpa1bpXbtpG3brJ4NcOuz8tf4o49W/Dl/doP87YwmDAAAwAJ8OxIAABhTxb4deavh6gEAAFiAJgwAABhDE2YKIQwAABhDCDOFqwcAAGABmjAAAGAMTZgpXD0AAAAL0IQBAABjaMJMIYQBAABjCGGmcPUAAAAsQBMGAACMoQkzhasHAABgAZowAABgDE2YKYQwAABgDCHMFK4eAACABWjCAACAMTRhpnD1AAAALEATBgAAjKEJM4UQBgAAjCGEmcLVAwAAsABNGAAAMIYmzBSuHgAAgAVowgAAgDE0YaYQwgAAgDGEMFO4egAAABagCQMAAMbQhJnC1QMAALAATRgAADCGJswUQhgAADCGEGYKVw8AAMACNGEAAMAYmjBTuHoAAAAWoAkDAADG0ISZQggDAADGEMJM4eoBAABYgCYMAAAYQxNmClcPAADAAjRhAADAGJowUwhhAADAGEKYKVw9AAAAC9CEAQAAY2jCTCGEAQAAY6pgCDt69KgmT56sHTt2qGbNmurTp4/Gjh0rz5/Ndfbs2Xr//fdVrZp7FPrqq69Uv359Xbx4UW%2B99Za%2B/vprXbx4UVFRUZo8ebLq1atXYXOtelcPAADAoPj4eAUFBSk5OVkLFixQcnKyFi1aVOa%2BMTExstvtbq/69etLkmbMmKHU1FQlJSVp7dq1cjqdeu211yp0rjRhAADAmEpownJycpSbm%2Bs2FhgYKJvNdt1j7Xa70tLStGDBAtWuXVu1a9dWbGysFi1apOHDh5d7DpcuXdLHH3%2Bst99%2BWw0bNpQkjRkzRn379lV2draCgoJu7ENdBU0YAACoMpKSktSvXz%2B3V1JSUrmOTU1NVaNGjeTn5%2BcaCwsLU0ZGhvLz80vtv3fvXg0aNEjt2rVT3759tXHjRklSZmamzp49q7CwMNe%2BzZs3l4%2BPj1JTU01%2Bwv%2BgCQMAAMZUQhM2cOBARUdHu40FBgaW61iHw6E6deq4jV0JZHl5efL19XWNN2jQQMHBwRo7dqxsNpuSkpI0YsQIrVq1Sg6HQ5JKnatOnTrKy8u74c90NYQwAABgTCWEMJvNVq6lx6txOp3l2m/AgAEaMGCA6%2BfY2Fh9/vnnWrVqlbp27XpD5zKK5UgAAHBb8Pf3d7VYVzgcDnl4eMjf3/%2B6xzdq1Eg5OTmufX9%2BrtOnTysgIKDC5ksIAwAAxnh6VvzLhPDwcGVlZenUqVOuMbvdrhYtWqhWrVpu%2B77//vvatGmT21h6erqCg4MVHBwsPz8/t/u/9u3bp8LCQoWHh5ua408RwgAAwG2hdevWioiI0Lvvvqv8/Hylp6drwYIFGjx4sCSpd%2B/eSklJkXS55Zo8ebIOHjyoixcvav78%2BcrMzNSvfvUreXl56cknn9QHH3ygrKws5eXl6b333lPPnj1dj7CoCNwTBgAAjKmCD2udNWuWJk6cqM6dO8vX11eDBg3SkCFDJEkZGRk6d%2B6cJGns2LGSLt8L5nA41KJFCy1cuFANGjSQJI0ePVoFBQWKiYnRpUuX1L17d02aNKlC5%2BrhrOy7zm4XHh5WzwC4PURGSlu3Su3aSdu2WT0b4NZn5a/xt9%2Bu%2BHO%2B%2BmrFn7OKqnoRFgAA4A7AciQAADCmCi5H3kq4egAAABagCQMAAMbQhJlCCAMAAMYQwkzh6gEAAFiAJgwAABhDE2YKVw8AAMACNGEAAMAYmjBTCGEAAMAYQpgpXD0AAAAL0IQBAABjaMJM4eoBAABYgCYMAAAYQxNmCiEMAAAYQwgzhasHAABgAZowAABgDE2YKVw9AAAAC9CEAQAAY2jCTCGEAQAAYwhhpnD1AAAALEATBgAAjKEJM4WrBwAAYAGaMAAAYAxNmCmEMAAAYAwhzBSuHgAAgAVowgAAgDE0YaZw9QAAACxAEwYAAIyhCTOFEAYAAIwhhJnC1QMAALAATRgAADCGJswUQhgAADCGEGYKVw8AAMACNGEAAMAYmjBTuHoAAAAWoAkDAADG0ISZQggDAADGEMJM4eoBAABYgCYMAAAYQxNmClcPAADAAjRhAADAGJowUwhhAADAmCoYwo4eParJkydrx44dqlmzpvr06aOxY8fKs4y5Llu2TAsXLlROTo7uvvtuxcfH6%2BGHH5YkjR8/XqtWrZKXl5drf29vb6WkpFTYXAlhAADgthEfH6%2BwsDAlJyfr5MmTev7551W/fn0NHz7cbb%2B1a9fq3Xff1Z/%2B9Ce1adNGK1as0JgxY/TFF18oODhYkvTCCy8oPj6%2B0uZa9SIsAAC4NXh6VvgrJydHqampbq%2BcnJxyTcdutystLU0vv/yyateurSZNmig2NlZJSUml9r1w4YJeeukl3X///apevboGDBigWrVqafv27RV9la6KJgwAAFQZSUlJSkxMdBuLi4srVyOVmpqqRo0ayc/PzzUWFhamjIwM5efny9fX1zUeExPjduyZM2dUUFCgoKAg19j333%2BvDRs26NChQ2revLkmTZqk8PBwox%2BtFEIYAAAwphLuCRs4cKCio6PdxgIDA8t1rMPhUJ06ddzGrgSyvLw8txD2U06nUxMmTFDbtm314IMPSpKCg4Pl6empF198UbVq1VJiYqKefvpprV27VvXq1bvRj1UmQhgAADCmEkKYzWaTzWYzfLzT6byh/YuKijR%2B/HgdOHBAixcvdo2PGjXKbb9XXnlFq1evVnJysgYMGGB4fj9FCAMAALcFf39/ORwOtzGHwyEPDw/5%2B/uX2v/ChQsaOXKkzp8/r6VLl16z4fLy8lLDhg3LfX9aeXBjPgAAMKYSbsw3Izw8XFlZWTp16pRrzG63q0WLFqpVq5bbvk6nUwkJCapWrZoWLlzoFsCcTqemTZumtLQ011hhYaEyMzNd35ysCIQwAABwW2jdurUiIiL07rvvKj8/X%2Bnp6VqwYIEGDx4sSerdu7frOV%2BfffaZDhw4oP/5n/%2BRt7e323k8PDx05MgRTZ48WdnZ2SooKND06dNVvXp113PEKgLLkQAAwJgq%2BLDWWbNmaeLEiercubN8fX01aNAgDRkyRJKUkZGhc%2BfOSZKWL1%2Buo0ePum7EvyImJkZTp07VW2%2B9pbffflv9%2BvVTfn6%2B2rRpo0WLFqlmzZoVNlcP543ewXan8vCwegbA7SEyUtq6VWrXTtq2zerZALc%2BK3%2BN//BDxZ8zKqriz1lFVb0ICwAAcAdgORIAABhTBZcjbyVcPQAAAAvQhAEAAGNowkwhhAEAAGMIYaZw9QAAACxAEwYAAIyhCTOFqwcAAGABmjAAAGAMTZgphDAAAGAMIcwUrh4AAIAFaMIAAIAxNGGmcPUAAAAsQBMGAACMoQkzhRAGAACMIYSZwtUDAACwAE0YAAAwhibMFK4eAACABWjCAACAMTRhphDCAACAMYQwU7h6AAAAFqAJAwAAxtCEmcLVAwAAsABNGAAAMIYmzBRCGAAAMIYQZgpXDwAAwAI0YQAAwBiaMFMIYQAAwBhCmClcPQAAAAvQhAEAAGNowkzh6gEAAFiAJgwAABhDE2YKIQwAABhDCDOFqwcAAGABmjAAAGAMTZgpXD0AAAAL0IQBAABjaMJMIYQBAABjCGGmcPUAAAAsQBMGAACMoQkzhasHAABggdu%2BCUtISJC3t7f%2B8Ic/WD0VAABuLzRhppT76j399NOKiIhQRESEWrdurVatWrl%2BjoiI0NGjRytzni7r1q3ToUOHXD9HR0dr2bJlN%2BW9AQDAT3h6VvzLpKNHj%2Bq5555TVFSUunfvrj/%2B8Y8qKSkpc9/FixerV69eateunQYPHqxdu3a5tl28eFFvvPGGunbtqqioKI0ePVp5eXmm5/dT5f608%2BfPl91ul91u1wsvvKA2bdq4frbb7WrUqFGFTuxqZs2a5RbCAAAAroiPj1dQUJCSk5O1YMECJScna9GiRaX2%2B/LLLzV79my98847%2Bu6779S9e3eNGDFC586dkyTNmDFDqampSkpK0tq1a%2BV0OvXaa69V6FwrZDnyH//4h5YtW6ZPPvlEkrRp0ybFxsZq3rx5euihhyRJQ4YMUe/evfXUU09pyZIlWrp0qY4dO6bGjRsrISFBDz/8sCTpwoULeuedd/Tll1/K4XAoIiJCb775plq0aKEnnnhC%2B/fv18iRI/X4449r2rRppeby97//XR988IFOnz6tJ5544qrp91pycnKUm5vrNhbYtKlsdeve8LkA/EyrVu7/CeDWVQnLkWX%2BDg4MlM1mu%2B6xdrtdaWlpWrBggWrXrq3atV2OMHEAAB12SURBVGsrNjZWixYt0vDhw932TUpKUr9%2B/dS2bVtJ0rPPPqvFixfrq6%2B%2BUq9evfTxxx/r7bffVsOGDSVJY8aMUd%2B%2BfZWdna2goKAK%2BawVEsI6dOigSZMm6dy5c6pZs6Y2b96spk2bauvWrXrooYdUWFgou92uKVOmaN26dUpMTNSf//xntWrVSl9%2B%2BaXGjBmjdevW6a677tL06dO1e/duJSUlyc/PT7NmzVJcXJy%2B%2BOILrVq1Si1bttT777%2Bvrl27lprHwYMH9cYbbygxMVFdu3bVqlWrNHXqVPXu3fuGPk9SUpISExPdxuJefFHxL75o6joB%2BIm//c3qGQCogsr8HRwXp/j4%2BOsem5qaqkaNGsnPz881FhYWpoyMDOXn58vX19dt3z59%2Brh%2B9vT0VGhoqOx2u0JDQ3X27FmFhYW5tjdv3lw%2BPj5KTU2tWiEsODhYQUFB2rlzpzp06KDNmzdr4MCB2rBhgyRp586d8vPzU4sWLfTOO%2B%2Bof//%2BCg8PlyQ98sgjuv/%2B%2B7V69Wo9%2B%2Byz%2BuSTTzRz5kzXBxwzZoyWLFminTt3utLq1SQnJ6t169auVq1///5lVpDXM3DgQEVHR7uNBT7%2BuGTgXAB%2BplWrywFsyBApLc3q2QC3vq1bLXtrpzwq/Jxl/g4ODCzXsQ6HQ3Xq1HEbuxLI8vLy3EKYw%2BFwC2tX9s3Ly5PD4ZCkUueqU6dOhd4XVmHfjoyKitK2bdvUrl07paWlae7cuZo7d64KCwuVkpKijh07SpIyMzP17bffuoUjp9OpFi1a6OTJkyooKNDIkSPl4fGf/2FLSkqUlZV13RCWnZ2txo0bu401adLkhj%2BLzWYrXXtmZNzweQBcQ1qatG2b1bMAYIKBO36uq8zfwTfA6XRW2L43ci4jKjSErVmzRna7XS1atJCvr6%2BaN2%2Bu1NRUpaSkuCo/Hx8fjR07Vk8//XSpc5w9e1aS9NFHH7mashtRWFioS5cuuY0ZuScMAADcevz9/V0t1hUOh0MeHh7y9/d3G69Xr16Z%2B957772ufR0Oh2rVquXafvr0aQUEBFTYfCvsjroOHTpox44d2rx5sx544AFJUmRkpFJSUrR9%2B3Z16tRJknT33Xdr7969bsceO3ZMTqdTtWvXVt26dUttP3LkSLnmYLPZdPz4cbex9PR0ox8JAABcQ0lJxb/MCA8PV1ZWlk6dOuUau1IO/TRMXdk3NTXV9XNxcbF2796ttm3bKjg4WH5%2Bfm7b9%2B3bp8LCQkMl0dVUWAhr0KCB6tatqxUrVrhCWLt27bRixQoFBASoQYMGki6v9a5Zs0Zff/21Ll26pO%2B//16PPfaYduzYIUkaNGiQ5s6dq/T0dBUVFWnhwoXq37%2B/zp8/L0ny9vbWoUOHlJ%2BfX2oOXbt21e7du/X111%2BrsLBQS5cuVXZ2dkV9RAAAUIW1bt1aERERevfdd5Wfn6/09HQtWLBAgwcPliT17t1bKSkpkqTBgwdrxYoV2r59u86fP6%2B5c%2BeqRo0a6tatm7y8vPTkk0/qgw8%2BUFZWlvLy8vTee%2B%2BpZ8%2Beql%2B/foXNt0KfmB8VFaV//OMfioyMlHS5CTtw4ICGDBni2qdz58569dVXNWXKFJ04cUKNGzfWpEmTdN9990mSRo4cqTNnzmjIkCEqKipSaGioPvzwQ/3iF7%2BQdDmkXXmmx9y5c93ev23btpowYYImTZqkM2fO6PHHH1fv3r0rfU0XAIA7UVW842fWrFmaOHGiOnfuLF9fXw0aNMiVQzIyMlzPAevatateeukljRkzRidPnlRERITmzZsnHx8fSdLo0aNVUFCgmJgYXbp0Sd27d9ekSZMqdK4eThJK%2BXhU/DdAgDtSZOTlb3O1a8eN%2BUBFsPDX%2BP8tUlWo/%2Btc7gj80ScAAAAL3PZ/wBsAAFSOqrgceSuhCQMAALAATRgAADCEJswcQhgAADCEEGYOy5EAAAAWoAkDAACG0ISZQxMGAABgAZowAABgCE2YOYQwAABgCCHMHJYjAQAALEATBgAADKEJM4cmDAAAwAI0YQAAwBCaMHMIYQAAwBBCmDksRwIAAFiAJgwAABhCE2YOIQwAABhCCDOH5UgAAAAL0IQBAABDaMLMoQkDAACwAE0YAAAwhCbMHEIYAAAwhBBmDsuRAAAAFqAJAwAAhtCEmUMTBgAAYAGaMAAAYAhNmDmEMAAAYAghzByWIwEAACxAEwYAAAyhCTOHJgwAAMACNGEAAMAQmjBzCGEAAMAQQpg5LEcCAABYgCYMAAAYQhNmDk0YAACABWjCAACAITRh5hDCAACAIYQwc1iOBAAAsABNGAAAMIQmzByaMAAAAAvQhAEAAENowsyhCQMAAIaUlFT8qzI5HA6NGTNGnTp1UpcuXfT666/rwoULV91/3bp1euKJJxQZGalevXrp73//u2vb7NmzFRoaqoiICLfXiRMnyj0fQhgAALgjTJw4UefPn9fq1au1fPlypaena/r06WXuu3PnTr388ssaPXq0Nm/erP/%2B7//WlClTlJKS4tonJiZGdrvd7VW/fv1yz4flSAAAYEhlNFc5OTnKzc11GwsMDJTNZjN13hMnTig5OVmffvqp/P39JUkjR47Uiy%2B%2BqFdffVXVq1d329/hcOj555/Xww8/LEl66KGHFBISopSUFD3wwAOm5nIFIQwAAFQZSUlJSkxMdBuLi4tTfHy8qfPu2bNHXl5eatmypWssLCxM586d08GDB93GJalr167q2rWr6%2BdLly4pNzdXQUFBrrG9e/dq0KBB2rdvnxo2bKjXXntNXbp0KfecCGEAAMCQymjCBg4cqOjoaLexwMBA0%2Bd1OBzy9fWVh4eHa8zPz0%2BSlJeXd93jp0%2Bfrpo1a6pPnz6SpAYNGig4OFhjx46VzWZTUlKSRowYoVWrVqlZs2blmhMhDAAAGFIZIcxmsxleely5cqXGjRtX5raEhAQ5nc4bPqfT6dT06dO1evVqLV68WN7e3pKkAQMGaMCAAa79YmNj9fnnn2vVqlUaM2ZMuc5NCAMAALeFmJgYxcTElLnt22%2B/VX5%2BvoqLi%2BXl5SXpcjsmSQEBAWUeU1JSotdee007d%2B7UsmXLFBwcfM33b9SokXJycso9X74dCQAADLmVHlERGhoqp9OptLQ015jdbledOnXUtGnTMo/5/e9/r/3795cZwN5//31t2rTJbSw9Pf26Qe2nCGEAAOC25%2B/vr169emnmzJk6deqUjh8/rjlz5qh///6qVu3ywuCwYcO0Zs0aSdKWLVu0atUqzZs3T3Xr1i11PofDocmTJ%2BvgwYO6ePGi5s%2Bfr8zMTP3qV78q95xYjgQAAIbcak/MnzJlit5880316NFD1atX12OPPaaEhATX9sOHD%2Bv06dOSpOXLl%2Bvs2bPq3r272znat2%2Bv%2BfPna%2BzYsZIu3wvmcDjUokULLVy4UA0aNCj3fDycRu5SuxP95NsUAEyIjJS2bpXatZO2bbN6NsCtz8Jf4198UfHnfPTRij9nVcVyJAAAgAVYjgQAAIbcasuRVQ1NGAAAgAVowgAAgCE0YeYQwgAAgCGEMHNYjgQAALAATRgAADCEJswcQhgAADCEEGYOy5EAAAAWoAkDAACG0ISZQxMGAABgAZowAABgCE2YOYQwAABgCCHMHJYjAQAALEATBgAADKEJM4cmDAAAwAI0YQAAwBCaMHMIYQAAwBBCmDksRwIAAFiAJgwAABhCE2YOTRgAAIAFaMIAAIAhNGHmEMIAAIAhhDBzWI4EAACwAE0YAAAwhCbMHJowAAAAC9CEAQAAQ2jCzCGEAQAAQwhh5rAcCQAAYAGaMAAAYAhNmDk0YQAAABagCQMAAIbQhJlDCAMAAIYQwsxhORIAAMACNGEAAMAQmjBzaMIAAAAsQBMGAAAMoQkzhxAGAAAMIYSZw3IkAACABWjCAACAITRh5tCEAQAAWIAQBgAADCkpqfhXZXI4HBozZow6deqkLl266PXXX9eFCxfK3PeTTz5Rq1atFBER4fbauXPn/332Es2YMUM9evRQ%2B/bt9cwzz%2Bjw4cM3NB9CGAAAMORWC2ETJ07U%2BfPntXr1ai1fvlzp6emaPn36Vfdv37697Ha726tNmzaSpKVLl%2Bqzzz7TvHnz9NVXX6lJkyYaNWqUnE5nuedDCAMAALe9EydOKDk5WQkJCfL391dQUJBGjhyp5cuXq6io6IbPl5SUpNjYWDVv3ly%2Bvr5KSEhQenq6duzYUe5zcGM%2BAAAwpDKaq5ycHOXm5rqNBQYGymazmTrvnj175OXlpZYtW7rGwsLCdO7cOR08eNBt/IqsrCwNHz5cu3btUp06dTR69GjFxMTowoULOnDggFq3bu3a19fXV/fcc4/sdrvuu%2B%2B%2Bcs2JEAYAAKqMpKQkJSYmuo3FxcUpPj7e1HkdDod8fX3l4eHhGvPz85Mk5eXlldrf399fTZo00UsvvaQWLVpo/fr1GjdunGw2m5o1ayan0%2Bk6/qfnK%2BtcV0MIAwAAhlRGEzZw4EBFR0e7jQUGBpbr2JUrV2rcuHFlbktISLih%2B7W6deumbt26uX7u27ev1q9fr08%2B%2BUQvv/yyJN3Q%2BcpCCAMAAIZURgiz2WyGlx5jYmIUExNT5rZvv/1W%2Bfn5Ki4ulpeXl6TL7ZgkBQQElOv8jRo10q5du1S3bl15enq6jr/C4XCU%2B1wSN%2BYDAIA7QGhoqJxOp9LS0lxjdrtdderUUdOmTUvtv2zZMq1Zs8ZtLD09XcHBwfL29ta9996r1NRU17YzZ84oMzPT9e3J8iCEAQAAQ26lR1T4%2B/urV69emjlzpk6dOqXjx49rzpw56t%2B/v6pVu7wwOGzYMFfwKiws1O9%2B9zvZ7XYVFRVp9erV%2BuabbzRo0CBJ0uDBg7V48WKlp6crPz9f06dPV2hoqCIiIso9J5YjAQDAHWHKlCl688031aNHD1WvXl2PPfaYEhISXNsPHz6s06dPS5KeeuopFRQU6MUXX1Rubq4aN26sOXPmKDw8XJI0aNAg5ebmaujQoSooKFBUVFSpLxRcj4fT7F1ld4qffJsCgAmRkdLWrVK7dtK2bVbPBrj1Wfhr/LXXKv6c06ZV/DmrKpowAABgCH/A2xzuCQMAALAATRgAADCEJswcQhgAADCEEGYOy5EAAAAWoAkDAACG0ISZQxMGAABgAZowAABgCE2YOYQwAABgCCHMHJYjAQAALEATBgAADKEJM4cmDAAAwAI0YQAAwBCaMHMIYQAAwBBCmDksRwIAAFiAJgwAABhCE2YOTRgAAIAFaMIAAIAhNGHmEMIAAIAhhDBzWI4EAACwAE0YAAAwhCbMHJowAAAAC9CEAQAAQ2jCzCGEAQAAQwhh5rAcCQAAYAGaMAAAYAhNmDk0YQAAABagCQMAAIbQhJlDCAMAAIYQwsxhORIAAMACNGEAAMAQmjBzaMIAAAAsQBMGAAAMoQkzhxAGAAAMIYSZw3IkAACABWjCAACAITRh5tCEAQAAWIAmDAAAGEITZg4hDAAAGEIIM4flSAAAAAvQhAEAAENowsyhCQMAALAATRgAADDkVmvCHA6HJk2apH//%2B9/y9PTUQw89pIkTJ8rHx6fUvhMmTNDKlSvdxoqLixUTE6Np06Zp/PjxWrVqlby8vFzbvb29lZKSUu750IQBAABDSkoq/lWZJk6cqPPnz2v16tVavny50tPTNX369DL3nTp1qux2u%2Bu1bds2NWvWTL1793bt88ILL7jtcyMBTCKEAQCAO8CJEyeUnJyshIQE%2Bfv7KygoSCNHjtTy5ctVVFR03eMXLVqku%2B66Sw899FCFzYnlSAAAYEhlNFc5OTnKzc11GwsMDJTNZjN13j179sjLy0stW7Z0jYWFhencuXM6ePCg2/jPnTlzRh988IH%2B9re/uY1///332rBhgw4dOqTmzZtr0qRJCg8PL/ecCGEAAMCQyghhSUlJSkxMdBuLi4tTfHy8qfM6HA75%2BvrKw8PDNebn5ydJysvLu%2BaxS5YsUfv27XXvvfe6xoKDg%2BXp6akXX3xRtWrVUmJiop5%2B%2BmmtXbtW9erVK9ecCGEAAKDKGDhwoKKjo93GAgMDy3XsypUrNW7cuDK3JSQkyOl03vB8iouLtXTpUr377rtu46NGjXL7%2BZVXXtHq1auVnJysAQMGlOvchDAAAGBIZTRhNpvN8NJjTEyMYmJiytz27bffKj8/X8XFxa5vNDocDklSQEDAVc%2B5efNmFRYW6oEHHrjme3t5ealhw4bKyckp93y5MR8AANz2QkND5XQ6lZaW5hqz2%2B2qU6eOmjZtetXjNmzYoA4dOqhatf/0Vk6nU9OmTXM7V2FhoTIzMxUcHFzuORHCAACAIbfSIyr8/f3Vq1cvzZw5U6dOndLx48c1Z84c9e/f3xWwhg0bpjVr1rgdt2fPHjVu3NhtzMPDQ0eOHNHkyZOVnZ2tgoICTZ8%2BXdWrV9fDDz9c7jkRwgAAgCG3UgiTpClTpqh27drq0aOHnnjiCbVp00YJCQmu7YcPH9bp06fdjsnNzVX9%2BvVLneutt95SkyZN1K9fP3Xq1El79uzRokWLVLNmzXLPx8Np5C61O9FPvk0BwITISGnrVqldO2nbNqtnA9z6LPw13rFjxZ9z06aKP2dVxY35AADAkFvtzxZVNSxHAgAAWIAmDAAAGEITZg4hDAAAGEIIM4flSAAAAAvQhAEAAENowsyhCQMAALAATRgAADCEJswcQhgAADCEEGYOy5EAAAAWoAkDAACG0ISZQxMGAABgAZowAABgCE2YOYQwAABgCCHMHJYjAQAALEATBgAADKEJM4cmDAAAwAI0YQAAwBCaMHMIYQAAwBBCmDksRwIAAFiAJgwAABhCE2YOTRgAAIAFaMIAAIAhNGHmEMIAAIAhhDBzWI4EAACwAE0YAAAwhCbMHJowAAAAC9CEAQAAQ2jCzCGEAQAAQwhh5rAcCQAAYAGaMAAAYAhNmDk0YQAAABagCQMAAIbQhJlDCAMAAIYQwsxhORIAAMACNGEAAMAQmjBzCGEAAMAQQpg5LEcCAABYgCYMAAAYQhNmDk0YAACABWjCAACAITRh5hDCAACAIYQwc1iOBAAAdwy73a6ePXvqySefvO6%2BixcvVq9evdSuXTsNHjxYu3btcm27ePGi3njjDXXt2lVRUVEaPXq08vLybmguhDAAAGBISUnFvyrTqlWrFB8fr3vuuee6%2B3755ZeaPXu23nnnHX333Xfq3r27RowYoXPnzkmSZsyYodTUVCUlJWnt2rVyOp167bXXbmg%2BhDAAAHBHuHjxopKSktS2bdvr7puUlKR%2B/fqpbdu28vHx0bPPPitJ%2Buqrr3Tp0iV9/PHHGjlypBo2bKi6detqzJgx%2Bvrrr5WdnV3u%2BXBPGAAAMKQymqucnBzl5ua6jQUGBspms5k%2B94ABA8q9b2pqqvr06eP62dPTU6GhobLb7QoNDdXZs2cVFhbm2t68eXP5%2BPgoNTVVQUFB5XoPQlh5OZ1WzwC4LeTk5Chp9mwN/N//rZB/qAKwTmX8apw9O0mJiYluY3FxcYqPj6/4N7sGh8MhPz8/tzE/Pz/l5eXJ4XBIkurUqeO2vU6dOjd0XxghDMBNlZubq8TEREVHRxPCAJQycOBARUdHu40FBgaW69iVK1dq3LhxZW6bNm2a%2BvXrd0NzcV4nZV5v%2B/UQwgAAQJVhs9kM/wtaTEyMYmJiKmQe9erVczVeVzgcDt17773y9/d3/VyrVi3X9tOnTysgIKDc78GN%2BQAAAD8THh6u1NRU18/FxcXavXu32rZtq%2BDgYPn5%2Bblt37dvnwoLCxUeHl7u9yCEAQAASOrdu7dSUlIkSYMHD9aKFSu0fft2nT9/XnPnzlWNGjXUrVs3eXl56cknn9QHH3ygrKws5eXl6b333lPPnj1Vv379cr8fy5EAbqrAwEDFxcWV%2Bx4PAKgovXr10rFjx1RcXKySkhJFRERIkv73f/9XjRo1UkZGhus5YF27dtVLL72kMWPG6OTJk4qIiNC8efPk4%2BMjSRo9erQKCgoUExOjS5cuqXv37po0adINzcfDafauMgAAANwwliMBAAAsQAgDAACwACEMAADAAoQwAAAACxDCAAAALEAIAwAAsAAhDAAAwAKEMAAAAAsQwgAAACxACAMAALAAIQwAAMAC/AFvABXutddeK/e%2B06ZNq8SZAEDVRQgDUOEuXrzo%2Bu8lJSX65z//qcaNG6tp06YqKSlRenq6srOz9eijj1o4SwCwlofT6XRaPQkAt68pU6YoLCxMv/71r93Gly5dqgMHDujNN9%2B0aGYAYC1CGIBK1b59e23atEnVqrkX74WFherUqZNSUlIsmhkAWIsb8wFUqtq1a%2Bubb74pNb5p0ybVrl3bghkBQNXAPWEAKtWIESM0atQotW7dWo0bN1ZxcbGysrK0Z88evf7661ZPDwAsw3IkgEp38OBBbdiwQdnZ2SosLJTNZlPXrl3Vpk0bq6cGAJYhhAEAAFiA5UgAlSIpKalc%2Bw0cOLCSZwIAVRNNGIBKER0dfd19PDw8tGHDhpswGwCoeghhAAAAFuARFQAq1dW%2BAZmfn69Ro0bd5NkAQNXBPWEAKsXhw4f1448/atWqVerTp49%2BXrofOnRIGzdutGh2AGA9QhiASpGWlqZZs2apqKhIzzzzTKnt3t7eGjRokAUzA4CqgXvCAFSqmJgYrVy50uppAECVQwgDcFPs3LlTx48f1yOPPCJJunjxory9vS2eFQBYhxvzAVSq9PR0Pfrooxo6dKheeuklSdLRo0fVvXt37d692%2BLZAYB1CGEAKtWUKVPUo0cPbd68WZ6el/%2BR06hRIz333HOaNm2axbMDAOsQwgBUqp07d2r06NGqUaOGPDw8XOO/%2Bc1vtGfPHgtnBgDWIoQBqFR169bVmTNnSo1nZmaqWjW%2BoA3gzkUIA1CpunfvrtGjR2vjxo1yOp3as2ePPv30U40YMUJ9%2B/a1enoAYBm%2BHQmgUl28eFF//OMf9emnn6qgoEDS5XZs4MCBGjVqlGrUqGHxDAHAGoQwADeF0%2BnUyZMn5ePjI19fX6unAwCWYzkSQKU7fvy4/vKXv%2BhPf/qTK4Dt3LnT4lkBgLUIYQAq1YYNG/TII49o48aN%2BuijjyRJWVlZGj58uD7//HOLZwcA1iGEAahUM2fO1HvvvaeFCxe6HlHRsGFDzZkzR3PnzrV4dgBgHUIYgEp1%2BPBhRUdHS5Lbc8Lat2%2BvI0eOWDUtALAcIQxApbrrrru0d%2B/eUuMbN25UQECABTMCgKqBJyUCqFRDhgzRM888o/79%2B6u4uFgLFy7U3r17tWbNGo0bN87q6QGAZXhEBYBKt27dOi1fvlyZmZny8fFRcHCwBg0apE6dOlk9NQCwDCEMQKVasmSJOnbsqObNm1s9FQCoUghhACrVf/3Xf8lut6tu3brq2LGj6xUUFGT11ADAUoQwAJWusLBQO3fu1JYtW5SSkqIdO3YoICBAnTt31oQJE6yeHgBYghAG4Ka5dOmSdu3apZSUFK1YsULp6enas2eP1dMCAEsQwgBUqn/961/asmWLtmzZon379qlFixa67777FBkZqXbt2snf39/qKQKAJQhhACpVq1at1KxZMz355JMaMGCAatWqZfWUAKBKIIQBqFSbNm1SSkqKNm/erL1796pFixZ64IEHdP/996tdu3auP%2BgNAHcaQhiAm6aoqEh2u12bN2/WihUrdPjwYe3atcvqaQGAJXhiPoBKd%2BHCBe3cuVPbtm1zverWrat%2B/fpZPTUAsAxNGIBKkZWVpYYNG6pfv37at2%2BfgoKC9OCDD6pDhw7q0KEDzwkDcMcjhAGoFG3bttWOHTv08ccfKyoqSsHBwVZPCQCqFJYjAVSKK/9%2B179/f4tnAgBVk6fVEwBwe/Lw8LB6CgBQpbEcCaBShIaGqm3bttfd76OPProJswGAqoflSACVwtPTU126dLF6GgBQZdGEAagUV27MBwCUjXvCAFQK/v0OAK6NEAagUrRv397qKQBAlcZyJAAAgAVowgAAACxACAMAALAAIQwAAMAChDAAAAALEMIAAAAsQAgDAACwACEMAADAAv8fdktnu8cUFD8AAAAASUVORK5CYII%3D\" class=\"center-img\">\n",
              "</div>\n",
              "    <div class=\"row headerrow highlight\">\n",
              "        <h1>Sample</h1>\n",
              "    </div>\n",
              "    <div class=\"row variablerow\">\n",
              "    <div class=\"col-md-12\" style=\"overflow:scroll; width: 100%%; overflow-y: hidden;\">\n",
              "        <table border=\"1\" class=\"dataframe sample\">\n",
              "  <thead>\n",
              "    <tr style=\"text-align: right;\">\n",
              "      <th></th>\n",
              "      <th>TweetId</th>\n",
              "      <th>Label</th>\n",
              "      <th>TweetText</th>\n",
              "    </tr>\n",
              "  </thead>\n",
              "  <tbody>\n",
              "    <tr>\n",
              "      <th>0</th>\n",
              "      <td>304271250237304833</td>\n",
              "      <td>Politics</td>\n",
              "      <td>'#SecKerry: The value of the @StateDept and @USAID is measured, not in dollars, but in terms of our deepest American values.'</td>\n",
              "    </tr>\n",
              "    <tr>\n",
              "      <th>1</th>\n",
              "      <td>304834304222064640</td>\n",
              "      <td>Politics</td>\n",
              "      <td>'@rraina1481 I fear so'</td>\n",
              "    </tr>\n",
              "    <tr>\n",
              "      <th>2</th>\n",
              "      <td>303568995880144898</td>\n",
              "      <td>Sports</td>\n",
              "      <td>'Watch video highlights of the #wwc13 final between Australia and West Indies at http://t.co/lBXIIk3j'</td>\n",
              "    </tr>\n",
              "    <tr>\n",
              "      <th>3</th>\n",
              "      <td>304366580664528896</td>\n",
              "      <td>Sports</td>\n",
              "      <td>'RT @chelscanlan: At Nitro Circus at #AlbertPark ! #theymakeitlooksoeasy @ausgrandprix @ChadwickModels #CantWaitForAusGP'</td>\n",
              "    </tr>\n",
              "    <tr>\n",
              "      <th>4</th>\n",
              "      <td>296770931098009601</td>\n",
              "      <td>Sports</td>\n",
              "      <td>'@cricketfox Always a good thing. Thanks for the feedback :-)'</td>\n",
              "    </tr>\n",
              "  </tbody>\n",
              "</table>\n",
              "    </div>\n",
              "</div>\n",
              "</div>"
            ],
            "text/plain": [
              "<pandas_profiling.ProfileReport at 0x7fc251793860>"
            ]
          },
          "metadata": {
            "tags": []
          },
          "execution_count": 14
        }
      ]
    },
    {
      "cell_type": "code",
      "metadata": {
        "id": "3tUfwdMo92Oo",
        "colab_type": "code",
        "outputId": "31945b24-ddf4-44b3-9704-340a586ce1c1",
        "colab": {
          "base_uri": "https://localhost:8080/",
          "height": 525
        }
      },
      "source": [
        "# visualizing our labels by number of tweets\n",
        "import seaborn as sns\n",
        "\n",
        "sns.countplot(x='Label', data=train)"
      ],
      "execution_count": 0,
      "outputs": [
        {
          "output_type": "execute_result",
          "data": {
            "text/plain": [
              "<matplotlib.axes._subplots.AxesSubplot at 0x7fc2181a8f28>"
            ]
          },
          "metadata": {
            "tags": []
          },
          "execution_count": 15
        },
        {
          "output_type": "display_data",
          "data": {
            "image/png": "[encoded data removed]",
            "text/plain": [
              "<Figure size 800x550 with 1 Axes>"
            ]
          },
          "metadata": {
            "tags": []
          }
        }
      ]
    },
    {
      "cell_type": "code",
      "metadata": {
        "id": "7to-GK_2oFiU",
        "colab_type": "code",
        "colab": {}
      },
      "source": [
        "train.drop('TweetId',axis = 1,inplace = True)\n",
        "test.drop('TweetId',axis = 1,inplace = True)"
      ],
      "execution_count": 0,
      "outputs": []
    },
    {
      "cell_type": "code",
      "metadata": {
        "id": "onPDRbqAnwFu",
        "colab_type": "code",
        "outputId": "c2f1b3a6-f7a6-4644-c41b-5bd3e4fdf3ea",
        "colab": {
          "base_uri": "https://localhost:8080/",
          "height": 204
        }
      },
      "source": [
        "#remove the user handles (@user)\n",
        "train['TweetText'] = train['TweetText'].str.replace(\"@\", \"\") \n",
        "test['TweetText'] = test['TweetText'].str.replace(\"@\", \"\") \n",
        "train.head()"
      ],
      "execution_count": 0,
      "outputs": [
        {
          "output_type": "execute_result",
          "data": {
            "text/html": [
              "<div>\n",
              "<style scoped>\n",
              "    .dataframe tbody tr th:only-of-type {\n",
              "        vertical-align: middle;\n",
              "    }\n",
              "\n",
              "    .dataframe tbody tr th {\n",
              "        vertical-align: top;\n",
              "    }\n",
              "\n",
              "    .dataframe thead th {\n",
              "        text-align: right;\n",
              "    }\n",
              "</style>\n",
              "<table border=\"1\" class=\"dataframe\">\n",
              "  <thead>\n",
              "    <tr style=\"text-align: right;\">\n",
              "      <th></th>\n",
              "      <th>Label</th>\n",
              "      <th>TweetText</th>\n",
              "    </tr>\n",
              "  </thead>\n",
              "  <tbody>\n",
              "    <tr>\n",
              "      <th>0</th>\n",
              "      <td>Politics</td>\n",
              "      <td>SecKerry  The value of the StateDept and USA...</td>\n",
              "    </tr>\n",
              "    <tr>\n",
              "      <th>1</th>\n",
              "      <td>Politics</td>\n",
              "      <td>rraina     I fear so</td>\n",
              "    </tr>\n",
              "    <tr>\n",
              "      <th>2</th>\n",
              "      <td>Sports</td>\n",
              "      <td>Watch video highlights of the  wwc   final be...</td>\n",
              "    </tr>\n",
              "    <tr>\n",
              "      <th>3</th>\n",
              "      <td>Sports</td>\n",
              "      <td>RT chelscanlan  At Nitro Circus at  AlbertPar...</td>\n",
              "    </tr>\n",
              "    <tr>\n",
              "      <th>4</th>\n",
              "      <td>Sports</td>\n",
              "      <td>cricketfox Always a good thing  Thanks for th...</td>\n",
              "    </tr>\n",
              "  </tbody>\n",
              "</table>\n",
              "</div>"
            ],
            "text/plain": [
              "      Label                                          TweetText\n",
              "0  Politics    SecKerry  The value of the StateDept and USA...\n",
              "1  Politics                              rraina     I fear so \n",
              "2    Sports   Watch video highlights of the  wwc   final be...\n",
              "3    Sports   RT chelscanlan  At Nitro Circus at  AlbertPar...\n",
              "4    Sports   cricketfox Always a good thing  Thanks for th..."
            ]
          },
          "metadata": {
            "tags": []
          },
          "execution_count": 20
        }
      ]
    },
    {
      "cell_type": "code",
      "metadata": {
        "id": "euBSNtZkoRjc",
        "colab_type": "code",
        "outputId": "41cb27f1-8c86-4ea4-bbad-17882210e08f",
        "colab": {
          "base_uri": "https://localhost:8080/",
          "height": 204
        }
      },
      "source": [
        "#removing links\n",
        "train['TweetText'] = train['TweetText'].str.replace(r\"http\\S+\", \"\") \n",
        "test['TweetText'] = test['TweetText'].str.replace(r\"http\\S+\", \"\") \n",
        "train.head()"
      ],
      "execution_count": 0,
      "outputs": [
        {
          "output_type": "execute_result",
          "data": {
            "text/html": [
              "<div>\n",
              "<style scoped>\n",
              "    .dataframe tbody tr th:only-of-type {\n",
              "        vertical-align: middle;\n",
              "    }\n",
              "\n",
              "    .dataframe tbody tr th {\n",
              "        vertical-align: top;\n",
              "    }\n",
              "\n",
              "    .dataframe thead th {\n",
              "        text-align: right;\n",
              "    }\n",
              "</style>\n",
              "<table border=\"1\" class=\"dataframe\">\n",
              "  <thead>\n",
              "    <tr style=\"text-align: right;\">\n",
              "      <th></th>\n",
              "      <th>Label</th>\n",
              "      <th>TweetText</th>\n",
              "    </tr>\n",
              "  </thead>\n",
              "  <tbody>\n",
              "    <tr>\n",
              "      <th>0</th>\n",
              "      <td>Politics</td>\n",
              "      <td>SecKerry  The value of the StateDept and USA...</td>\n",
              "    </tr>\n",
              "    <tr>\n",
              "      <th>1</th>\n",
              "      <td>Politics</td>\n",
              "      <td>rraina     I fear so</td>\n",
              "    </tr>\n",
              "    <tr>\n",
              "      <th>2</th>\n",
              "      <td>Sports</td>\n",
              "      <td>Watch video highlights of the  wwc   final be...</td>\n",
              "    </tr>\n",
              "    <tr>\n",
              "      <th>3</th>\n",
              "      <td>Sports</td>\n",
              "      <td>RT chelscanlan  At Nitro Circus at  AlbertPar...</td>\n",
              "    </tr>\n",
              "    <tr>\n",
              "      <th>4</th>\n",
              "      <td>Sports</td>\n",
              "      <td>cricketfox Always a good thing  Thanks for th...</td>\n",
              "    </tr>\n",
              "  </tbody>\n",
              "</table>\n",
              "</div>"
            ],
            "text/plain": [
              "      Label                                          TweetText\n",
              "0  Politics    SecKerry  The value of the StateDept and USA...\n",
              "1  Politics                              rraina     I fear so \n",
              "2    Sports   Watch video highlights of the  wwc   final be...\n",
              "3    Sports   RT chelscanlan  At Nitro Circus at  AlbertPar...\n",
              "4    Sports   cricketfox Always a good thing  Thanks for th..."
            ]
          },
          "metadata": {
            "tags": []
          },
          "execution_count": 21
        }
      ]
    },
    {
      "cell_type": "code",
      "metadata": {
        "id": "E54P9n8zojsP",
        "colab_type": "code",
        "outputId": "e3491535-4e03-4bf6-f99d-b49cd54e62b1",
        "colab": {
          "base_uri": "https://localhost:8080/",
          "height": 204
        }
      },
      "source": [
        "#removing special characters\n",
        "train['TweetText'] = train['TweetText'].str.replace(\"[^a-zA-Z]\", \" \")\n",
        "test['TweetText'] = test['TweetText'].str.replace(\"[^a-zA-Z]\", \" \")\n",
        "train.head()"
      ],
      "execution_count": 0,
      "outputs": [
        {
          "output_type": "execute_result",
          "data": {
            "text/html": [
              "<div>\n",
              "<style scoped>\n",
              "    .dataframe tbody tr th:only-of-type {\n",
              "        vertical-align: middle;\n",
              "    }\n",
              "\n",
              "    .dataframe tbody tr th {\n",
              "        vertical-align: top;\n",
              "    }\n",
              "\n",
              "    .dataframe thead th {\n",
              "        text-align: right;\n",
              "    }\n",
              "</style>\n",
              "<table border=\"1\" class=\"dataframe\">\n",
              "  <thead>\n",
              "    <tr style=\"text-align: right;\">\n",
              "      <th></th>\n",
              "      <th>Label</th>\n",
              "      <th>TweetText</th>\n",
              "    </tr>\n",
              "  </thead>\n",
              "  <tbody>\n",
              "    <tr>\n",
              "      <th>0</th>\n",
              "      <td>Politics</td>\n",
              "      <td>SecKerry  The value of the StateDept and USA...</td>\n",
              "    </tr>\n",
              "    <tr>\n",
              "      <th>1</th>\n",
              "      <td>Politics</td>\n",
              "      <td>rraina     I fear so</td>\n",
              "    </tr>\n",
              "    <tr>\n",
              "      <th>2</th>\n",
              "      <td>Sports</td>\n",
              "      <td>Watch video highlights of the  wwc   final be...</td>\n",
              "    </tr>\n",
              "    <tr>\n",
              "      <th>3</th>\n",
              "      <td>Sports</td>\n",
              "      <td>RT chelscanlan  At Nitro Circus at  AlbertPar...</td>\n",
              "    </tr>\n",
              "    <tr>\n",
              "      <th>4</th>\n",
              "      <td>Sports</td>\n",
              "      <td>cricketfox Always a good thing  Thanks for th...</td>\n",
              "    </tr>\n",
              "  </tbody>\n",
              "</table>\n",
              "</div>"
            ],
            "text/plain": [
              "      Label                                          TweetText\n",
              "0  Politics    SecKerry  The value of the StateDept and USA...\n",
              "1  Politics                              rraina     I fear so \n",
              "2    Sports   Watch video highlights of the  wwc   final be...\n",
              "3    Sports   RT chelscanlan  At Nitro Circus at  AlbertPar...\n",
              "4    Sports   cricketfox Always a good thing  Thanks for th..."
            ]
          },
          "metadata": {
            "tags": []
          },
          "execution_count": 22
        }
      ]
    },
    {
      "cell_type": "code",
      "metadata": {
        "id": "axMcrwUUo1Dn",
        "colab_type": "code",
        "colab": {}
      },
      "source": [
        "#creating our stopwords to remove what isnt meaningful\n",
        "stopwords=nltk.corpus.stopwords.words('english')"
      ],
      "execution_count": 0,
      "outputs": []
    },
    {
      "cell_type": "code",
      "metadata": {
        "id": "DErLoxvNo3wt",
        "colab_type": "code",
        "colab": {}
      },
      "source": [
        "def remove_stopwords(text):\n",
        "    clean_text=' '.join([word for word in text.split() if word not in stopwords])\n",
        "    return clean_text"
      ],
      "execution_count": 0,
      "outputs": []
    },
    {
      "cell_type": "code",
      "metadata": {
        "id": "ksJQhww3o52G",
        "colab_type": "code",
        "colab": {}
      },
      "source": [
        "train['TweetText'] = train['TweetText'].apply(lambda text : remove_stopwords(text.lower()))\n",
        "test['TweetText'] = test['TweetText'].apply(lambda text : remove_stopwords(text.lower()))"
      ],
      "execution_count": 0,
      "outputs": []
    },
    {
      "cell_type": "code",
      "metadata": {
        "id": "91lgtYd0rgW6",
        "colab_type": "code",
        "colab": {}
      },
      "source": [
        "#writing function that removes punctuation (making sure its all clean and good to go)\n",
        "def remove_punctuation(text):\n",
        "    no_punc=\"\".join ([x for x in text if x not in string.punctuation])\n",
        "    return no_punc"
      ],
      "execution_count": 0,
      "outputs": []
    },
    {
      "cell_type": "code",
      "metadata": {
        "id": "E6sepp-pr9YF",
        "colab_type": "code",
        "outputId": "a34f08bf-adf9-4d48-edd8-ae5a877cd3fb",
        "colab": {
          "base_uri": "https://localhost:8080/",
          "height": 119
        }
      },
      "source": [
        "#removing punctuation and appending that column to a new one\n",
        "train['TextNoPunc'] = train['TweetText'].apply( lambda x: remove_punctuation(x))\n",
        "test['TextNoPunc'] = test['TweetText'].apply( lambda x: remove_punctuation(x))\n",
        "train['TextNoPunc'].head()"
      ],
      "execution_count": 0,
      "outputs": [
        {
          "output_type": "execute_result",
          "data": {
            "text/plain": [
              "0    seckerry value statedept usaid measured dollar...\n",
              "1                                          rraina fear\n",
              "2    watch video highlights wwc final australia wes...\n",
              "3    rt chelscanlan nitro circus albertpark theymak...\n",
              "4         cricketfox always good thing thanks feedback\n",
              "Name: TextNoPunc, dtype: object"
            ]
          },
          "metadata": {
            "tags": []
          },
          "execution_count": 27
        }
      ]
    },
    {
      "cell_type": "code",
      "metadata": {
        "id": "BL4WDHddqcwf",
        "colab_type": "code",
        "colab": {}
      },
      "source": [
        "#using keras word tokenizer to seperate each words of the sentences included in the column, also adding it to a new column as well\n",
        "train['TextToken'] = train['TextNoPunc'].apply(word_tokenize)\n",
        "test['TextToken'] = test['TextNoPunc'].apply(word_tokenize)"
      ],
      "execution_count": 0,
      "outputs": []
    },
    {
      "cell_type": "code",
      "metadata": {
        "id": "9zOVwQkDpXa8",
        "colab_type": "code",
        "outputId": "3d12ea1c-2d4d-47af-b0ed-7e46399eb19f",
        "colab": {
          "base_uri": "https://localhost:8080/",
          "height": 119
        }
      },
      "source": [
        "#we can see the properly cleaned and tokenized tweets now\n",
        "train['TextToken'].head()"
      ],
      "execution_count": 0,
      "outputs": [
        {
          "output_type": "execute_result",
          "data": {
            "text/plain": [
              "0    [seckerry, value, statedept, usaid, measured, ...\n",
              "1                                       [rraina, fear]\n",
              "2    [watch, video, highlights, wwc, final, austral...\n",
              "3    [rt, chelscanlan, nitro, circus, albertpark, t...\n",
              "4    [cricketfox, always, good, thing, thanks, feed...\n",
              "Name: TextToken, dtype: object"
            ]
          },
          "metadata": {
            "tags": []
          },
          "execution_count": 29
        }
      ]
    },
    {
      "cell_type": "code",
      "metadata": {
        "id": "YtgjhKsO8lyV",
        "colab_type": "code",
        "colab": {}
      },
      "source": [
        "#setting up our Label as the y\n",
        "y = train['Label']\n",
        "y = np.array(list(map(lambda x: 1 if x==\"Politics\" else 0, y)))\n",
        "train_label = train['Label'].values"
      ],
      "execution_count": 0,
      "outputs": []
    },
    {
      "cell_type": "code",
      "metadata": {
        "id": "lc8e-PuVs1xy",
        "colab_type": "code",
        "colab": {}
      },
      "source": [
        "#i prefered training and testing on the train dataset to have a better accuracy\n",
        "X_train, X_test, y_train, y_test = train_test_split(train['TextToken'].values, y, test_size=0.20, random_state=42)"
      ],
      "execution_count": 0,
      "outputs": []
    },
    {
      "cell_type": "code",
      "metadata": {
        "id": "2u52xuXz9IYj",
        "colab_type": "code",
        "colab": {}
      },
      "source": [
        "#now we tokenize our words again, from keras preprocessing module to create a word to index dictionnary, hence the usage of the kaggle text file\n",
        "tokenizer = Tokenizer(num_words=5000)\n",
        "tokenizer.fit_on_texts(X_train)\n",
        "\n",
        "X_train = tokenizer.texts_to_sequences(X_train)\n",
        "X_test = tokenizer.texts_to_sequences(X_test)"
      ],
      "execution_count": 0,
      "outputs": []
    },
    {
      "cell_type": "code",
      "metadata": {
        "id": "huT9Pv8t9y-o",
        "colab_type": "code",
        "colab": {}
      },
      "source": [
        "#now we find vocabulary size and then perform padding on both train and test set (the test set here is still 10% of the training one).\n",
        "vocab_size = len(tokenizer.word_index) + 1\n",
        "\n",
        "maxlen = 500\n",
        "\n",
        "X_train = pad_sequences(X_train, padding='post', maxlen=maxlen)\n",
        "X_test = pad_sequences(X_test, padding='post', maxlen=maxlen)"
      ],
      "execution_count": 0,
      "outputs": []
    },
    {
      "cell_type": "code",
      "metadata": {
        "id": "9Ii5ZSnJ97yX",
        "colab_type": "code",
        "colab": {}
      },
      "source": [
        "#we use glove embeddings 6B 100d to get our global vectors for word representation\n",
        "from numpy import array\n",
        "from numpy import asarray\n",
        "from numpy import zeros\n",
        "\n",
        "embeddings_dictionary = dict()\n",
        "glove_file = open('glove.6B.100d.txt', encoding=\"utf8\")\n",
        "\n",
        "for line in glove_file:\n",
        "    records = line.split()\n",
        "    word = records[0]\n",
        "    vector_dimensions = asarray(records[1:], dtype='float32')\n",
        "    embeddings_dictionary [word] = vector_dimensions\n",
        "glove_file.close()"
      ],
      "execution_count": 0,
      "outputs": []
    },
    {
      "cell_type": "code",
      "metadata": {
        "id": "57P6phvDCU64",
        "colab_type": "code",
        "colab": {}
      },
      "source": [
        "# now we create an embedding matrix where each row number will correspond to the index of the word in the corpus\n",
        "embedding_matrix = zeros((vocab_size, 100))\n",
        "for word, index in tokenizer.word_index.items():\n",
        "    embedding_vector = embeddings_dictionary.get(word)\n",
        "    if embedding_vector is not None:\n",
        "        embedding_matrix[index] = embedding_vector"
      ],
      "execution_count": 0,
      "outputs": []
    },
    {
      "cell_type": "code",
      "metadata": {
        "id": "kO1vNs4A0fYR",
        "colab_type": "code",
        "outputId": "c52faf41-6028-4586-bbe4-d3ef1834ccc9",
        "colab": {
          "base_uri": "https://localhost:8080/",
          "height": 462
        }
      },
      "source": [
        "from keras.layers.convolutional import Conv1D\n",
        "model = Sequential()\n",
        "\n",
        "embedding_layer = Embedding(vocab_size, 100, weights=[embedding_matrix], input_length=maxlen , trainable=False)\n",
        "model.add(embedding_layer)\n",
        "\n",
        "model.add(Conv1D(128, 5, activation='relu'))\n",
        "model.add(GlobalMaxPooling1D())\n",
        "model.add(Dense(1, activation='sigmoid'))\n",
        "model.compile(optimizer='adam', loss='binary_crossentropy', metrics=['acc'])"
      ],
      "execution_count": 0,
      "outputs": [
        {
          "output_type": "stream",
          "text": [
            "WARNING:tensorflow:From /usr/local/lib/python3.6/dist-packages/keras/backend/tensorflow_backend.py:66: The name tf.get_default_graph is deprecated. Please use tf.compat.v1.get_default_graph instead.\n",
            "\n",
            "WARNING:tensorflow:From /usr/local/lib/python3.6/dist-packages/keras/backend/tensorflow_backend.py:541: The name tf.placeholder is deprecated. Please use tf.compat.v1.placeholder instead.\n",
            "\n",
            "WARNING:tensorflow:From /usr/local/lib/python3.6/dist-packages/keras/backend/tensorflow_backend.py:4432: The name tf.random_uniform is deprecated. Please use tf.random.uniform instead.\n",
            "\n",
            "WARNING:tensorflow:From /usr/local/lib/python3.6/dist-packages/keras/backend/tensorflow_backend.py:190: The name tf.get_default_session is deprecated. Please use tf.compat.v1.get_default_session instead.\n",
            "\n",
            "WARNING:tensorflow:From /usr/local/lib/python3.6/dist-packages/keras/backend/tensorflow_backend.py:197: The name tf.ConfigProto is deprecated. Please use tf.compat.v1.ConfigProto instead.\n",
            "\n",
            "WARNING:tensorflow:From /usr/local/lib/python3.6/dist-packages/keras/backend/tensorflow_backend.py:203: The name tf.Session is deprecated. Please use tf.compat.v1.Session instead.\n",
            "\n",
            "WARNING:tensorflow:From /usr/local/lib/python3.6/dist-packages/keras/backend/tensorflow_backend.py:207: The name tf.global_variables is deprecated. Please use tf.compat.v1.global_variables instead.\n",
            "\n",
            "WARNING:tensorflow:From /usr/local/lib/python3.6/dist-packages/keras/backend/tensorflow_backend.py:216: The name tf.is_variable_initialized is deprecated. Please use tf.compat.v1.is_variable_initialized instead.\n",
            "\n",
            "WARNING:tensorflow:From /usr/local/lib/python3.6/dist-packages/keras/backend/tensorflow_backend.py:223: The name tf.variables_initializer is deprecated. Please use tf.compat.v1.variables_initializer instead.\n",
            "\n",
            "WARNING:tensorflow:From /usr/local/lib/python3.6/dist-packages/keras/optimizers.py:793: The name tf.train.Optimizer is deprecated. Please use tf.compat.v1.train.Optimizer instead.\n",
            "\n",
            "WARNING:tensorflow:From /usr/local/lib/python3.6/dist-packages/keras/backend/tensorflow_backend.py:3657: The name tf.log is deprecated. Please use tf.math.log instead.\n",
            "\n",
            "WARNING:tensorflow:From /usr/local/lib/python3.6/dist-packages/tensorflow_core/python/ops/nn_impl.py:183: where (from tensorflow.python.ops.array_ops) is deprecated and will be removed in a future version.\n",
            "Instructions for updating:\n",
            "Use tf.where in 2.0, which has the same broadcast rule as np.where\n"
          ],
          "name": "stdout"
        }
      ]
    },
    {
      "cell_type": "code",
      "metadata": {
        "id": "MX6r9gHt0fWB",
        "colab_type": "code",
        "outputId": "683216a2-9ee8-4b50-d638-374c910dbbbf",
        "colab": {
          "base_uri": "https://localhost:8080/",
          "height": 306
        }
      },
      "source": [
        "print(model.summary())"
      ],
      "execution_count": 0,
      "outputs": [
        {
          "output_type": "stream",
          "text": [
            "Model: \"sequential_1\"\n",
            "_________________________________________________________________\n",
            "Layer (type)                 Output Shape              Param #   \n",
            "=================================================================\n",
            "embedding_1 (Embedding)      (None, 500, 100)          1101800   \n",
            "_________________________________________________________________\n",
            "conv1d_1 (Conv1D)            (None, 496, 128)          64128     \n",
            "_________________________________________________________________\n",
            "global_max_pooling1d_1 (Glob (None, 128)               0         \n",
            "_________________________________________________________________\n",
            "dense_1 (Dense)              (None, 1)                 129       \n",
            "=================================================================\n",
            "Total params: 1,166,057\n",
            "Trainable params: 64,257\n",
            "Non-trainable params: 1,101,800\n",
            "_________________________________________________________________\n",
            "None\n"
          ],
          "name": "stdout"
        }
      ]
    },
    {
      "cell_type": "code",
      "metadata": {
        "id": "qb0f5BWX0jtK",
        "colab_type": "code",
        "outputId": "528f07db-1585-4d8d-ca20-344e0c35a391",
        "colab": {
          "base_uri": "https://localhost:8080/",
          "height": 343
        }
      },
      "source": [
        "history = model.fit(X_train, y_train, batch_size=128, epochs=6, verbose=1, validation_split=0.2)\n",
        "\n",
        "score = model.evaluate(X_test, y_test, verbose=1)"
      ],
      "execution_count": 0,
      "outputs": [
        {
          "output_type": "stream",
          "text": [
            "WARNING:tensorflow:From /usr/local/lib/python3.6/dist-packages/keras/backend/tensorflow_backend.py:1033: The name tf.assign_add is deprecated. Please use tf.compat.v1.assign_add instead.\n",
            "\n",
            "WARNING:tensorflow:From /usr/local/lib/python3.6/dist-packages/keras/backend/tensorflow_backend.py:1020: The name tf.assign is deprecated. Please use tf.compat.v1.assign instead.\n",
            "\n",
            "Train on 4176 samples, validate on 1044 samples\n",
            "Epoch 1/6\n",
            "4176/4176 [==============================] - 16s 4ms/step - loss: 0.3182 - acc: 0.8676 - val_loss: 0.2045 - val_acc: 0.9061\n",
            "Epoch 2/6\n",
            "4176/4176 [==============================] - 16s 4ms/step - loss: 0.1865 - acc: 0.9253 - val_loss: 0.1922 - val_acc: 0.9090\n",
            "Epoch 3/6\n",
            "4176/4176 [==============================] - 15s 4ms/step - loss: 0.1497 - acc: 0.9428 - val_loss: 0.1855 - val_acc: 0.9148\n",
            "Epoch 4/6\n",
            "4176/4176 [==============================] - 15s 4ms/step - loss: 0.1253 - acc: 0.9564 - val_loss: 0.1820 - val_acc: 0.9167\n",
            "Epoch 5/6\n",
            "4176/4176 [==============================] - 15s 4ms/step - loss: 0.1035 - acc: 0.9674 - val_loss: 0.1818 - val_acc: 0.9100\n",
            "Epoch 6/6\n",
            "4176/4176 [==============================] - 15s 4ms/step - loss: 0.0874 - acc: 0.9753 - val_loss: 0.1825 - val_acc: 0.9148\n",
            "1305/1305 [==============================] - 2s 1ms/step\n"
          ],
          "name": "stdout"
        }
      ]
    },
    {
      "cell_type": "code",
      "metadata": {
        "id": "20ifqL690fTK",
        "colab_type": "code",
        "outputId": "bb4e7856-e2c2-4b52-a519-5f0297fea5e3",
        "colab": {
          "base_uri": "https://localhost:8080/",
          "height": 51
        }
      },
      "source": [
        "print(\"Test Score:\", score[0])\n",
        "print(\"Test Accuracy:\", score[1])"
      ],
      "execution_count": 0,
      "outputs": [
        {
          "output_type": "stream",
          "text": [
            "Test Score: 0.1633854128620177\n",
            "Test Accuracy: 0.9210727964324513\n"
          ],
          "name": "stdout"
        }
      ]
    },
    {
      "cell_type": "code",
      "metadata": {
        "id": "Odve3icP0fPk",
        "colab_type": "code",
        "outputId": "762f028a-14d4-40ae-c173-e98cf59018ba",
        "colab": {
          "base_uri": "https://localhost:8080/",
          "height": 1000
        }
      },
      "source": [
        "import matplotlib.pyplot as plt\n",
        "\n",
        "plt.plot(history.history['acc'])\n",
        "plt.plot(history.history['val_acc'])\n",
        "\n",
        "plt.title('model accuracy')\n",
        "plt.ylabel('accuracy')\n",
        "plt.xlabel('epoch')\n",
        "plt.legend(['train','test'], loc = 'upper left')\n",
        "plt.show()\n",
        "\n",
        "plt.plot(history.history['loss'])\n",
        "plt.plot(history.history['val_loss'])\n",
        "\n",
        "plt.title('model loss')\n",
        "plt.ylabel('loss')\n",
        "plt.xlabel('epoch')\n",
        "plt.legend(['train','test'], loc = 'upper left')\n",
        "plt.show()"
      ],
      "execution_count": 0,
      "outputs": [
        {
          "output_type": "display_data",
          "data": {
            "image/png": "[encoded data removed]",
            "text/plain": [
              "<Figure size 800x550 with 1 Axes>"
            ]
          },
          "metadata": {
            "tags": []
          }
        },
        {
          "output_type": "display_data",
          "data": {
            "image/png": "[encoded data removed]",
            "text/plain": [
              "<Figure size 800x550 with 1 Axes>"
            ]
          },
          "metadata": {
            "tags": []
          }
        }
      ]
    },
    {
      "cell_type": "code",
      "metadata": {
        "id": "OVlJxRjAYp7U",
        "colab_type": "code",
        "colab": {}
      },
      "source": [
        "X_newtest = test['TextToken'].values"
      ],
      "execution_count": 0,
      "outputs": []
    },
    {
      "cell_type": "code",
      "metadata": {
        "id": "oBT2D7QrS3PK",
        "colab_type": "code",
        "colab": {}
      },
      "source": [
        "X_newtest = tokenizer.texts_to_sequences(X_newtest)\n",
        "X_newtest = pad_sequences(X_newtest, padding='post', maxlen=maxlen)"
      ],
      "execution_count": 0,
      "outputs": []
    },
    {
      "cell_type": "code",
      "metadata": {
        "id": "c5pBeejgCVE0",
        "colab_type": "code",
        "outputId": "69c416a9-8be5-46e6-8309-063a227d6999",
        "colab": {
          "base_uri": "https://localhost:8080/",
          "height": 34
        }
      },
      "source": [
        "prediction = model.predict(X_newtest,batch_size=128, verbose=1 )"
      ],
      "execution_count": 0,
      "outputs": [
        {
          "output_type": "stream",
          "text": [
            "2610/2610 [==============================] - 3s 1ms/step\n"
          ],
          "name": "stdout"
        }
      ]
    },
    {
      "cell_type": "code",
      "metadata": {
        "id": "eLG0WBoV470P",
        "colab_type": "code",
        "colab": {}
      },
      "source": [
        "prediction = np.array(list(map(lambda x: \"Politics\" if x>=0.5 else \"Sports\", prediction)))"
      ],
      "execution_count": 0,
      "outputs": []
    },
    {
      "cell_type": "code",
      "metadata": {
        "id": "JoNfz2UKY_jJ",
        "colab_type": "code",
        "colab": {}
      },
      "source": [
        "submission = {\n",
        "    'TweetId': test_TweetId,\n",
        "    'Label': prediction\n",
        "}\n",
        "solution = pd.DataFrame(submission)\n",
        "solution.head()\n",
        "solution.to_csv(\"submission.csv\",index=False)"
      ],
      "execution_count": 0,
      "outputs": []
    }
  ]
}
